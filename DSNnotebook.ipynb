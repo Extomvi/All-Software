{
  "nbformat": 4,
  "nbformat_minor": 0,
  "metadata": {
    "accelerator": "GPU",
    "colab": {
      "name": "notebook.ipynb",
      "provenance": [],
      "collapsed_sections": [],
      "toc_visible": true,
      "include_colab_link": true
    },
    "kernelspec": {
      "display_name": "Python 3",
      "language": "python",
      "name": "python3"
    },
    "language_info": {
      "codemirror_mode": {
        "name": "ipython",
        "version": 3
      },
      "file_extension": ".py",
      "mimetype": "text/x-python",
      "name": "python",
      "nbconvert_exporter": "python",
      "pygments_lexer": "ipython3",
      "version": "3.7.4"
    }
  },
  "cells": [
    {
      "cell_type": "markdown",
      "metadata": {
        "id": "view-in-github",
        "colab_type": "text"
      },
      "source": [
        "<a href=\"https://colab.research.google.com/github/Extomvi/All-Software/blob/master/DSNnotebook.ipynb\" target=\"_parent\"><img src=\"https://colab.research.google.com/assets/colab-badge.svg\" alt=\"Open In Colab\"/></a>"
      ]
    },
    {
      "cell_type": "code",
      "metadata": {
        "colab_type": "code",
        "id": "wV2xRbOyLMkO",
        "outputId": "9894de5f-f849-425d-8f4d-c37c9ef465a3",
        "colab": {
          "base_uri": "https://localhost:8080/",
          "height": 360
        }
      },
      "source": [
        "!pip install catboost"
      ],
      "execution_count": 0,
      "outputs": [
        {
          "output_type": "stream",
          "text": [
            "Collecting catboost\n",
            "\u001b[?25l  Downloading https://files.pythonhosted.org/packages/14/14/35b211f9b1c779faba8061b696760f6da743a15d7b215cd6babb211ced0c/catboost-0.18-cp36-none-manylinux1_x86_64.whl (62.9MB)\n",
            "\u001b[K     |████████████████████████████████| 62.9MB 123kB/s \n",
            "\u001b[?25hRequirement already satisfied: matplotlib in /usr/local/lib/python3.6/dist-packages (from catboost) (3.0.3)\n",
            "Requirement already satisfied: scipy in /usr/local/lib/python3.6/dist-packages (from catboost) (1.3.1)\n",
            "Requirement already satisfied: pandas>=0.24.0 in /usr/local/lib/python3.6/dist-packages (from catboost) (0.24.2)\n",
            "Requirement already satisfied: numpy>=1.16.0 in /usr/local/lib/python3.6/dist-packages (from catboost) (1.16.5)\n",
            "Requirement already satisfied: graphviz in /usr/local/lib/python3.6/dist-packages (from catboost) (0.10.1)\n",
            "Requirement already satisfied: six in /usr/local/lib/python3.6/dist-packages (from catboost) (1.12.0)\n",
            "Requirement already satisfied: plotly in /usr/local/lib/python3.6/dist-packages (from catboost) (4.1.1)\n",
            "Requirement already satisfied: kiwisolver>=1.0.1 in /usr/local/lib/python3.6/dist-packages (from matplotlib->catboost) (1.1.0)\n",
            "Requirement already satisfied: python-dateutil>=2.1 in /usr/local/lib/python3.6/dist-packages (from matplotlib->catboost) (2.5.3)\n",
            "Requirement already satisfied: pyparsing!=2.0.4,!=2.1.2,!=2.1.6,>=2.0.1 in /usr/local/lib/python3.6/dist-packages (from matplotlib->catboost) (2.4.2)\n",
            "Requirement already satisfied: cycler>=0.10 in /usr/local/lib/python3.6/dist-packages (from matplotlib->catboost) (0.10.0)\n",
            "Requirement already satisfied: pytz>=2011k in /usr/local/lib/python3.6/dist-packages (from pandas>=0.24.0->catboost) (2018.9)\n",
            "Requirement already satisfied: retrying>=1.3.3 in /usr/local/lib/python3.6/dist-packages (from plotly->catboost) (1.3.3)\n",
            "Requirement already satisfied: setuptools in /usr/local/lib/python3.6/dist-packages (from kiwisolver>=1.0.1->matplotlib->catboost) (41.4.0)\n",
            "Installing collected packages: catboost\n",
            "Successfully installed catboost-0.18\n"
          ],
          "name": "stdout"
        }
      ]
    },
    {
      "cell_type": "code",
      "metadata": {
        "id": "paoB2ZY10tpp",
        "colab_type": "code",
        "outputId": "f4b5ea20-29f3-4315-8e24-46113f7f6c2f",
        "colab": {
          "base_uri": "https://localhost:8080/",
          "height": 122
        }
      },
      "source": [
        "pip install sklearn"
      ],
      "execution_count": 0,
      "outputs": [
        {
          "output_type": "stream",
          "text": [
            "Requirement already satisfied: sklearn in /usr/local/lib/python3.6/dist-packages (0.0)\n",
            "Requirement already satisfied: scikit-learn in /usr/local/lib/python3.6/dist-packages (from sklearn) (0.21.3)\n",
            "Requirement already satisfied: scipy>=0.17.0 in /usr/local/lib/python3.6/dist-packages (from scikit-learn->sklearn) (1.3.1)\n",
            "Requirement already satisfied: numpy>=1.11.0 in /usr/local/lib/python3.6/dist-packages (from scikit-learn->sklearn) (1.16.5)\n",
            "Requirement already satisfied: joblib>=0.11 in /usr/local/lib/python3.6/dist-packages (from scikit-learn->sklearn) (0.14.0)\n"
          ],
          "name": "stdout"
        }
      ]
    },
    {
      "cell_type": "code",
      "metadata": {
        "colab_type": "code",
        "id": "FsnhA8M_-CKe",
        "outputId": "6faa2ac5-5e50-4053-df2c-cac33cc29642",
        "colab": {
          "base_uri": "https://localhost:8080/",
          "height": 387
        }
      },
      "source": [
        "# import the necessary packages\n",
        "# import the necessary packages\n",
        "import numpy as np\n",
        "import pandas as pd\n",
        "import os\n",
        "import matplotlib.pyplot as plt\n",
        "from matplotlib import pyplot\n",
        "import seaborn as sns\n",
        "from imblearn.over_sampling import SMOTE\n",
        "from imblearn.pipeline import make_pipeline\n",
        "from sklearn.model_selection import train_test_split\n",
        "import xgboost as xgb\n",
        "from xgboost import plot_importance\n",
        "from sklearn import ensemble\n",
        "from sklearn.ensemble import *\n",
        "from sklearn.dummy import DummyClassifier\n",
        "from sklearn.metrics import accuracy_score, f1_score, confusion_matrix, recall_score, classification_report, roc_auc_score\n",
        "from collections import Counter\n",
        "from sklearn.experimental import enable_hist_gradient_boosting  # noqa\n",
        "from sklearn.ensemble import RandomForestClassifier, AdaBoostClassifier, GradientBoostingClassifier, ExtraTreesClassifier, VotingClassifier, HistGradientBoostingClassifier, BaggingClassifier\n",
        "from sklearn.model_selection import KFold\n",
        "from sklearn.model_selection import StratifiedKFold\n",
        "from sklearn.model_selection import cross_val_score\n",
        "from sklearn.discriminant_analysis import LinearDiscriminantAnalysis\n",
        "from sklearn.linear_model import LogisticRegression\n",
        "from sklearn.neighbors import KNeighborsClassifier\n",
        "from sklearn.tree import DecisionTreeClassifier\n",
        "from sklearn.neural_network import MLPClassifier\n",
        "from sklearn.svm import SVC\n",
        "from sklearn.model_selection import GridSearchCV, cross_val_score, StratifiedKFold, learning_curve, KFold\n",
        "from catboost import Pool, CatBoostClassifier, cv\n",
        "\n",
        "sns.set(style='white', context='notebook', palette='deep')\n",
        "\n",
        "## Hyperopt modules\n",
        "from hyperopt import fmin, hp, tpe, Trials, space_eval, STATUS_OK, STATUS_RUNNING\n",
        "from functools import partial"
      ],
      "execution_count": 0,
      "outputs": [
        {
          "output_type": "error",
          "ename": "ModuleNotFoundError",
          "evalue": "ignored",
          "traceback": [
            "\u001b[0;31m---------------------------------------------------------------------------\u001b[0m",
            "\u001b[0;31mModuleNotFoundError\u001b[0m                       Traceback (most recent call last)",
            "\u001b[0;32m<ipython-input-12-7394506b0f1e>\u001b[0m in \u001b[0;36m<module>\u001b[0;34m()\u001b[0m\n\u001b[1;32m     15\u001b[0m \u001b[0;32mfrom\u001b[0m \u001b[0msklearn\u001b[0m\u001b[0;34m.\u001b[0m\u001b[0mmetrics\u001b[0m \u001b[0;32mimport\u001b[0m \u001b[0maccuracy_score\u001b[0m\u001b[0;34m,\u001b[0m \u001b[0mf1_score\u001b[0m\u001b[0;34m,\u001b[0m \u001b[0mconfusion_matrix\u001b[0m\u001b[0;34m,\u001b[0m \u001b[0mrecall_score\u001b[0m\u001b[0;34m,\u001b[0m \u001b[0mclassification_report\u001b[0m\u001b[0;34m,\u001b[0m \u001b[0mroc_auc_score\u001b[0m\u001b[0;34m\u001b[0m\u001b[0;34m\u001b[0m\u001b[0m\n\u001b[1;32m     16\u001b[0m \u001b[0;32mfrom\u001b[0m \u001b[0mcollections\u001b[0m \u001b[0;32mimport\u001b[0m \u001b[0mCounter\u001b[0m\u001b[0;34m\u001b[0m\u001b[0;34m\u001b[0m\u001b[0m\n\u001b[0;32m---> 17\u001b[0;31m \u001b[0;32mfrom\u001b[0m \u001b[0msklearn\u001b[0m\u001b[0;34m.\u001b[0m\u001b[0mexperimental\u001b[0m \u001b[0;32mimport\u001b[0m \u001b[0menable_hist_gradient_boosting\u001b[0m  \u001b[0;31m# noqa\u001b[0m\u001b[0;34m\u001b[0m\u001b[0;34m\u001b[0m\u001b[0m\n\u001b[0m\u001b[1;32m     18\u001b[0m \u001b[0;32mfrom\u001b[0m \u001b[0msklearn\u001b[0m\u001b[0;34m.\u001b[0m\u001b[0mensemble\u001b[0m \u001b[0;32mimport\u001b[0m \u001b[0mRandomForestClassifier\u001b[0m\u001b[0;34m,\u001b[0m \u001b[0mAdaBoostClassifier\u001b[0m\u001b[0;34m,\u001b[0m \u001b[0mGradientBoostingClassifier\u001b[0m\u001b[0;34m,\u001b[0m \u001b[0mExtraTreesClassifier\u001b[0m\u001b[0;34m,\u001b[0m \u001b[0mVotingClassifier\u001b[0m\u001b[0;34m,\u001b[0m \u001b[0mHistGradientBoostingClassifier\u001b[0m\u001b[0;34m,\u001b[0m \u001b[0mBaggingClassifier\u001b[0m\u001b[0;34m\u001b[0m\u001b[0;34m\u001b[0m\u001b[0m\n\u001b[1;32m     19\u001b[0m \u001b[0;32mfrom\u001b[0m \u001b[0msklearn\u001b[0m\u001b[0;34m.\u001b[0m\u001b[0mmodel_selection\u001b[0m \u001b[0;32mimport\u001b[0m \u001b[0mKFold\u001b[0m\u001b[0;34m\u001b[0m\u001b[0;34m\u001b[0m\u001b[0m\n",
            "\u001b[0;31mModuleNotFoundError\u001b[0m: No module named 'sklearn.experimental'",
            "",
            "\u001b[0;31m---------------------------------------------------------------------------\u001b[0;32m\nNOTE: If your import is failing due to a missing package, you can\nmanually install dependencies using either !pip or !apt.\n\nTo view examples of installing some common dependencies, click the\n\"Open Examples\" button below.\n\u001b[0;31m---------------------------------------------------------------------------\u001b[0m\n"
          ]
        }
      ]
    },
    {
      "cell_type": "markdown",
      "metadata": {
        "colab_type": "text",
        "id": "mrpB3GlAMBQp"
      },
      "source": [
        "## Get data"
      ]
    },
    {
      "cell_type": "code",
      "metadata": {
        "colab_type": "code",
        "id": "Ql8R3dmvt2f4",
        "colab": {}
      },
      "source": [
        "!pip install -q kaggle"
      ],
      "execution_count": 0,
      "outputs": []
    },
    {
      "cell_type": "code",
      "metadata": {
        "colab_type": "code",
        "id": "Rk9TEYifW0uV",
        "outputId": "52cbf206-eacb-4742-836f-cceff426c053",
        "colab": {
          "base_uri": "https://localhost:8080/",
          "height": 34
        }
      },
      "source": [
        "!mkdir -p ~/.kaggle\n",
        "!cp kaggle.json ~/.kaggle/"
      ],
      "execution_count": 0,
      "outputs": [
        {
          "output_type": "stream",
          "text": [
            "cp: cannot stat 'kaggle.json': No such file or directory\n"
          ],
          "name": "stdout"
        }
      ]
    },
    {
      "cell_type": "code",
      "metadata": {
        "colab_type": "code",
        "id": "ds5Vu4RFukSf",
        "outputId": "39504127-a71c-4d77-b2ae-078d64e7a0ae",
        "colab": {
          "base_uri": "https://localhost:8080/",
          "height": 153
        }
      },
      "source": [
        "!kaggle competitions download -c intercampusai2019"
      ],
      "execution_count": 0,
      "outputs": [
        {
          "output_type": "stream",
          "text": [
            "Traceback (most recent call last):\n",
            "  File \"/usr/local/bin/kaggle\", line 6, in <module>\n",
            "    from kaggle.cli import main\n",
            "  File \"/usr/local/lib/python2.7/dist-packages/kaggle/__init__.py\", line 23, in <module>\n",
            "    api.authenticate()\n",
            "  File \"/usr/local/lib/python2.7/dist-packages/kaggle/api/kaggle_api_extended.py\", line 146, in authenticate\n",
            "    self.config_file, self.config_dir))\n",
            "IOError: Could not find kaggle.json. Make sure it's located in /root/.kaggle. Or use the environment method.\n"
          ],
          "name": "stdout"
        }
      ]
    },
    {
      "cell_type": "code",
      "metadata": {
        "id": "bzcgoyZYk88a",
        "colab_type": "code",
        "outputId": "db4af07d-5bf5-4043-be77-0e4e32a48574",
        "colab": {
          "base_uri": "https://localhost:8080/",
          "height": 122
        }
      },
      "source": [
        "from google.colab import drive\n",
        "drive.mount('/content/drive')"
      ],
      "execution_count": 0,
      "outputs": [
        {
          "output_type": "stream",
          "text": [
            "Go to this URL in a browser: https://accounts.google.com/o/oauth2/auth?client_id=947318989803-6bn6qk8qdgf4n4g3pfee6491hc0brc4i.apps.googleusercontent.com&redirect_uri=urn%3Aietf%3Awg%3Aoauth%3A2.0%3Aoob&scope=email%20https%3A%2F%2Fwww.googleapis.com%2Fauth%2Fdocs.test%20https%3A%2F%2Fwww.googleapis.com%2Fauth%2Fdrive%20https%3A%2F%2Fwww.googleapis.com%2Fauth%2Fdrive.photos.readonly%20https%3A%2F%2Fwww.googleapis.com%2Fauth%2Fpeopleapi.readonly&response_type=code\n",
            "\n",
            "Enter your authorization code:\n",
            "··········\n",
            "Mounted at /content/drive\n"
          ],
          "name": "stdout"
        }
      ]
    },
    {
      "cell_type": "code",
      "metadata": {
        "colab_type": "code",
        "id": "FAP0YtGldlox",
        "colab": {}
      },
      "source": [
        "!unzip test.csv.zip && unzip train.csv.zip\n",
        "!rm -rf test.csv.zip && rm -rf train.csv.zip"
      ],
      "execution_count": 0,
      "outputs": []
    },
    {
      "cell_type": "code",
      "metadata": {
        "colab_type": "code",
        "id": "dtI5n94Md3e6",
        "outputId": "3b09ae2d-0ba3-4a73-b6b3-8e7ba09bd16a",
        "colab": {
          "base_uri": "https://localhost:8080/",
          "height": 723
        }
      },
      "source": [
        "train = pd.read_csv('/content/drive/My Drive/Well/train.csv')\n",
        "test = pd.read_csv('/content/drive/My Drive/Well/test.csv')\n",
        "train.head().transpose()"
      ],
      "execution_count": 0,
      "outputs": [
        {
          "output_type": "execute_result",
          "data": {
            "text/html": [
              "<div>\n",
              "<style scoped>\n",
              "    .dataframe tbody tr th:only-of-type {\n",
              "        vertical-align: middle;\n",
              "    }\n",
              "\n",
              "    .dataframe tbody tr th {\n",
              "        vertical-align: top;\n",
              "    }\n",
              "\n",
              "    .dataframe thead th {\n",
              "        text-align: right;\n",
              "    }\n",
              "</style>\n",
              "<table border=\"1\" class=\"dataframe\">\n",
              "  <thead>\n",
              "    <tr style=\"text-align: right;\">\n",
              "      <th></th>\n",
              "      <th>0</th>\n",
              "      <th>1</th>\n",
              "      <th>2</th>\n",
              "      <th>3</th>\n",
              "      <th>4</th>\n",
              "    </tr>\n",
              "  </thead>\n",
              "  <tbody>\n",
              "    <tr>\n",
              "      <th>EmployeeNo</th>\n",
              "      <td>YAK/S/00001</td>\n",
              "      <td>YAK/S/00002</td>\n",
              "      <td>YAK/S/00003</td>\n",
              "      <td>YAK/S/00004</td>\n",
              "      <td>YAK/S/00006</td>\n",
              "    </tr>\n",
              "    <tr>\n",
              "      <th>Division</th>\n",
              "      <td>Commercial Sales and Marketing</td>\n",
              "      <td>Customer Support and Field Operations</td>\n",
              "      <td>Commercial Sales and Marketing</td>\n",
              "      <td>Commercial Sales and Marketing</td>\n",
              "      <td>Information and Strategy</td>\n",
              "    </tr>\n",
              "    <tr>\n",
              "      <th>Qualification</th>\n",
              "      <td>MSc, MBA and PhD</td>\n",
              "      <td>First Degree or HND</td>\n",
              "      <td>First Degree or HND</td>\n",
              "      <td>First Degree or HND</td>\n",
              "      <td>First Degree or HND</td>\n",
              "    </tr>\n",
              "    <tr>\n",
              "      <th>Gender</th>\n",
              "      <td>Female</td>\n",
              "      <td>Male</td>\n",
              "      <td>Male</td>\n",
              "      <td>Male</td>\n",
              "      <td>Male</td>\n",
              "    </tr>\n",
              "    <tr>\n",
              "      <th>Channel_of_Recruitment</th>\n",
              "      <td>Direct Internal process</td>\n",
              "      <td>Agency and others</td>\n",
              "      <td>Direct Internal process</td>\n",
              "      <td>Agency and others</td>\n",
              "      <td>Direct Internal process</td>\n",
              "    </tr>\n",
              "    <tr>\n",
              "      <th>Trainings_Attended</th>\n",
              "      <td>2</td>\n",
              "      <td>2</td>\n",
              "      <td>2</td>\n",
              "      <td>3</td>\n",
              "      <td>3</td>\n",
              "    </tr>\n",
              "    <tr>\n",
              "      <th>Year_of_birth</th>\n",
              "      <td>1986</td>\n",
              "      <td>1991</td>\n",
              "      <td>1987</td>\n",
              "      <td>1982</td>\n",
              "      <td>1990</td>\n",
              "    </tr>\n",
              "    <tr>\n",
              "      <th>Last_performance_score</th>\n",
              "      <td>12.5</td>\n",
              "      <td>12.5</td>\n",
              "      <td>7.5</td>\n",
              "      <td>2.5</td>\n",
              "      <td>7.5</td>\n",
              "    </tr>\n",
              "    <tr>\n",
              "      <th>Year_of_recruitment</th>\n",
              "      <td>2011</td>\n",
              "      <td>2015</td>\n",
              "      <td>2012</td>\n",
              "      <td>2009</td>\n",
              "      <td>2012</td>\n",
              "    </tr>\n",
              "    <tr>\n",
              "      <th>Targets_met</th>\n",
              "      <td>1</td>\n",
              "      <td>0</td>\n",
              "      <td>0</td>\n",
              "      <td>0</td>\n",
              "      <td>0</td>\n",
              "    </tr>\n",
              "    <tr>\n",
              "      <th>Previous_Award</th>\n",
              "      <td>0</td>\n",
              "      <td>0</td>\n",
              "      <td>0</td>\n",
              "      <td>0</td>\n",
              "      <td>0</td>\n",
              "    </tr>\n",
              "    <tr>\n",
              "      <th>Training_score_average</th>\n",
              "      <td>41</td>\n",
              "      <td>52</td>\n",
              "      <td>42</td>\n",
              "      <td>42</td>\n",
              "      <td>77</td>\n",
              "    </tr>\n",
              "    <tr>\n",
              "      <th>State_Of_Origin</th>\n",
              "      <td>ANAMBRA</td>\n",
              "      <td>ANAMBRA</td>\n",
              "      <td>KATSINA</td>\n",
              "      <td>NIGER</td>\n",
              "      <td>AKWA IBOM</td>\n",
              "    </tr>\n",
              "    <tr>\n",
              "      <th>Foreign_schooled</th>\n",
              "      <td>No</td>\n",
              "      <td>Yes</td>\n",
              "      <td>Yes</td>\n",
              "      <td>Yes</td>\n",
              "      <td>Yes</td>\n",
              "    </tr>\n",
              "    <tr>\n",
              "      <th>Marital_Status</th>\n",
              "      <td>Married</td>\n",
              "      <td>Married</td>\n",
              "      <td>Married</td>\n",
              "      <td>Single</td>\n",
              "      <td>Married</td>\n",
              "    </tr>\n",
              "    <tr>\n",
              "      <th>Past_Disciplinary_Action</th>\n",
              "      <td>No</td>\n",
              "      <td>No</td>\n",
              "      <td>No</td>\n",
              "      <td>No</td>\n",
              "      <td>No</td>\n",
              "    </tr>\n",
              "    <tr>\n",
              "      <th>Previous_IntraDepartmental_Movement</th>\n",
              "      <td>No</td>\n",
              "      <td>No</td>\n",
              "      <td>No</td>\n",
              "      <td>No</td>\n",
              "      <td>No</td>\n",
              "    </tr>\n",
              "    <tr>\n",
              "      <th>No_of_previous_employers</th>\n",
              "      <td>0</td>\n",
              "      <td>0</td>\n",
              "      <td>0</td>\n",
              "      <td>1</td>\n",
              "      <td>1</td>\n",
              "    </tr>\n",
              "    <tr>\n",
              "      <th>Promoted_or_Not</th>\n",
              "      <td>0</td>\n",
              "      <td>0</td>\n",
              "      <td>0</td>\n",
              "      <td>0</td>\n",
              "      <td>0</td>\n",
              "    </tr>\n",
              "  </tbody>\n",
              "</table>\n",
              "</div>"
            ],
            "text/plain": [
              "                                                                  0  ...                         4\n",
              "EmployeeNo                                              YAK/S/00001  ...               YAK/S/00006\n",
              "Division                             Commercial Sales and Marketing  ...  Information and Strategy\n",
              "Qualification                                      MSc, MBA and PhD  ...       First Degree or HND\n",
              "Gender                                                       Female  ...                      Male\n",
              "Channel_of_Recruitment                      Direct Internal process  ...   Direct Internal process\n",
              "Trainings_Attended                                                2  ...                         3\n",
              "Year_of_birth                                                  1986  ...                      1990\n",
              "Last_performance_score                                         12.5  ...                       7.5\n",
              "Year_of_recruitment                                            2011  ...                      2012\n",
              "Targets_met                                                       1  ...                         0\n",
              "Previous_Award                                                    0  ...                         0\n",
              "Training_score_average                                           41  ...                        77\n",
              "State_Of_Origin                                             ANAMBRA  ...                 AKWA IBOM\n",
              "Foreign_schooled                                                 No  ...                       Yes\n",
              "Marital_Status                                              Married  ...                   Married\n",
              "Past_Disciplinary_Action                                         No  ...                        No\n",
              "Previous_IntraDepartmental_Movement                              No  ...                        No\n",
              "No_of_previous_employers                                          0  ...                         1\n",
              "Promoted_or_Not                                                   0  ...                         0\n",
              "\n",
              "[19 rows x 5 columns]"
            ]
          },
          "metadata": {
            "tags": []
          },
          "execution_count": 3
        }
      ]
    },
    {
      "cell_type": "markdown",
      "metadata": {
        "colab_type": "text",
        "id": "MwWSsjs-d0dd"
      },
      "source": [
        "## Combine train and test"
      ]
    },
    {
      "cell_type": "code",
      "metadata": {
        "colab_type": "code",
        "id": "u3m_d7fcq93G",
        "outputId": "0a1ee217-0a7f-4489-fe78-61120a42af59",
        "colab": {
          "base_uri": "https://localhost:8080/",
          "height": 34
        }
      },
      "source": [
        "train['sep'] = \"train\"\n",
        "test['sep'] = \"test\"\n",
        "data = pd.concat([train, test], sort=False)\n",
        "print(len(data), len(train), len(test))"
      ],
      "execution_count": 0,
      "outputs": [
        {
          "output_type": "stream",
          "text": [
            "54808 38312 16496\n"
          ],
          "name": "stdout"
        }
      ]
    },
    {
      "cell_type": "code",
      "metadata": {
        "colab_type": "code",
        "id": "mcmIaWpye0DC",
        "colab": {}
      },
      "source": [
        "# data['Age'] = 2019-data['Year_of_birth']\n",
        "# data['Work_years'] = 2019-data['Year_of_recruitment']\n",
        "# data.head()"
      ],
      "execution_count": 0,
      "outputs": []
    },
    {
      "cell_type": "code",
      "metadata": {
        "colab_type": "code",
        "id": "_Tp19VqJvbEm",
        "outputId": "1c02aa52-72c2-4a5d-f3a0-190c84929da0",
        "colab": {
          "base_uri": "https://localhost:8080/",
          "height": 317
        }
      },
      "source": [
        "data.describe()"
      ],
      "execution_count": 0,
      "outputs": [
        {
          "output_type": "execute_result",
          "data": {
            "text/html": [
              "<div>\n",
              "<style scoped>\n",
              "    .dataframe tbody tr th:only-of-type {\n",
              "        vertical-align: middle;\n",
              "    }\n",
              "\n",
              "    .dataframe tbody tr th {\n",
              "        vertical-align: top;\n",
              "    }\n",
              "\n",
              "    .dataframe thead th {\n",
              "        text-align: right;\n",
              "    }\n",
              "</style>\n",
              "<table border=\"1\" class=\"dataframe\">\n",
              "  <thead>\n",
              "    <tr style=\"text-align: right;\">\n",
              "      <th></th>\n",
              "      <th>Trainings_Attended</th>\n",
              "      <th>Year_of_birth</th>\n",
              "      <th>Last_performance_score</th>\n",
              "      <th>Year_of_recruitment</th>\n",
              "      <th>Targets_met</th>\n",
              "      <th>Previous_Award</th>\n",
              "      <th>Training_score_average</th>\n",
              "      <th>Promoted_or_Not</th>\n",
              "    </tr>\n",
              "  </thead>\n",
              "  <tbody>\n",
              "    <tr>\n",
              "      <th>count</th>\n",
              "      <td>54808.000000</td>\n",
              "      <td>54808.000000</td>\n",
              "      <td>54808.000000</td>\n",
              "      <td>54808.000000</td>\n",
              "      <td>54808.000000</td>\n",
              "      <td>54808.000000</td>\n",
              "      <td>54808.000000</td>\n",
              "      <td>38312.000000</td>\n",
              "    </tr>\n",
              "    <tr>\n",
              "      <th>mean</th>\n",
              "      <td>2.253011</td>\n",
              "      <td>1986.194826</td>\n",
              "      <td>7.696869</td>\n",
              "      <td>2013.134488</td>\n",
              "      <td>0.351974</td>\n",
              "      <td>0.023172</td>\n",
              "      <td>55.386750</td>\n",
              "      <td>0.084595</td>\n",
              "    </tr>\n",
              "    <tr>\n",
              "      <th>std</th>\n",
              "      <td>0.609264</td>\n",
              "      <td>7.664765</td>\n",
              "      <td>3.741146</td>\n",
              "      <td>4.265094</td>\n",
              "      <td>0.477590</td>\n",
              "      <td>0.150450</td>\n",
              "      <td>13.371559</td>\n",
              "      <td>0.278282</td>\n",
              "    </tr>\n",
              "    <tr>\n",
              "      <th>min</th>\n",
              "      <td>2.000000</td>\n",
              "      <td>1950.000000</td>\n",
              "      <td>0.000000</td>\n",
              "      <td>1982.000000</td>\n",
              "      <td>0.000000</td>\n",
              "      <td>0.000000</td>\n",
              "      <td>31.000000</td>\n",
              "      <td>0.000000</td>\n",
              "    </tr>\n",
              "    <tr>\n",
              "      <th>25%</th>\n",
              "      <td>2.000000</td>\n",
              "      <td>1982.000000</td>\n",
              "      <td>5.000000</td>\n",
              "      <td>2012.000000</td>\n",
              "      <td>0.000000</td>\n",
              "      <td>0.000000</td>\n",
              "      <td>43.000000</td>\n",
              "      <td>0.000000</td>\n",
              "    </tr>\n",
              "    <tr>\n",
              "      <th>50%</th>\n",
              "      <td>2.000000</td>\n",
              "      <td>1988.000000</td>\n",
              "      <td>7.500000</td>\n",
              "      <td>2014.000000</td>\n",
              "      <td>0.000000</td>\n",
              "      <td>0.000000</td>\n",
              "      <td>52.000000</td>\n",
              "      <td>0.000000</td>\n",
              "    </tr>\n",
              "    <tr>\n",
              "      <th>75%</th>\n",
              "      <td>2.000000</td>\n",
              "      <td>1992.000000</td>\n",
              "      <td>10.000000</td>\n",
              "      <td>2016.000000</td>\n",
              "      <td>1.000000</td>\n",
              "      <td>0.000000</td>\n",
              "      <td>68.000000</td>\n",
              "      <td>0.000000</td>\n",
              "    </tr>\n",
              "    <tr>\n",
              "      <th>max</th>\n",
              "      <td>11.000000</td>\n",
              "      <td>2001.000000</td>\n",
              "      <td>12.500000</td>\n",
              "      <td>2018.000000</td>\n",
              "      <td>1.000000</td>\n",
              "      <td>1.000000</td>\n",
              "      <td>91.000000</td>\n",
              "      <td>1.000000</td>\n",
              "    </tr>\n",
              "  </tbody>\n",
              "</table>\n",
              "</div>"
            ],
            "text/plain": [
              "       Trainings_Attended  ...  Promoted_or_Not\n",
              "count        54808.000000  ...     38312.000000\n",
              "mean             2.253011  ...         0.084595\n",
              "std              0.609264  ...         0.278282\n",
              "min              2.000000  ...         0.000000\n",
              "25%              2.000000  ...         0.000000\n",
              "50%              2.000000  ...         0.000000\n",
              "75%              2.000000  ...         0.000000\n",
              "max             11.000000  ...         1.000000\n",
              "\n",
              "[8 rows x 8 columns]"
            ]
          },
          "metadata": {
            "tags": []
          },
          "execution_count": 6
        }
      ]
    },
    {
      "cell_type": "code",
      "metadata": {
        "colab_type": "code",
        "id": "c8fgWO1NwLr3",
        "colab": {}
      },
      "source": [
        "np.random.seed(0)\n",
        "data['Year_of_birth'] = np.log(1 + data.Year_of_birth)\n",
        "data['Last_performance_score'] = np.log(1 + data.Last_performance_score)\n",
        "data['Year_of_recruitment'] = np.log(1 + data.Year_of_recruitment)\n",
        "data['Training_score_average'] = np.log(1 + data.Training_score_average)"
      ],
      "execution_count": 0,
      "outputs": []
    },
    {
      "cell_type": "code",
      "metadata": {
        "colab_type": "code",
        "id": "ovN3eyXqXFCq",
        "colab": {}
      },
      "source": [
        "# data['Age'] = data.Age.apply(lambda x:0 if x in range(0, 18) else 1 if x in range(18, 25) else 2 if x in range(25, 40) else 3)\n",
        "# data['Work_years'] = data.Work_years.apply(lambda x:0 if x in range(0, 5) else 1 if x in range(5, 10) else 2)\n",
        "# data['Last_performance_score'] = data.Last_performance_score.apply(lambda x:0 if x in range(0, 5) else 1 if x in range(5, 10) else 2)"
      ],
      "execution_count": 0,
      "outputs": []
    },
    {
      "cell_type": "code",
      "metadata": {
        "colab_type": "code",
        "id": "7KqA_khZYa9t",
        "colab": {}
      },
      "source": [
        "# data.hist(column='Work_years')"
      ],
      "execution_count": 0,
      "outputs": []
    },
    {
      "cell_type": "code",
      "metadata": {
        "colab_type": "code",
        "id": "bAnLW2VyecwS",
        "outputId": "84363aac-83e0-4d8e-fa0c-beb2afdb246f",
        "colab": {
          "base_uri": "https://localhost:8080/",
          "height": 68
        }
      },
      "source": [
        "data.Promoted_or_Not.value_counts()"
      ],
      "execution_count": 0,
      "outputs": [
        {
          "output_type": "execute_result",
          "data": {
            "text/plain": [
              "0.0    35071\n",
              "1.0     3241\n",
              "Name: Promoted_or_Not, dtype: int64"
            ]
          },
          "metadata": {
            "tags": []
          },
          "execution_count": 10
        }
      ]
    },
    {
      "cell_type": "markdown",
      "metadata": {
        "colab_type": "text",
        "id": "Qk12Ja_jVujA"
      },
      "source": [
        "## Handle Missing values"
      ]
    },
    {
      "cell_type": "code",
      "metadata": {
        "colab_type": "code",
        "id": "YoSFsMDoVti7",
        "outputId": "894eb772-4cb5-41ce-b106-031f1a69012a",
        "colab": {
          "base_uri": "https://localhost:8080/",
          "height": 374
        }
      },
      "source": [
        "data.isna().any()"
      ],
      "execution_count": 0,
      "outputs": [
        {
          "output_type": "execute_result",
          "data": {
            "text/plain": [
              "EmployeeNo                             False\n",
              "Division                               False\n",
              "Qualification                           True\n",
              "Gender                                 False\n",
              "Channel_of_Recruitment                 False\n",
              "Trainings_Attended                     False\n",
              "Year_of_birth                          False\n",
              "Last_performance_score                 False\n",
              "Year_of_recruitment                    False\n",
              "Targets_met                            False\n",
              "Previous_Award                         False\n",
              "Training_score_average                 False\n",
              "State_Of_Origin                        False\n",
              "Foreign_schooled                       False\n",
              "Marital_Status                         False\n",
              "Past_Disciplinary_Action               False\n",
              "Previous_IntraDepartmental_Movement    False\n",
              "No_of_previous_employers               False\n",
              "Promoted_or_Not                         True\n",
              "sep                                    False\n",
              "dtype: bool"
            ]
          },
          "metadata": {
            "tags": []
          },
          "execution_count": 11
        }
      ]
    },
    {
      "cell_type": "code",
      "metadata": {
        "colab_type": "code",
        "id": "GFAb_gxNWliU",
        "outputId": "d2c6bdad-a130-4e79-b096-c1f01f5b3cfc",
        "colab": {
          "base_uri": "https://localhost:8080/",
          "height": 85
        }
      },
      "source": [
        "data.Qualification.value_counts()"
      ],
      "execution_count": 0,
      "outputs": [
        {
          "output_type": "execute_result",
          "data": {
            "text/plain": [
              "First Degree or HND         36669\n",
              "MSc, MBA and PhD            14925\n",
              "Non-University Education      805\n",
              "Name: Qualification, dtype: int64"
            ]
          },
          "metadata": {
            "tags": []
          },
          "execution_count": 12
        }
      ]
    },
    {
      "cell_type": "code",
      "metadata": {
        "colab_type": "code",
        "id": "5dRFtFHMWywh",
        "colab": {}
      },
      "source": [
        "data['Qualification'].fillna(data['Qualification'].mode()[0], inplace=True)\n",
        "# data = data[data['Qualification'].notnull()]"
      ],
      "execution_count": 0,
      "outputs": []
    },
    {
      "cell_type": "markdown",
      "metadata": {
        "colab_type": "text",
        "id": "kJV5vVQgqv6d"
      },
      "source": [
        "## Drop Unnecessary columns"
      ]
    },
    {
      "cell_type": "code",
      "metadata": {
        "colab_type": "code",
        "id": "-HISuz8oUA39",
        "colab": {}
      },
      "source": [
        "# data.drop(['Year_of_birth', 'Year_of_recruitment'], axis=1, inplace=True)\n",
        "# data.head(3).transpose()"
      ],
      "execution_count": 0,
      "outputs": []
    },
    {
      "cell_type": "markdown",
      "metadata": {
        "colab_type": "text",
        "id": "bm3KFPOZtuFb"
      },
      "source": [
        "## Visualising Data"
      ]
    },
    {
      "cell_type": "code",
      "metadata": {
        "colab_type": "code",
        "id": "CatL3Qqltvbh",
        "outputId": "59cb9809-8405-4110-e9c2-09222758e676",
        "colab": {
          "base_uri": "https://localhost:8080/",
          "height": 726
        }
      },
      "source": [
        "# Correlation matrix\n",
        "corrmat = data.corr()\n",
        "fig = plt.figure(figsize = (15, 10))\n",
        "\n",
        "sns.heatmap(corrmat, vmax = .8, square = True)\n",
        "plt.show()"
      ],
      "execution_count": 0,
      "outputs": [
        {
          "output_type": "display_data",
          "data": {
            "image/png": "[encoded data removed]",
            "text/plain": [
              "<Figure size 1080x720 with 2 Axes>"
            ]
          },
          "metadata": {
            "tags": []
          }
        }
      ]
    },
    {
      "cell_type": "markdown",
      "metadata": {
        "colab_type": "text",
        "id": "ZDqt5XVSuJ7s"
      },
      "source": [
        "## Handling Categorical Features"
      ]
    },
    {
      "cell_type": "code",
      "metadata": {
        "colab_type": "code",
        "id": "Jd4DHAx8a_Dk",
        "outputId": "6b71a2f2-b44e-48d0-d97c-855140f84aff",
        "colab": {
          "base_uri": "https://localhost:8080/",
          "height": 85
        }
      },
      "source": [
        "# continuous features\n",
        "data.select_dtypes([np.number]).columns"
      ],
      "execution_count": 0,
      "outputs": [
        {
          "output_type": "execute_result",
          "data": {
            "text/plain": [
              "Index(['Trainings_Attended', 'Year_of_birth', 'Last_performance_score',\n",
              "       'Year_of_recruitment', 'Targets_met', 'Previous_Award',\n",
              "       'Training_score_average', 'Promoted_or_Not'],\n",
              "      dtype='object')"
            ]
          },
          "metadata": {
            "tags": []
          },
          "execution_count": 16
        }
      ]
    },
    {
      "cell_type": "code",
      "metadata": {
        "colab_type": "code",
        "id": "uCT1OmEqvJk-",
        "outputId": "5ae09e92-e551-40f6-dbd8-2489c58167db",
        "colab": {
          "base_uri": "https://localhost:8080/",
          "height": 54
        }
      },
      "source": [
        "# identifying categorical features\n",
        "categorical_features = [x for x in data.columns if data[x].dtype == 'object' and x not in ['EmployeeNo', 'sep']]\n",
        "print(categorical_features)"
      ],
      "execution_count": 0,
      "outputs": [
        {
          "output_type": "stream",
          "text": [
            "['Division', 'Qualification', 'Gender', 'Channel_of_Recruitment', 'State_Of_Origin', 'Foreign_schooled', 'Marital_Status', 'Past_Disciplinary_Action', 'Previous_IntraDepartmental_Movement', 'No_of_previous_employers']\n"
          ],
          "name": "stdout"
        }
      ]
    },
    {
      "cell_type": "code",
      "metadata": {
        "colab_type": "code",
        "id": "Zx_ZVlU-vZBg",
        "colab": {}
      },
      "source": [
        "# # one-hot encoding\n",
        "# from sklearn.preprocessing import LabelEncoder\n",
        "# #New variable\n",
        "# var_mod = [x for x in categorical_features]\n",
        "# le = LabelEncoder()\n",
        "# for i in var_mod:\n",
        "#     data[i] = le.fit_transform(data[i].astype(str))"
      ],
      "execution_count": 0,
      "outputs": []
    },
    {
      "cell_type": "code",
      "metadata": {
        "colab_type": "code",
        "id": "RLrfT0qhvwbq",
        "outputId": "32cb25ed-f6a9-4d46-8661-c6e075155a5c",
        "colab": {
          "base_uri": "https://localhost:8080/",
          "height": 411
        }
      },
      "source": [
        "\n",
        "\n",
        "data.head()"
      ],
      "execution_count": 0,
      "outputs": [
        {
          "output_type": "execute_result",
          "data": {
            "text/html": [
              "<div>\n",
              "<style scoped>\n",
              "    .dataframe tbody tr th:only-of-type {\n",
              "        vertical-align: middle;\n",
              "    }\n",
              "\n",
              "    .dataframe tbody tr th {\n",
              "        vertical-align: top;\n",
              "    }\n",
              "\n",
              "    .dataframe thead th {\n",
              "        text-align: right;\n",
              "    }\n",
              "</style>\n",
              "<table border=\"1\" class=\"dataframe\">\n",
              "  <thead>\n",
              "    <tr style=\"text-align: right;\">\n",
              "      <th></th>\n",
              "      <th>EmployeeNo</th>\n",
              "      <th>Division</th>\n",
              "      <th>Qualification</th>\n",
              "      <th>Gender</th>\n",
              "      <th>Channel_of_Recruitment</th>\n",
              "      <th>Trainings_Attended</th>\n",
              "      <th>Year_of_birth</th>\n",
              "      <th>Last_performance_score</th>\n",
              "      <th>Year_of_recruitment</th>\n",
              "      <th>Targets_met</th>\n",
              "      <th>Previous_Award</th>\n",
              "      <th>Training_score_average</th>\n",
              "      <th>State_Of_Origin</th>\n",
              "      <th>Foreign_schooled</th>\n",
              "      <th>Marital_Status</th>\n",
              "      <th>Past_Disciplinary_Action</th>\n",
              "      <th>Previous_IntraDepartmental_Movement</th>\n",
              "      <th>No_of_previous_employers</th>\n",
              "      <th>Promoted_or_Not</th>\n",
              "      <th>sep</th>\n",
              "    </tr>\n",
              "  </thead>\n",
              "  <tbody>\n",
              "    <tr>\n",
              "      <th>0</th>\n",
              "      <td>YAK/S/00001</td>\n",
              "      <td>Commercial Sales and Marketing</td>\n",
              "      <td>MSc, MBA and PhD</td>\n",
              "      <td>Female</td>\n",
              "      <td>Direct Internal process</td>\n",
              "      <td>2</td>\n",
              "      <td>7.594381</td>\n",
              "      <td>2.602690</td>\n",
              "      <td>7.606885</td>\n",
              "      <td>1</td>\n",
              "      <td>0</td>\n",
              "      <td>3.737670</td>\n",
              "      <td>ANAMBRA</td>\n",
              "      <td>No</td>\n",
              "      <td>Married</td>\n",
              "      <td>No</td>\n",
              "      <td>No</td>\n",
              "      <td>0</td>\n",
              "      <td>0.0</td>\n",
              "      <td>train</td>\n",
              "    </tr>\n",
              "    <tr>\n",
              "      <th>1</th>\n",
              "      <td>YAK/S/00002</td>\n",
              "      <td>Customer Support and Field Operations</td>\n",
              "      <td>First Degree or HND</td>\n",
              "      <td>Male</td>\n",
              "      <td>Agency and others</td>\n",
              "      <td>2</td>\n",
              "      <td>7.596894</td>\n",
              "      <td>2.602690</td>\n",
              "      <td>7.608871</td>\n",
              "      <td>0</td>\n",
              "      <td>0</td>\n",
              "      <td>3.970292</td>\n",
              "      <td>ANAMBRA</td>\n",
              "      <td>Yes</td>\n",
              "      <td>Married</td>\n",
              "      <td>No</td>\n",
              "      <td>No</td>\n",
              "      <td>0</td>\n",
              "      <td>0.0</td>\n",
              "      <td>train</td>\n",
              "    </tr>\n",
              "    <tr>\n",
              "      <th>2</th>\n",
              "      <td>YAK/S/00003</td>\n",
              "      <td>Commercial Sales and Marketing</td>\n",
              "      <td>First Degree or HND</td>\n",
              "      <td>Male</td>\n",
              "      <td>Direct Internal process</td>\n",
              "      <td>2</td>\n",
              "      <td>7.594884</td>\n",
              "      <td>2.140066</td>\n",
              "      <td>7.607381</td>\n",
              "      <td>0</td>\n",
              "      <td>0</td>\n",
              "      <td>3.761200</td>\n",
              "      <td>KATSINA</td>\n",
              "      <td>Yes</td>\n",
              "      <td>Married</td>\n",
              "      <td>No</td>\n",
              "      <td>No</td>\n",
              "      <td>0</td>\n",
              "      <td>0.0</td>\n",
              "      <td>train</td>\n",
              "    </tr>\n",
              "    <tr>\n",
              "      <th>3</th>\n",
              "      <td>YAK/S/00004</td>\n",
              "      <td>Commercial Sales and Marketing</td>\n",
              "      <td>First Degree or HND</td>\n",
              "      <td>Male</td>\n",
              "      <td>Agency and others</td>\n",
              "      <td>3</td>\n",
              "      <td>7.592366</td>\n",
              "      <td>1.252763</td>\n",
              "      <td>7.605890</td>\n",
              "      <td>0</td>\n",
              "      <td>0</td>\n",
              "      <td>3.761200</td>\n",
              "      <td>NIGER</td>\n",
              "      <td>Yes</td>\n",
              "      <td>Single</td>\n",
              "      <td>No</td>\n",
              "      <td>No</td>\n",
              "      <td>1</td>\n",
              "      <td>0.0</td>\n",
              "      <td>train</td>\n",
              "    </tr>\n",
              "    <tr>\n",
              "      <th>4</th>\n",
              "      <td>YAK/S/00006</td>\n",
              "      <td>Information and Strategy</td>\n",
              "      <td>First Degree or HND</td>\n",
              "      <td>Male</td>\n",
              "      <td>Direct Internal process</td>\n",
              "      <td>3</td>\n",
              "      <td>7.596392</td>\n",
              "      <td>2.140066</td>\n",
              "      <td>7.607381</td>\n",
              "      <td>0</td>\n",
              "      <td>0</td>\n",
              "      <td>4.356709</td>\n",
              "      <td>AKWA IBOM</td>\n",
              "      <td>Yes</td>\n",
              "      <td>Married</td>\n",
              "      <td>No</td>\n",
              "      <td>No</td>\n",
              "      <td>1</td>\n",
              "      <td>0.0</td>\n",
              "      <td>train</td>\n",
              "    </tr>\n",
              "  </tbody>\n",
              "</table>\n",
              "</div>"
            ],
            "text/plain": [
              "    EmployeeNo                               Division  ... Promoted_or_Not    sep\n",
              "0  YAK/S/00001         Commercial Sales and Marketing  ...             0.0  train\n",
              "1  YAK/S/00002  Customer Support and Field Operations  ...             0.0  train\n",
              "2  YAK/S/00003         Commercial Sales and Marketing  ...             0.0  train\n",
              "3  YAK/S/00004         Commercial Sales and Marketing  ...             0.0  train\n",
              "4  YAK/S/00006               Information and Strategy  ...             0.0  train\n",
              "\n",
              "[5 rows x 20 columns]"
            ]
          },
          "metadata": {
            "tags": []
          },
          "execution_count": 19
        }
      ]
    },
    {
      "cell_type": "markdown",
      "metadata": {
        "colab_type": "text",
        "id": "nbQizvkpj-Iy"
      },
      "source": [
        "## Get Dummy variables"
      ]
    },
    {
      "cell_type": "code",
      "metadata": {
        "colab_type": "code",
        "id": "XIh7QuWhkDUm",
        "colab": {}
      },
      "source": [
        "# print('Before:', data.shape)\n",
        "# categorical_features = ['Gender', 'Targets_met', 'Previous_Award', 'Foreign_schooled', 'Marital_Status', 'Past_Disciplinary_Action', 'Previous_IntraDepartmental_Movement']\n",
        "# # get dummy variable\n",
        "# data = pd.get_dummies(data, columns = [x for x in categorical_features])\n",
        "# print('After:', data.shape)"
      ],
      "execution_count": 0,
      "outputs": []
    },
    {
      "cell_type": "code",
      "metadata": {
        "colab_type": "code",
        "id": "5a5MWhj9mndi",
        "outputId": "6bd32437-7866-4104-b2c6-5f6e5d1b8679",
        "colab": {
          "base_uri": "https://localhost:8080/",
          "height": 411
        }
      },
      "source": [
        "data.head()"
      ],
      "execution_count": 0,
      "outputs": [
        {
          "output_type": "execute_result",
          "data": {
            "text/html": [
              "<div>\n",
              "<style scoped>\n",
              "    .dataframe tbody tr th:only-of-type {\n",
              "        vertical-align: middle;\n",
              "    }\n",
              "\n",
              "    .dataframe tbody tr th {\n",
              "        vertical-align: top;\n",
              "    }\n",
              "\n",
              "    .dataframe thead th {\n",
              "        text-align: right;\n",
              "    }\n",
              "</style>\n",
              "<table border=\"1\" class=\"dataframe\">\n",
              "  <thead>\n",
              "    <tr style=\"text-align: right;\">\n",
              "      <th></th>\n",
              "      <th>EmployeeNo</th>\n",
              "      <th>Division</th>\n",
              "      <th>Qualification</th>\n",
              "      <th>Gender</th>\n",
              "      <th>Channel_of_Recruitment</th>\n",
              "      <th>Trainings_Attended</th>\n",
              "      <th>Year_of_birth</th>\n",
              "      <th>Last_performance_score</th>\n",
              "      <th>Year_of_recruitment</th>\n",
              "      <th>Targets_met</th>\n",
              "      <th>Previous_Award</th>\n",
              "      <th>Training_score_average</th>\n",
              "      <th>State_Of_Origin</th>\n",
              "      <th>Foreign_schooled</th>\n",
              "      <th>Marital_Status</th>\n",
              "      <th>Past_Disciplinary_Action</th>\n",
              "      <th>Previous_IntraDepartmental_Movement</th>\n",
              "      <th>No_of_previous_employers</th>\n",
              "      <th>Promoted_or_Not</th>\n",
              "      <th>sep</th>\n",
              "    </tr>\n",
              "  </thead>\n",
              "  <tbody>\n",
              "    <tr>\n",
              "      <th>0</th>\n",
              "      <td>YAK/S/00001</td>\n",
              "      <td>Commercial Sales and Marketing</td>\n",
              "      <td>MSc, MBA and PhD</td>\n",
              "      <td>Female</td>\n",
              "      <td>Direct Internal process</td>\n",
              "      <td>2</td>\n",
              "      <td>7.594381</td>\n",
              "      <td>2.602690</td>\n",
              "      <td>7.606885</td>\n",
              "      <td>1</td>\n",
              "      <td>0</td>\n",
              "      <td>3.737670</td>\n",
              "      <td>ANAMBRA</td>\n",
              "      <td>No</td>\n",
              "      <td>Married</td>\n",
              "      <td>No</td>\n",
              "      <td>No</td>\n",
              "      <td>0</td>\n",
              "      <td>0.0</td>\n",
              "      <td>train</td>\n",
              "    </tr>\n",
              "    <tr>\n",
              "      <th>1</th>\n",
              "      <td>YAK/S/00002</td>\n",
              "      <td>Customer Support and Field Operations</td>\n",
              "      <td>First Degree or HND</td>\n",
              "      <td>Male</td>\n",
              "      <td>Agency and others</td>\n",
              "      <td>2</td>\n",
              "      <td>7.596894</td>\n",
              "      <td>2.602690</td>\n",
              "      <td>7.608871</td>\n",
              "      <td>0</td>\n",
              "      <td>0</td>\n",
              "      <td>3.970292</td>\n",
              "      <td>ANAMBRA</td>\n",
              "      <td>Yes</td>\n",
              "      <td>Married</td>\n",
              "      <td>No</td>\n",
              "      <td>No</td>\n",
              "      <td>0</td>\n",
              "      <td>0.0</td>\n",
              "      <td>train</td>\n",
              "    </tr>\n",
              "    <tr>\n",
              "      <th>2</th>\n",
              "      <td>YAK/S/00003</td>\n",
              "      <td>Commercial Sales and Marketing</td>\n",
              "      <td>First Degree or HND</td>\n",
              "      <td>Male</td>\n",
              "      <td>Direct Internal process</td>\n",
              "      <td>2</td>\n",
              "      <td>7.594884</td>\n",
              "      <td>2.140066</td>\n",
              "      <td>7.607381</td>\n",
              "      <td>0</td>\n",
              "      <td>0</td>\n",
              "      <td>3.761200</td>\n",
              "      <td>KATSINA</td>\n",
              "      <td>Yes</td>\n",
              "      <td>Married</td>\n",
              "      <td>No</td>\n",
              "      <td>No</td>\n",
              "      <td>0</td>\n",
              "      <td>0.0</td>\n",
              "      <td>train</td>\n",
              "    </tr>\n",
              "    <tr>\n",
              "      <th>3</th>\n",
              "      <td>YAK/S/00004</td>\n",
              "      <td>Commercial Sales and Marketing</td>\n",
              "      <td>First Degree or HND</td>\n",
              "      <td>Male</td>\n",
              "      <td>Agency and others</td>\n",
              "      <td>3</td>\n",
              "      <td>7.592366</td>\n",
              "      <td>1.252763</td>\n",
              "      <td>7.605890</td>\n",
              "      <td>0</td>\n",
              "      <td>0</td>\n",
              "      <td>3.761200</td>\n",
              "      <td>NIGER</td>\n",
              "      <td>Yes</td>\n",
              "      <td>Single</td>\n",
              "      <td>No</td>\n",
              "      <td>No</td>\n",
              "      <td>1</td>\n",
              "      <td>0.0</td>\n",
              "      <td>train</td>\n",
              "    </tr>\n",
              "    <tr>\n",
              "      <th>4</th>\n",
              "      <td>YAK/S/00006</td>\n",
              "      <td>Information and Strategy</td>\n",
              "      <td>First Degree or HND</td>\n",
              "      <td>Male</td>\n",
              "      <td>Direct Internal process</td>\n",
              "      <td>3</td>\n",
              "      <td>7.596392</td>\n",
              "      <td>2.140066</td>\n",
              "      <td>7.607381</td>\n",
              "      <td>0</td>\n",
              "      <td>0</td>\n",
              "      <td>4.356709</td>\n",
              "      <td>AKWA IBOM</td>\n",
              "      <td>Yes</td>\n",
              "      <td>Married</td>\n",
              "      <td>No</td>\n",
              "      <td>No</td>\n",
              "      <td>1</td>\n",
              "      <td>0.0</td>\n",
              "      <td>train</td>\n",
              "    </tr>\n",
              "  </tbody>\n",
              "</table>\n",
              "</div>"
            ],
            "text/plain": [
              "    EmployeeNo                               Division  ... Promoted_or_Not    sep\n",
              "0  YAK/S/00001         Commercial Sales and Marketing  ...             0.0  train\n",
              "1  YAK/S/00002  Customer Support and Field Operations  ...             0.0  train\n",
              "2  YAK/S/00003         Commercial Sales and Marketing  ...             0.0  train\n",
              "3  YAK/S/00004         Commercial Sales and Marketing  ...             0.0  train\n",
              "4  YAK/S/00006               Information and Strategy  ...             0.0  train\n",
              "\n",
              "[5 rows x 20 columns]"
            ]
          },
          "metadata": {
            "tags": []
          },
          "execution_count": 21
        }
      ]
    },
    {
      "cell_type": "markdown",
      "metadata": {
        "colab_type": "text",
        "id": "ZEXzoEnRwAZB"
      },
      "source": [
        "## Get train and test data"
      ]
    },
    {
      "cell_type": "code",
      "metadata": {
        "colab_type": "code",
        "id": "hzWkrvOhvznB",
        "outputId": "14c7a2b1-f43b-4dbe-8621-3c3646cc2a52",
        "colab": {
          "base_uri": "https://localhost:8080/",
          "height": 34
        }
      },
      "source": [
        "train = data[data.sep == 'train'].reset_index(drop=True)\n",
        "test = data[data.sep == 'test'].reset_index(drop=True)\n",
        "train.drop('sep', axis=1, inplace=True)\n",
        "test.drop('sep', axis=1, inplace=True)\n",
        "print(len(train), len(test))"
      ],
      "execution_count": 0,
      "outputs": [
        {
          "output_type": "stream",
          "text": [
            "38312 16496\n"
          ],
          "name": "stdout"
        }
      ]
    },
    {
      "cell_type": "code",
      "metadata": {
        "colab_type": "code",
        "id": "GwM3kG5Dnq5Z",
        "colab": {}
      },
      "source": [
        "train['Promoted_or_Not'] = train['Promoted_or_Not'].astype('int64')"
      ],
      "execution_count": 0,
      "outputs": []
    },
    {
      "cell_type": "markdown",
      "metadata": {
        "colab_type": "text",
        "id": "JRZZ2gQ_exH9"
      },
      "source": [
        "## Save as CSV"
      ]
    },
    {
      "cell_type": "code",
      "metadata": {
        "colab_type": "code",
        "id": "ZHT_B5H0SAaG",
        "colab": {}
      },
      "source": [
        "# train.to_csv('Train.csv',index=False)\n",
        "# test.to_csv('Test.csv',index=False)"
      ],
      "execution_count": 0,
      "outputs": []
    },
    {
      "cell_type": "markdown",
      "metadata": {
        "colab_type": "text",
        "id": "5GrRxkOxlhn7"
      },
      "source": [
        "## X, y split"
      ]
    },
    {
      "cell_type": "code",
      "metadata": {
        "colab_type": "code",
        "id": "cpR4kfrXM9Nd",
        "outputId": "7a9a6137-4d65-4171-feb4-a0fc6a173dd2",
        "colab": {
          "base_uri": "https://localhost:8080/",
          "height": 68
        }
      },
      "source": [
        "train.Promoted_or_Not.value_counts()"
      ],
      "execution_count": 0,
      "outputs": [
        {
          "output_type": "execute_result",
          "data": {
            "text/plain": [
              "0    35071\n",
              "1     3241\n",
              "Name: Promoted_or_Not, dtype: int64"
            ]
          },
          "metadata": {
            "tags": []
          },
          "execution_count": 25
        }
      ]
    },
    {
      "cell_type": "code",
      "metadata": {
        "colab_type": "code",
        "id": "AlUb7jMk8wqq",
        "outputId": "904b23ba-0968-4dd5-b0b4-286fad0b21d6",
        "colab": {
          "base_uri": "https://localhost:8080/",
          "height": 51
        }
      },
      "source": [
        "# Get all the columns from the dataFrame\n",
        "columns = train.columns.tolist()\n",
        "\n",
        "# Filter the columns to remove data we do not want\n",
        "columns = [c for c in columns if c not in [\"Promoted_or_Not\", \"EmployeeNo\"]]\n",
        "\n",
        "# Store the variable we'll be predicting on\n",
        "target = \"Promoted_or_Not\"\n",
        "\n",
        "X = train[columns]\n",
        "y = train[target]\n",
        "\n",
        "# Print shapes\n",
        "print(X.shape)\n",
        "print(y.shape)"
      ],
      "execution_count": 0,
      "outputs": [
        {
          "output_type": "stream",
          "text": [
            "(38312, 17)\n",
            "(38312,)\n"
          ],
          "name": "stdout"
        }
      ]
    },
    {
      "cell_type": "markdown",
      "metadata": {
        "colab_type": "text",
        "id": "nQb2v2KxNamt"
      },
      "source": [
        "## Model Preparation"
      ]
    },
    {
      "cell_type": "code",
      "metadata": {
        "colab_type": "code",
        "id": "KuHUWsCUlK8g",
        "outputId": "425d3d65-6a38-4f27-e301-754df282bf90",
        "colab": {
          "base_uri": "https://localhost:8080/",
          "height": 68
        }
      },
      "source": [
        "# setting up testing and training sets\n",
        "X_train, X_test, y_train, y_test = train_test_split(X, y, test_size=0.3, random_state=424)\n",
        "y_train.value_counts()"
      ],
      "execution_count": 0,
      "outputs": [
        {
          "output_type": "execute_result",
          "data": {
            "text/plain": [
              "0    24562\n",
              "1     2256\n",
              "Name: Promoted_or_Not, dtype: int64"
            ]
          },
          "metadata": {
            "tags": []
          },
          "execution_count": 60
        }
      ]
    },
    {
      "cell_type": "code",
      "metadata": {
        "colab_type": "code",
        "id": "nKSgsrL2TJel",
        "outputId": "9cfdf6fa-e168-474e-af1a-7f0c9d18091f",
        "colab": {
          "base_uri": "https://localhost:8080/",
          "height": 68
        }
      },
      "source": [
        "y_test.value_counts()"
      ],
      "execution_count": 0,
      "outputs": [
        {
          "output_type": "execute_result",
          "data": {
            "text/plain": [
              "0    10509\n",
              "1      985\n",
              "Name: Promoted_or_Not, dtype: int64"
            ]
          },
          "metadata": {
            "tags": []
          },
          "execution_count": 61
        }
      ]
    },
    {
      "cell_type": "markdown",
      "metadata": {
        "colab_type": "text",
        "id": "Omwcjy95qMv1"
      },
      "source": [
        "## Models"
      ]
    },
    {
      "cell_type": "code",
      "metadata": {
        "colab_type": "code",
        "id": "EZF2wfbUqPZV",
        "colab": {}
      },
      "source": [
        "# xgboost\n",
        "#import xgboost as xgb\n",
        "#from xgboost import XGBClassifier\n",
        "#clf1 = xgb.XGBClassifier(n_estimators=500, tree_method='gpu_hist')  # THE MAGICAL PARAMETER )\n",
        "#clf1.fit(X_train, y_train)"
      ],
      "execution_count": 0,
      "outputs": []
    },
    {
      "cell_type": "markdown",
      "metadata": {
        "colab_type": "text",
        "id": "psJnzyBqQiwr"
      },
      "source": [
        "### Catboost"
      ]
    },
    {
      "cell_type": "code",
      "metadata": {
        "colab_type": "code",
        "id": "yWueDGXHTF-q",
        "outputId": "9c95cd7f-8f51-499b-f28d-1a3e1884934a",
        "colab": {
          "base_uri": "https://localhost:8080/",
          "height": 323
        }
      },
      "source": [
        "X_train.dtypes"
      ],
      "execution_count": 0,
      "outputs": [
        {
          "output_type": "execute_result",
          "data": {
            "text/plain": [
              "Division                                object\n",
              "Qualification                           object\n",
              "Gender                                  object\n",
              "Channel_of_Recruitment                  object\n",
              "Trainings_Attended                       int64\n",
              "Year_of_birth                          float64\n",
              "Last_performance_score                 float64\n",
              "Year_of_recruitment                    float64\n",
              "Targets_met                              int64\n",
              "Previous_Award                           int64\n",
              "Training_score_average                 float64\n",
              "State_Of_Origin                         object\n",
              "Foreign_schooled                        object\n",
              "Marital_Status                          object\n",
              "Past_Disciplinary_Action                object\n",
              "Previous_IntraDepartmental_Movement     object\n",
              "No_of_previous_employers                object\n",
              "dtype: object"
            ]
          },
          "metadata": {
            "tags": []
          },
          "execution_count": 63
        }
      ]
    },
    {
      "cell_type": "code",
      "metadata": {
        "colab_type": "code",
        "id": "qM_UZP7UQwxC",
        "outputId": "39a0073f-4af6-4790-ae9a-d75a8b5be467",
        "colab": {
          "base_uri": "https://localhost:8080/",
          "height": 34
        }
      },
      "source": [
        "cate_features_index = np.where(X_train.dtypes == object)[0]\n",
        "cate_features_index"
      ],
      "execution_count": 0,
      "outputs": [
        {
          "output_type": "execute_result",
          "data": {
            "text/plain": [
              "array([ 0,  1,  2,  3, 11, 12, 13, 14, 15, 16])"
            ]
          },
          "metadata": {
            "tags": []
          },
          "execution_count": 64
        }
      ]
    },
    {
      "cell_type": "code",
      "metadata": {
        "id": "qyUglILSp1Pe",
        "colab_type": "code",
        "colab": {}
      },
      "source": [
        "#pip install auto-sklearn"
      ],
      "execution_count": 0,
      "outputs": []
    },
    {
      "cell_type": "code",
      "metadata": {
        "id": "jPeGeBmiqf3F",
        "colab_type": "code",
        "colab": {}
      },
      "source": [
        "#pip install scikit-learn"
      ],
      "execution_count": 0,
      "outputs": []
    },
    {
      "cell_type": "code",
      "metadata": {
        "colab_type": "code",
        "id": "21Uv39b_OMci",
        "outputId": "c17cfca8-25d6-48ea-a0f7-e26cabbf1388",
        "colab": {
          "base_uri": "https://localhost:8080/",
          "height": 1000
        }
      },
      "source": [
        "clf8 = CatBoostClassifier(eval_metric='Accuracy',use_best_model=True,random_seed=42)\n",
        "clf8.fit(X_train,y_train,cat_features=cate_features_index,eval_set=(X_test,y_test))"
      ],
      "execution_count": 0,
      "outputs": [
        {
          "output_type": "stream",
          "text": [
            "Learning rate set to 0.110214\n",
            "0:\tlearn: 0.9230741\ttest: 0.9221333\tbest: 0.9221333 (0)\ttotal: 65.3ms\tremaining: 1m 5s\n",
            "1:\tlearn: 0.9231859\ttest: 0.9212633\tbest: 0.9221333 (0)\ttotal: 128ms\tremaining: 1m 3s\n",
            "2:\tlearn: 0.9241927\ttest: 0.9225683\tbest: 0.9225683 (2)\ttotal: 154ms\tremaining: 51.3s\n",
            "3:\tlearn: 0.9236707\ttest: 0.9212633\tbest: 0.9225683 (2)\ttotal: 190ms\tremaining: 47.2s\n",
            "4:\tlearn: 0.9242300\ttest: 0.9219593\tbest: 0.9225683 (2)\ttotal: 217ms\tremaining: 43.2s\n",
            "5:\tlearn: 0.9238571\ttest: 0.9219593\tbest: 0.9225683 (2)\ttotal: 277ms\tremaining: 45.9s\n",
            "6:\tlearn: 0.9241554\ttest: 0.9222203\tbest: 0.9225683 (2)\ttotal: 339ms\tremaining: 48.2s\n",
            "7:\tlearn: 0.9249385\ttest: 0.9233513\tbest: 0.9233513 (7)\ttotal: 397ms\tremaining: 49.3s\n",
            "8:\tlearn: 0.9253114\ttest: 0.9241343\tbest: 0.9241343 (8)\ttotal: 461ms\tremaining: 50.8s\n",
            "9:\tlearn: 0.9256842\ttest: 0.9243083\tbest: 0.9243083 (9)\ttotal: 519ms\tremaining: 51.4s\n",
            "10:\tlearn: 0.9301216\ttest: 0.9283104\tbest: 0.9283104 (10)\ttotal: 572ms\tremaining: 51.5s\n",
            "11:\tlearn: 0.9298978\ttest: 0.9287454\tbest: 0.9287454 (11)\ttotal: 628ms\tremaining: 51.7s\n",
            "12:\tlearn: 0.9296368\ttest: 0.9279624\tbest: 0.9287454 (11)\ttotal: 678ms\tremaining: 51.5s\n",
            "13:\tlearn: 0.9319860\ttest: 0.9308335\tbest: 0.9308335 (13)\ttotal: 731ms\tremaining: 51.5s\n",
            "14:\tlearn: 0.9317995\ttest: 0.9305725\tbest: 0.9308335 (13)\ttotal: 747ms\tremaining: 49.1s\n",
            "15:\tlearn: 0.9317622\ttest: 0.9307465\tbest: 0.9308335 (13)\ttotal: 767ms\tremaining: 47.2s\n",
            "16:\tlearn: 0.9316131\ttest: 0.9308335\tbest: 0.9308335 (13)\ttotal: 827ms\tremaining: 47.8s\n",
            "17:\tlearn: 0.9330301\ttest: 0.9313555\tbest: 0.9313555 (17)\ttotal: 906ms\tremaining: 49.4s\n",
            "18:\tlearn: 0.9336640\ttest: 0.9323125\tbest: 0.9323125 (18)\ttotal: 965ms\tremaining: 49.8s\n",
            "19:\tlearn: 0.9338504\ttest: 0.9322255\tbest: 0.9323125 (18)\ttotal: 1.03s\tremaining: 50.6s\n",
            "20:\tlearn: 0.9342979\ttest: 0.9326605\tbest: 0.9326605 (20)\ttotal: 1.09s\tremaining: 50.8s\n",
            "21:\tlearn: 0.9359385\ttest: 0.9339655\tbest: 0.9339655 (21)\ttotal: 1.15s\tremaining: 51.2s\n",
            "22:\tlearn: 0.9356030\ttest: 0.9337045\tbest: 0.9339655 (21)\ttotal: 1.22s\tremaining: 51.8s\n",
            "23:\tlearn: 0.9355284\ttest: 0.9337045\tbest: 0.9339655 (21)\ttotal: 1.24s\tremaining: 50.3s\n",
            "24:\tlearn: 0.9353792\ttest: 0.9336175\tbest: 0.9339655 (21)\ttotal: 1.3s\tremaining: 50.6s\n",
            "25:\tlearn: 0.9371691\ttest: 0.9344876\tbest: 0.9344876 (25)\ttotal: 1.36s\tremaining: 51.2s\n",
            "26:\tlearn: 0.9371691\ttest: 0.9345746\tbest: 0.9345746 (26)\ttotal: 1.43s\tremaining: 51.4s\n",
            "27:\tlearn: 0.9390708\ttest: 0.9364016\tbest: 0.9364016 (27)\ttotal: 1.49s\tremaining: 51.7s\n",
            "28:\tlearn: 0.9394064\ttest: 0.9367496\tbest: 0.9367496 (28)\ttotal: 1.55s\tremaining: 52s\n",
            "29:\tlearn: 0.9392199\ttest: 0.9366626\tbest: 0.9367496 (28)\ttotal: 1.62s\tremaining: 52.5s\n",
            "30:\tlearn: 0.9400030\ttest: 0.9370106\tbest: 0.9370106 (30)\ttotal: 1.68s\tremaining: 52.6s\n",
            "31:\tlearn: 0.9400030\ttest: 0.9370106\tbest: 0.9370106 (30)\ttotal: 1.74s\tremaining: 52.7s\n",
            "32:\tlearn: 0.9402267\ttest: 0.9375326\tbest: 0.9375326 (32)\ttotal: 1.8s\tremaining: 52.7s\n",
            "33:\tlearn: 0.9406742\ttest: 0.9376196\tbest: 0.9376196 (33)\ttotal: 1.86s\tremaining: 53s\n",
            "34:\tlearn: 0.9406742\ttest: 0.9377066\tbest: 0.9377066 (34)\ttotal: 1.93s\tremaining: 53.3s\n",
            "35:\tlearn: 0.9406742\ttest: 0.9377066\tbest: 0.9377066 (34)\ttotal: 1.99s\tremaining: 53.3s\n",
            "36:\tlearn: 0.9413454\ttest: 0.9380546\tbest: 0.9380546 (36)\ttotal: 2.04s\tremaining: 53.2s\n",
            "37:\tlearn: 0.9413081\ttest: 0.9380546\tbest: 0.9380546 (36)\ttotal: 2.1s\tremaining: 53.2s\n",
            "38:\tlearn: 0.9413081\ttest: 0.9380546\tbest: 0.9380546 (36)\ttotal: 2.13s\tremaining: 52.4s\n",
            "39:\tlearn: 0.9414199\ttest: 0.9383156\tbest: 0.9383156 (39)\ttotal: 2.19s\tremaining: 52.5s\n",
            "40:\tlearn: 0.9413827\ttest: 0.9383156\tbest: 0.9383156 (39)\ttotal: 2.25s\tremaining: 52.6s\n",
            "41:\tlearn: 0.9414199\ttest: 0.9383156\tbest: 0.9383156 (39)\ttotal: 2.31s\tremaining: 52.8s\n",
            "42:\tlearn: 0.9413454\ttest: 0.9383156\tbest: 0.9383156 (39)\ttotal: 2.37s\tremaining: 52.8s\n",
            "43:\tlearn: 0.9413454\ttest: 0.9383156\tbest: 0.9383156 (39)\ttotal: 2.42s\tremaining: 52.7s\n",
            "44:\tlearn: 0.9413827\ttest: 0.9382286\tbest: 0.9383156 (39)\ttotal: 2.48s\tremaining: 52.7s\n",
            "45:\tlearn: 0.9414572\ttest: 0.9382286\tbest: 0.9383156 (39)\ttotal: 2.54s\tremaining: 52.7s\n",
            "46:\tlearn: 0.9414572\ttest: 0.9382286\tbest: 0.9383156 (39)\ttotal: 2.57s\tremaining: 52.2s\n",
            "47:\tlearn: 0.9414199\ttest: 0.9382286\tbest: 0.9383156 (39)\ttotal: 2.62s\tremaining: 52s\n",
            "48:\tlearn: 0.9414199\ttest: 0.9381416\tbest: 0.9383156 (39)\ttotal: 2.67s\tremaining: 51.8s\n",
            "49:\tlearn: 0.9414945\ttest: 0.9380546\tbest: 0.9383156 (39)\ttotal: 2.72s\tremaining: 51.6s\n",
            "50:\tlearn: 0.9414945\ttest: 0.9381416\tbest: 0.9383156 (39)\ttotal: 2.78s\tremaining: 51.8s\n",
            "51:\tlearn: 0.9417928\ttest: 0.9386637\tbest: 0.9386637 (51)\ttotal: 2.85s\tremaining: 51.9s\n",
            "52:\tlearn: 0.9417555\ttest: 0.9386637\tbest: 0.9386637 (51)\ttotal: 2.93s\tremaining: 52.3s\n",
            "53:\tlearn: 0.9417555\ttest: 0.9386637\tbest: 0.9386637 (51)\ttotal: 2.98s\tremaining: 52.1s\n",
            "54:\tlearn: 0.9417555\ttest: 0.9386637\tbest: 0.9386637 (51)\ttotal: 3.03s\tremaining: 52.1s\n",
            "55:\tlearn: 0.9417555\ttest: 0.9386637\tbest: 0.9386637 (51)\ttotal: 3.08s\tremaining: 52s\n",
            "56:\tlearn: 0.9418301\ttest: 0.9388377\tbest: 0.9388377 (56)\ttotal: 3.14s\tremaining: 52s\n",
            "57:\tlearn: 0.9418301\ttest: 0.9388377\tbest: 0.9388377 (56)\ttotal: 3.21s\tremaining: 52.1s\n",
            "58:\tlearn: 0.9418674\ttest: 0.9388377\tbest: 0.9388377 (56)\ttotal: 3.25s\tremaining: 51.9s\n",
            "59:\tlearn: 0.9419420\ttest: 0.9389247\tbest: 0.9389247 (59)\ttotal: 3.31s\tremaining: 51.9s\n",
            "60:\tlearn: 0.9419420\ttest: 0.9389247\tbest: 0.9389247 (59)\ttotal: 3.35s\tremaining: 51.6s\n",
            "61:\tlearn: 0.9425013\ttest: 0.9393597\tbest: 0.9393597 (61)\ttotal: 3.42s\tremaining: 51.8s\n",
            "62:\tlearn: 0.9425013\ttest: 0.9393597\tbest: 0.9393597 (61)\ttotal: 3.49s\tremaining: 51.9s\n",
            "63:\tlearn: 0.9425013\ttest: 0.9393597\tbest: 0.9393597 (61)\ttotal: 3.54s\tremaining: 51.8s\n",
            "64:\tlearn: 0.9425013\ttest: 0.9393597\tbest: 0.9393597 (61)\ttotal: 3.57s\tremaining: 51.3s\n",
            "65:\tlearn: 0.9425013\ttest: 0.9393597\tbest: 0.9393597 (61)\ttotal: 3.61s\tremaining: 51.1s\n",
            "66:\tlearn: 0.9424640\ttest: 0.9392727\tbest: 0.9393597 (61)\ttotal: 3.67s\tremaining: 51.1s\n",
            "67:\tlearn: 0.9425013\ttest: 0.9392727\tbest: 0.9393597 (61)\ttotal: 3.72s\tremaining: 51s\n",
            "68:\tlearn: 0.9424640\ttest: 0.9392727\tbest: 0.9393597 (61)\ttotal: 3.77s\tremaining: 50.9s\n",
            "69:\tlearn: 0.9425013\ttest: 0.9392727\tbest: 0.9393597 (61)\ttotal: 3.83s\tremaining: 50.9s\n",
            "70:\tlearn: 0.9424640\ttest: 0.9392727\tbest: 0.9393597 (61)\ttotal: 3.9s\tremaining: 51s\n",
            "71:\tlearn: 0.9425386\ttest: 0.9393597\tbest: 0.9393597 (61)\ttotal: 3.96s\tremaining: 51.1s\n",
            "72:\tlearn: 0.9425386\ttest: 0.9393597\tbest: 0.9393597 (61)\ttotal: 4s\tremaining: 50.9s\n",
            "73:\tlearn: 0.9426877\ttest: 0.9394467\tbest: 0.9394467 (73)\ttotal: 4.06s\tremaining: 50.8s\n",
            "74:\tlearn: 0.9427250\ttest: 0.9394467\tbest: 0.9394467 (73)\ttotal: 4.11s\tremaining: 50.7s\n",
            "75:\tlearn: 0.9427250\ttest: 0.9394467\tbest: 0.9394467 (73)\ttotal: 4.15s\tremaining: 50.5s\n",
            "76:\tlearn: 0.9427250\ttest: 0.9395337\tbest: 0.9395337 (76)\ttotal: 4.22s\tremaining: 50.6s\n",
            "77:\tlearn: 0.9427250\ttest: 0.9395337\tbest: 0.9395337 (76)\ttotal: 4.25s\tremaining: 50.2s\n",
            "78:\tlearn: 0.9427623\ttest: 0.9395337\tbest: 0.9395337 (76)\ttotal: 4.3s\tremaining: 50.2s\n",
            "79:\tlearn: 0.9427623\ttest: 0.9397077\tbest: 0.9397077 (79)\ttotal: 4.38s\tremaining: 50.4s\n",
            "80:\tlearn: 0.9427623\ttest: 0.9396207\tbest: 0.9397077 (79)\ttotal: 4.44s\tremaining: 50.4s\n",
            "81:\tlearn: 0.9427623\ttest: 0.9396207\tbest: 0.9397077 (79)\ttotal: 4.47s\tremaining: 50s\n",
            "82:\tlearn: 0.9427996\ttest: 0.9396207\tbest: 0.9397077 (79)\ttotal: 4.52s\tremaining: 50s\n",
            "83:\tlearn: 0.9427623\ttest: 0.9396207\tbest: 0.9397077 (79)\ttotal: 4.59s\tremaining: 50s\n",
            "84:\tlearn: 0.9430979\ttest: 0.9397077\tbest: 0.9397077 (79)\ttotal: 4.65s\tremaining: 50.1s\n",
            "85:\tlearn: 0.9431352\ttest: 0.9397947\tbest: 0.9397947 (85)\ttotal: 4.7s\tremaining: 50s\n",
            "86:\tlearn: 0.9431352\ttest: 0.9397947\tbest: 0.9397947 (85)\ttotal: 4.76s\tremaining: 50s\n",
            "87:\tlearn: 0.9431352\ttest: 0.9397947\tbest: 0.9397947 (85)\ttotal: 4.82s\tremaining: 50s\n",
            "88:\tlearn: 0.9431725\ttest: 0.9397947\tbest: 0.9397947 (85)\ttotal: 4.89s\tremaining: 50.1s\n",
            "89:\tlearn: 0.9431725\ttest: 0.9397947\tbest: 0.9397947 (85)\ttotal: 4.93s\tremaining: 49.9s\n",
            "90:\tlearn: 0.9432844\ttest: 0.9398817\tbest: 0.9398817 (90)\ttotal: 5s\tremaining: 50s\n",
            "91:\tlearn: 0.9435081\ttest: 0.9401427\tbest: 0.9401427 (91)\ttotal: 5.06s\tremaining: 49.9s\n",
            "92:\tlearn: 0.9435081\ttest: 0.9401427\tbest: 0.9401427 (91)\ttotal: 5.1s\tremaining: 49.8s\n",
            "93:\tlearn: 0.9434708\ttest: 0.9401427\tbest: 0.9401427 (91)\ttotal: 5.16s\tremaining: 49.7s\n",
            "94:\tlearn: 0.9434335\ttest: 0.9401427\tbest: 0.9401427 (91)\ttotal: 5.2s\tremaining: 49.6s\n",
            "95:\tlearn: 0.9434708\ttest: 0.9401427\tbest: 0.9401427 (91)\ttotal: 5.28s\tremaining: 49.8s\n",
            "96:\tlearn: 0.9434708\ttest: 0.9401427\tbest: 0.9401427 (91)\ttotal: 5.36s\tremaining: 49.9s\n",
            "97:\tlearn: 0.9435081\ttest: 0.9402297\tbest: 0.9402297 (97)\ttotal: 5.42s\tremaining: 49.9s\n",
            "98:\tlearn: 0.9435081\ttest: 0.9402297\tbest: 0.9402297 (97)\ttotal: 5.48s\tremaining: 49.9s\n",
            "99:\tlearn: 0.9435827\ttest: 0.9402297\tbest: 0.9402297 (97)\ttotal: 5.54s\tremaining: 49.9s\n",
            "100:\tlearn: 0.9434708\ttest: 0.9402297\tbest: 0.9402297 (97)\ttotal: 5.62s\tremaining: 50s\n",
            "101:\tlearn: 0.9434335\ttest: 0.9402297\tbest: 0.9402297 (97)\ttotal: 5.68s\tremaining: 50.1s\n",
            "102:\tlearn: 0.9433962\ttest: 0.9402297\tbest: 0.9402297 (97)\ttotal: 5.75s\tremaining: 50s\n",
            "103:\tlearn: 0.9433962\ttest: 0.9402297\tbest: 0.9402297 (97)\ttotal: 5.8s\tremaining: 50s\n",
            "104:\tlearn: 0.9435081\ttest: 0.9402297\tbest: 0.9402297 (97)\ttotal: 5.87s\tremaining: 50s\n",
            "105:\tlearn: 0.9435454\ttest: 0.9403167\tbest: 0.9403167 (105)\ttotal: 5.93s\tremaining: 50s\n",
            "106:\tlearn: 0.9435827\ttest: 0.9403167\tbest: 0.9403167 (105)\ttotal: 6s\tremaining: 50.1s\n",
            "107:\tlearn: 0.9435454\ttest: 0.9403167\tbest: 0.9403167 (105)\ttotal: 6.06s\tremaining: 50.1s\n",
            "108:\tlearn: 0.9436200\ttest: 0.9403167\tbest: 0.9403167 (105)\ttotal: 6.12s\tremaining: 50s\n",
            "109:\tlearn: 0.9436945\ttest: 0.9403167\tbest: 0.9403167 (105)\ttotal: 6.18s\tremaining: 50s\n",
            "110:\tlearn: 0.9436572\ttest: 0.9403167\tbest: 0.9403167 (105)\ttotal: 6.24s\tremaining: 50s\n",
            "111:\tlearn: 0.9436945\ttest: 0.9404037\tbest: 0.9404037 (111)\ttotal: 6.3s\tremaining: 50s\n",
            "112:\tlearn: 0.9436945\ttest: 0.9404037\tbest: 0.9404037 (111)\ttotal: 6.36s\tremaining: 49.9s\n",
            "113:\tlearn: 0.9436945\ttest: 0.9404037\tbest: 0.9404037 (111)\ttotal: 6.42s\tremaining: 49.9s\n",
            "114:\tlearn: 0.9436945\ttest: 0.9404037\tbest: 0.9404037 (111)\ttotal: 6.46s\tremaining: 49.7s\n",
            "115:\tlearn: 0.9440301\ttest: 0.9406647\tbest: 0.9406647 (115)\ttotal: 6.52s\tremaining: 49.7s\n",
            "116:\tlearn: 0.9440301\ttest: 0.9406647\tbest: 0.9406647 (115)\ttotal: 6.59s\tremaining: 49.7s\n",
            "117:\tlearn: 0.9440301\ttest: 0.9406647\tbest: 0.9406647 (115)\ttotal: 6.65s\tremaining: 49.7s\n",
            "118:\tlearn: 0.9439928\ttest: 0.9406647\tbest: 0.9406647 (115)\ttotal: 6.71s\tremaining: 49.7s\n",
            "119:\tlearn: 0.9439556\ttest: 0.9405777\tbest: 0.9406647 (115)\ttotal: 6.76s\tremaining: 49.6s\n",
            "120:\tlearn: 0.9439928\ttest: 0.9405777\tbest: 0.9406647 (115)\ttotal: 6.82s\tremaining: 49.6s\n",
            "121:\tlearn: 0.9440301\ttest: 0.9406647\tbest: 0.9406647 (115)\ttotal: 6.89s\tremaining: 49.6s\n",
            "122:\tlearn: 0.9441047\ttest: 0.9405777\tbest: 0.9406647 (115)\ttotal: 6.94s\tremaining: 49.5s\n",
            "123:\tlearn: 0.9441420\ttest: 0.9406647\tbest: 0.9406647 (115)\ttotal: 7.02s\tremaining: 49.6s\n",
            "124:\tlearn: 0.9441420\ttest: 0.9406647\tbest: 0.9406647 (115)\ttotal: 7.08s\tremaining: 49.6s\n",
            "125:\tlearn: 0.9441793\ttest: 0.9406647\tbest: 0.9406647 (115)\ttotal: 7.14s\tremaining: 49.6s\n",
            "126:\tlearn: 0.9441793\ttest: 0.9405777\tbest: 0.9406647 (115)\ttotal: 7.21s\tremaining: 49.6s\n",
            "127:\tlearn: 0.9441793\ttest: 0.9405777\tbest: 0.9406647 (115)\ttotal: 7.28s\tremaining: 49.6s\n",
            "128:\tlearn: 0.9442911\ttest: 0.9404907\tbest: 0.9406647 (115)\ttotal: 7.34s\tremaining: 49.5s\n",
            "129:\tlearn: 0.9442911\ttest: 0.9404907\tbest: 0.9406647 (115)\ttotal: 7.4s\tremaining: 49.5s\n",
            "130:\tlearn: 0.9442911\ttest: 0.9406647\tbest: 0.9406647 (115)\ttotal: 7.48s\tremaining: 49.6s\n",
            "131:\tlearn: 0.9442911\ttest: 0.9406647\tbest: 0.9406647 (115)\ttotal: 7.55s\tremaining: 49.6s\n",
            "132:\tlearn: 0.9443657\ttest: 0.9407517\tbest: 0.9407517 (132)\ttotal: 7.61s\tremaining: 49.6s\n",
            "133:\tlearn: 0.9444030\ttest: 0.9407517\tbest: 0.9407517 (132)\ttotal: 7.67s\tremaining: 49.6s\n",
            "134:\tlearn: 0.9444776\ttest: 0.9406647\tbest: 0.9407517 (132)\ttotal: 7.73s\tremaining: 49.5s\n",
            "135:\tlearn: 0.9444776\ttest: 0.9406647\tbest: 0.9407517 (132)\ttotal: 7.8s\tremaining: 49.5s\n",
            "136:\tlearn: 0.9444776\ttest: 0.9406647\tbest: 0.9407517 (132)\ttotal: 7.86s\tremaining: 49.5s\n",
            "137:\tlearn: 0.9445522\ttest: 0.9406647\tbest: 0.9407517 (132)\ttotal: 7.92s\tremaining: 49.5s\n",
            "138:\tlearn: 0.9445149\ttest: 0.9406647\tbest: 0.9407517 (132)\ttotal: 7.98s\tremaining: 49.4s\n",
            "139:\tlearn: 0.9445895\ttest: 0.9406647\tbest: 0.9407517 (132)\ttotal: 8.05s\tremaining: 49.5s\n",
            "140:\tlearn: 0.9446267\ttest: 0.9406647\tbest: 0.9407517 (132)\ttotal: 8.12s\tremaining: 49.5s\n",
            "141:\tlearn: 0.9447013\ttest: 0.9407517\tbest: 0.9407517 (132)\ttotal: 8.18s\tremaining: 49.4s\n",
            "142:\tlearn: 0.9446640\ttest: 0.9408387\tbest: 0.9408387 (142)\ttotal: 8.25s\tremaining: 49.4s\n",
            "143:\tlearn: 0.9447386\ttest: 0.9407517\tbest: 0.9408387 (142)\ttotal: 8.31s\tremaining: 49.4s\n",
            "144:\tlearn: 0.9447386\ttest: 0.9408387\tbest: 0.9408387 (142)\ttotal: 8.37s\tremaining: 49.4s\n",
            "145:\tlearn: 0.9447386\ttest: 0.9408387\tbest: 0.9408387 (142)\ttotal: 8.43s\tremaining: 49.3s\n",
            "146:\tlearn: 0.9447386\ttest: 0.9407517\tbest: 0.9408387 (142)\ttotal: 8.48s\tremaining: 49.2s\n",
            "147:\tlearn: 0.9447386\ttest: 0.9406647\tbest: 0.9408387 (142)\ttotal: 8.55s\tremaining: 49.2s\n",
            "148:\tlearn: 0.9447386\ttest: 0.9406647\tbest: 0.9408387 (142)\ttotal: 8.61s\tremaining: 49.2s\n",
            "149:\tlearn: 0.9447386\ttest: 0.9406647\tbest: 0.9408387 (142)\ttotal: 8.67s\tremaining: 49.1s\n",
            "150:\tlearn: 0.9447759\ttest: 0.9406647\tbest: 0.9408387 (142)\ttotal: 8.72s\tremaining: 49.1s\n",
            "151:\tlearn: 0.9447759\ttest: 0.9407517\tbest: 0.9408387 (142)\ttotal: 8.79s\tremaining: 49s\n",
            "152:\tlearn: 0.9448132\ttest: 0.9407517\tbest: 0.9408387 (142)\ttotal: 8.86s\tremaining: 49s\n",
            "153:\tlearn: 0.9448132\ttest: 0.9407517\tbest: 0.9408387 (142)\ttotal: 8.92s\tremaining: 49s\n",
            "154:\tlearn: 0.9447759\ttest: 0.9407517\tbest: 0.9408387 (142)\ttotal: 8.98s\tremaining: 48.9s\n",
            "155:\tlearn: 0.9447386\ttest: 0.9407517\tbest: 0.9408387 (142)\ttotal: 9.05s\tremaining: 49s\n",
            "156:\tlearn: 0.9447013\ttest: 0.9406647\tbest: 0.9408387 (142)\ttotal: 9.11s\tremaining: 48.9s\n",
            "157:\tlearn: 0.9448132\ttest: 0.9407517\tbest: 0.9408387 (142)\ttotal: 9.16s\tremaining: 48.8s\n",
            "158:\tlearn: 0.9448878\ttest: 0.9408387\tbest: 0.9408387 (142)\ttotal: 9.23s\tremaining: 48.8s\n",
            "159:\tlearn: 0.9449623\ttest: 0.9408387\tbest: 0.9408387 (142)\ttotal: 9.29s\tremaining: 48.8s\n",
            "160:\tlearn: 0.9451115\ttest: 0.9410127\tbest: 0.9410127 (160)\ttotal: 9.35s\tremaining: 48.7s\n",
            "161:\tlearn: 0.9451115\ttest: 0.9409257\tbest: 0.9410127 (160)\ttotal: 9.4s\tremaining: 48.7s\n",
            "162:\tlearn: 0.9451115\ttest: 0.9409257\tbest: 0.9410127 (160)\ttotal: 9.47s\tremaining: 48.6s\n",
            "163:\tlearn: 0.9451488\ttest: 0.9409257\tbest: 0.9410127 (160)\ttotal: 9.54s\tremaining: 48.6s\n",
            "164:\tlearn: 0.9451488\ttest: 0.9409257\tbest: 0.9410127 (160)\ttotal: 9.61s\tremaining: 48.6s\n",
            "165:\tlearn: 0.9452606\ttest: 0.9410997\tbest: 0.9410997 (165)\ttotal: 9.67s\tremaining: 48.6s\n",
            "166:\tlearn: 0.9452606\ttest: 0.9410997\tbest: 0.9410997 (165)\ttotal: 9.72s\tremaining: 48.5s\n",
            "167:\tlearn: 0.9452979\ttest: 0.9410997\tbest: 0.9410997 (165)\ttotal: 9.79s\tremaining: 48.5s\n",
            "168:\tlearn: 0.9452979\ttest: 0.9410997\tbest: 0.9410997 (165)\ttotal: 9.84s\tremaining: 48.4s\n",
            "169:\tlearn: 0.9452979\ttest: 0.9410997\tbest: 0.9410997 (165)\ttotal: 9.9s\tremaining: 48.3s\n",
            "170:\tlearn: 0.9452979\ttest: 0.9410997\tbest: 0.9410997 (165)\ttotal: 9.96s\tremaining: 48.3s\n",
            "171:\tlearn: 0.9452979\ttest: 0.9410997\tbest: 0.9410997 (165)\ttotal: 10s\tremaining: 48.3s\n",
            "172:\tlearn: 0.9452979\ttest: 0.9410127\tbest: 0.9410997 (165)\ttotal: 10.1s\tremaining: 48.2s\n",
            "173:\tlearn: 0.9453352\ttest: 0.9410127\tbest: 0.9410997 (165)\ttotal: 10.1s\tremaining: 48.2s\n",
            "174:\tlearn: 0.9454098\ttest: 0.9409257\tbest: 0.9410997 (165)\ttotal: 10.2s\tremaining: 48.1s\n",
            "175:\tlearn: 0.9454098\ttest: 0.9409257\tbest: 0.9410997 (165)\ttotal: 10.3s\tremaining: 48s\n",
            "176:\tlearn: 0.9454098\ttest: 0.9409257\tbest: 0.9410997 (165)\ttotal: 10.3s\tremaining: 48s\n",
            "177:\tlearn: 0.9454844\ttest: 0.9409257\tbest: 0.9410997 (165)\ttotal: 10.4s\tremaining: 47.9s\n",
            "178:\tlearn: 0.9454471\ttest: 0.9409257\tbest: 0.9410997 (165)\ttotal: 10.4s\tremaining: 47.8s\n",
            "179:\tlearn: 0.9454471\ttest: 0.9409257\tbest: 0.9410997 (165)\ttotal: 10.5s\tremaining: 47.8s\n",
            "180:\tlearn: 0.9454844\ttest: 0.9409257\tbest: 0.9410997 (165)\ttotal: 10.6s\tremaining: 47.8s\n",
            "181:\tlearn: 0.9454844\ttest: 0.9409257\tbest: 0.9410997 (165)\ttotal: 10.6s\tremaining: 47.7s\n",
            "182:\tlearn: 0.9455217\ttest: 0.9409257\tbest: 0.9410997 (165)\ttotal: 10.7s\tremaining: 47.7s\n",
            "183:\tlearn: 0.9455217\ttest: 0.9409257\tbest: 0.9410997 (165)\ttotal: 10.7s\tremaining: 47.6s\n",
            "184:\tlearn: 0.9454844\ttest: 0.9409257\tbest: 0.9410997 (165)\ttotal: 10.8s\tremaining: 47.6s\n",
            "185:\tlearn: 0.9454471\ttest: 0.9409257\tbest: 0.9410997 (165)\ttotal: 10.8s\tremaining: 47.5s\n",
            "186:\tlearn: 0.9455590\ttest: 0.9409257\tbest: 0.9410997 (165)\ttotal: 10.9s\tremaining: 47.4s\n",
            "187:\tlearn: 0.9455217\ttest: 0.9409257\tbest: 0.9410997 (165)\ttotal: 11s\tremaining: 47.4s\n",
            "188:\tlearn: 0.9455590\ttest: 0.9409257\tbest: 0.9410997 (165)\ttotal: 11s\tremaining: 47.3s\n",
            "189:\tlearn: 0.9455590\ttest: 0.9409257\tbest: 0.9410997 (165)\ttotal: 11.1s\tremaining: 47.2s\n",
            "190:\tlearn: 0.9455962\ttest: 0.9409257\tbest: 0.9410997 (165)\ttotal: 11.1s\tremaining: 47.1s\n",
            "191:\tlearn: 0.9455962\ttest: 0.9409257\tbest: 0.9410997 (165)\ttotal: 11.2s\tremaining: 47.1s\n",
            "192:\tlearn: 0.9455962\ttest: 0.9410127\tbest: 0.9410997 (165)\ttotal: 11.3s\tremaining: 47s\n",
            "193:\tlearn: 0.9456335\ttest: 0.9410127\tbest: 0.9410997 (165)\ttotal: 11.3s\tremaining: 47s\n",
            "194:\tlearn: 0.9456335\ttest: 0.9410127\tbest: 0.9410997 (165)\ttotal: 11.4s\tremaining: 47s\n",
            "195:\tlearn: 0.9456335\ttest: 0.9410997\tbest: 0.9410997 (165)\ttotal: 11.5s\tremaining: 47s\n",
            "196:\tlearn: 0.9456708\ttest: 0.9410997\tbest: 0.9410997 (165)\ttotal: 11.5s\tremaining: 46.9s\n",
            "197:\tlearn: 0.9456708\ttest: 0.9410997\tbest: 0.9410997 (165)\ttotal: 11.6s\tremaining: 46.9s\n",
            "198:\tlearn: 0.9456708\ttest: 0.9410997\tbest: 0.9410997 (165)\ttotal: 11.6s\tremaining: 46.8s\n",
            "199:\tlearn: 0.9456708\ttest: 0.9410997\tbest: 0.9410997 (165)\ttotal: 11.7s\tremaining: 46.8s\n",
            "200:\tlearn: 0.9456335\ttest: 0.9410997\tbest: 0.9410997 (165)\ttotal: 11.8s\tremaining: 46.7s\n",
            "201:\tlearn: 0.9456335\ttest: 0.9410127\tbest: 0.9410997 (165)\ttotal: 11.8s\tremaining: 46.7s\n",
            "202:\tlearn: 0.9456708\ttest: 0.9410127\tbest: 0.9410997 (165)\ttotal: 11.9s\tremaining: 46.6s\n",
            "203:\tlearn: 0.9456708\ttest: 0.9409257\tbest: 0.9410997 (165)\ttotal: 11.9s\tremaining: 46.6s\n",
            "204:\tlearn: 0.9456335\ttest: 0.9408387\tbest: 0.9410997 (165)\ttotal: 12s\tremaining: 46.6s\n",
            "205:\tlearn: 0.9456335\ttest: 0.9409257\tbest: 0.9410997 (165)\ttotal: 12.1s\tremaining: 46.5s\n",
            "206:\tlearn: 0.9456708\ttest: 0.9409257\tbest: 0.9410997 (165)\ttotal: 12.1s\tremaining: 46.5s\n",
            "207:\tlearn: 0.9456708\ttest: 0.9409257\tbest: 0.9410997 (165)\ttotal: 12.2s\tremaining: 46.4s\n",
            "208:\tlearn: 0.9456335\ttest: 0.9409257\tbest: 0.9410997 (165)\ttotal: 12.2s\tremaining: 46.3s\n",
            "209:\tlearn: 0.9456335\ttest: 0.9409257\tbest: 0.9410997 (165)\ttotal: 12.3s\tremaining: 46.3s\n",
            "210:\tlearn: 0.9457081\ttest: 0.9409257\tbest: 0.9410997 (165)\ttotal: 12.4s\tremaining: 46.3s\n",
            "211:\tlearn: 0.9457454\ttest: 0.9409257\tbest: 0.9410997 (165)\ttotal: 12.4s\tremaining: 46.2s\n",
            "212:\tlearn: 0.9457454\ttest: 0.9409257\tbest: 0.9410997 (165)\ttotal: 12.5s\tremaining: 46.2s\n",
            "213:\tlearn: 0.9457454\ttest: 0.9409257\tbest: 0.9410997 (165)\ttotal: 12.6s\tremaining: 46.1s\n",
            "214:\tlearn: 0.9457454\ttest: 0.9409257\tbest: 0.9410997 (165)\ttotal: 12.6s\tremaining: 46.1s\n",
            "215:\tlearn: 0.9458200\ttest: 0.9409257\tbest: 0.9410997 (165)\ttotal: 12.7s\tremaining: 46.1s\n",
            "216:\tlearn: 0.9458200\ttest: 0.9409257\tbest: 0.9410997 (165)\ttotal: 12.8s\tremaining: 46.1s\n",
            "217:\tlearn: 0.9458200\ttest: 0.9409257\tbest: 0.9410997 (165)\ttotal: 12.8s\tremaining: 46s\n",
            "218:\tlearn: 0.9458573\ttest: 0.9409257\tbest: 0.9410997 (165)\ttotal: 12.9s\tremaining: 45.9s\n",
            "219:\tlearn: 0.9458945\ttest: 0.9409257\tbest: 0.9410997 (165)\ttotal: 12.9s\tremaining: 45.9s\n",
            "220:\tlearn: 0.9458573\ttest: 0.9409257\tbest: 0.9410997 (165)\ttotal: 13s\tremaining: 45.8s\n",
            "221:\tlearn: 0.9458573\ttest: 0.9409257\tbest: 0.9410997 (165)\ttotal: 13.1s\tremaining: 45.8s\n",
            "222:\tlearn: 0.9459691\ttest: 0.9409257\tbest: 0.9410997 (165)\ttotal: 13.1s\tremaining: 45.8s\n",
            "223:\tlearn: 0.9460064\ttest: 0.9409257\tbest: 0.9410997 (165)\ttotal: 13.2s\tremaining: 45.7s\n",
            "224:\tlearn: 0.9459318\ttest: 0.9408387\tbest: 0.9410997 (165)\ttotal: 13.3s\tremaining: 45.7s\n",
            "225:\tlearn: 0.9459691\ttest: 0.9409257\tbest: 0.9410997 (165)\ttotal: 13.3s\tremaining: 45.6s\n",
            "226:\tlearn: 0.9459691\ttest: 0.9409257\tbest: 0.9410997 (165)\ttotal: 13.4s\tremaining: 45.6s\n",
            "227:\tlearn: 0.9460437\ttest: 0.9408387\tbest: 0.9410997 (165)\ttotal: 13.4s\tremaining: 45.5s\n",
            "228:\tlearn: 0.9460437\ttest: 0.9408387\tbest: 0.9410997 (165)\ttotal: 13.5s\tremaining: 45.4s\n",
            "229:\tlearn: 0.9461183\ttest: 0.9408387\tbest: 0.9410997 (165)\ttotal: 13.6s\tremaining: 45.4s\n",
            "230:\tlearn: 0.9460437\ttest: 0.9408387\tbest: 0.9410997 (165)\ttotal: 13.6s\tremaining: 45.3s\n",
            "231:\tlearn: 0.9460810\ttest: 0.9409257\tbest: 0.9410997 (165)\ttotal: 13.7s\tremaining: 45.3s\n",
            "232:\tlearn: 0.9461183\ttest: 0.9409257\tbest: 0.9410997 (165)\ttotal: 13.7s\tremaining: 45.2s\n",
            "233:\tlearn: 0.9461183\ttest: 0.9409257\tbest: 0.9410997 (165)\ttotal: 13.8s\tremaining: 45.2s\n",
            "234:\tlearn: 0.9461183\ttest: 0.9409257\tbest: 0.9410997 (165)\ttotal: 13.9s\tremaining: 45.2s\n",
            "235:\tlearn: 0.9461556\ttest: 0.9409257\tbest: 0.9410997 (165)\ttotal: 13.9s\tremaining: 45.1s\n",
            "236:\tlearn: 0.9461556\ttest: 0.9409257\tbest: 0.9410997 (165)\ttotal: 14s\tremaining: 45.1s\n",
            "237:\tlearn: 0.9461929\ttest: 0.9408387\tbest: 0.9410997 (165)\ttotal: 14.1s\tremaining: 45s\n",
            "238:\tlearn: 0.9461556\ttest: 0.9409257\tbest: 0.9410997 (165)\ttotal: 14.1s\tremaining: 45s\n",
            "239:\tlearn: 0.9461556\ttest: 0.9409257\tbest: 0.9410997 (165)\ttotal: 14.2s\tremaining: 44.9s\n",
            "240:\tlearn: 0.9461556\ttest: 0.9409257\tbest: 0.9410997 (165)\ttotal: 14.2s\tremaining: 44.9s\n",
            "241:\tlearn: 0.9462301\ttest: 0.9408387\tbest: 0.9410997 (165)\ttotal: 14.3s\tremaining: 44.8s\n",
            "242:\tlearn: 0.9462301\ttest: 0.9409257\tbest: 0.9410997 (165)\ttotal: 14.4s\tremaining: 44.8s\n",
            "243:\tlearn: 0.9462301\ttest: 0.9409257\tbest: 0.9410997 (165)\ttotal: 14.4s\tremaining: 44.7s\n",
            "244:\tlearn: 0.9462301\ttest: 0.9409257\tbest: 0.9410997 (165)\ttotal: 14.5s\tremaining: 44.6s\n",
            "245:\tlearn: 0.9462301\ttest: 0.9409257\tbest: 0.9410997 (165)\ttotal: 14.5s\tremaining: 44.6s\n",
            "246:\tlearn: 0.9462301\ttest: 0.9409257\tbest: 0.9410997 (165)\ttotal: 14.6s\tremaining: 44.5s\n",
            "247:\tlearn: 0.9462301\ttest: 0.9410127\tbest: 0.9410997 (165)\ttotal: 14.7s\tremaining: 44.5s\n",
            "248:\tlearn: 0.9462301\ttest: 0.9410127\tbest: 0.9410997 (165)\ttotal: 14.7s\tremaining: 44.4s\n",
            "249:\tlearn: 0.9462674\ttest: 0.9410127\tbest: 0.9410997 (165)\ttotal: 14.8s\tremaining: 44.4s\n",
            "250:\tlearn: 0.9462674\ttest: 0.9410127\tbest: 0.9410997 (165)\ttotal: 14.9s\tremaining: 44.3s\n",
            "251:\tlearn: 0.9462674\ttest: 0.9410127\tbest: 0.9410997 (165)\ttotal: 14.9s\tremaining: 44.3s\n",
            "252:\tlearn: 0.9462674\ttest: 0.9410127\tbest: 0.9410997 (165)\ttotal: 15s\tremaining: 44.3s\n",
            "253:\tlearn: 0.9462301\ttest: 0.9410127\tbest: 0.9410997 (165)\ttotal: 15.1s\tremaining: 44.2s\n",
            "254:\tlearn: 0.9462301\ttest: 0.9410127\tbest: 0.9410997 (165)\ttotal: 15.1s\tremaining: 44.2s\n",
            "255:\tlearn: 0.9463047\ttest: 0.9410127\tbest: 0.9410997 (165)\ttotal: 15.2s\tremaining: 44.2s\n",
            "256:\tlearn: 0.9464539\ttest: 0.9410127\tbest: 0.9410997 (165)\ttotal: 15.3s\tremaining: 44.1s\n",
            "257:\tlearn: 0.9464539\ttest: 0.9410127\tbest: 0.9410997 (165)\ttotal: 15.3s\tremaining: 44.1s\n",
            "258:\tlearn: 0.9465285\ttest: 0.9410127\tbest: 0.9410997 (165)\ttotal: 15.4s\tremaining: 44s\n",
            "259:\tlearn: 0.9465285\ttest: 0.9410997\tbest: 0.9410997 (165)\ttotal: 15.4s\tremaining: 44s\n",
            "260:\tlearn: 0.9465657\ttest: 0.9410997\tbest: 0.9410997 (165)\ttotal: 15.5s\tremaining: 43.9s\n",
            "261:\tlearn: 0.9465657\ttest: 0.9410997\tbest: 0.9410997 (165)\ttotal: 15.6s\tremaining: 43.8s\n",
            "262:\tlearn: 0.9466030\ttest: 0.9410127\tbest: 0.9410997 (165)\ttotal: 15.6s\tremaining: 43.8s\n",
            "263:\tlearn: 0.9466403\ttest: 0.9409257\tbest: 0.9410997 (165)\ttotal: 15.7s\tremaining: 43.7s\n",
            "264:\tlearn: 0.9466403\ttest: 0.9409257\tbest: 0.9410997 (165)\ttotal: 15.7s\tremaining: 43.7s\n",
            "265:\tlearn: 0.9466030\ttest: 0.9410127\tbest: 0.9410997 (165)\ttotal: 15.8s\tremaining: 43.6s\n",
            "266:\tlearn: 0.9466030\ttest: 0.9410127\tbest: 0.9410997 (165)\ttotal: 15.9s\tremaining: 43.6s\n",
            "267:\tlearn: 0.9466030\ttest: 0.9410127\tbest: 0.9410997 (165)\ttotal: 15.9s\tremaining: 43.5s\n",
            "268:\tlearn: 0.9466403\ttest: 0.9410127\tbest: 0.9410997 (165)\ttotal: 16s\tremaining: 43.4s\n",
            "269:\tlearn: 0.9467522\ttest: 0.9410127\tbest: 0.9410997 (165)\ttotal: 16s\tremaining: 43.4s\n",
            "270:\tlearn: 0.9467522\ttest: 0.9410127\tbest: 0.9410997 (165)\ttotal: 16.1s\tremaining: 43.3s\n",
            "271:\tlearn: 0.9467895\ttest: 0.9410127\tbest: 0.9410997 (165)\ttotal: 16.2s\tremaining: 43.3s\n",
            "272:\tlearn: 0.9467895\ttest: 0.9410127\tbest: 0.9410997 (165)\ttotal: 16.2s\tremaining: 43.2s\n",
            "273:\tlearn: 0.9467522\ttest: 0.9410127\tbest: 0.9410997 (165)\ttotal: 16.3s\tremaining: 43.1s\n",
            "274:\tlearn: 0.9467522\ttest: 0.9410127\tbest: 0.9410997 (165)\ttotal: 16.3s\tremaining: 43s\n",
            "275:\tlearn: 0.9468640\ttest: 0.9410127\tbest: 0.9410997 (165)\ttotal: 16.4s\tremaining: 43s\n",
            "276:\tlearn: 0.9468640\ttest: 0.9410127\tbest: 0.9410997 (165)\ttotal: 16.4s\tremaining: 42.9s\n",
            "277:\tlearn: 0.9469386\ttest: 0.9410127\tbest: 0.9410997 (165)\ttotal: 16.5s\tremaining: 42.8s\n",
            "278:\tlearn: 0.9470132\ttest: 0.9409257\tbest: 0.9410997 (165)\ttotal: 16.6s\tremaining: 42.8s\n",
            "279:\tlearn: 0.9470505\ttest: 0.9409257\tbest: 0.9410997 (165)\ttotal: 16.6s\tremaining: 42.8s\n",
            "280:\tlearn: 0.9470505\ttest: 0.9409257\tbest: 0.9410997 (165)\ttotal: 16.7s\tremaining: 42.7s\n",
            "281:\tlearn: 0.9470878\ttest: 0.9409257\tbest: 0.9410997 (165)\ttotal: 16.7s\tremaining: 42.6s\n",
            "282:\tlearn: 0.9471251\ttest: 0.9409257\tbest: 0.9410997 (165)\ttotal: 16.8s\tremaining: 42.6s\n",
            "283:\tlearn: 0.9471251\ttest: 0.9409257\tbest: 0.9410997 (165)\ttotal: 16.9s\tremaining: 42.5s\n",
            "284:\tlearn: 0.9471251\ttest: 0.9409257\tbest: 0.9410997 (165)\ttotal: 16.9s\tremaining: 42.5s\n",
            "285:\tlearn: 0.9471251\ttest: 0.9409257\tbest: 0.9410997 (165)\ttotal: 17s\tremaining: 42.4s\n",
            "286:\tlearn: 0.9471996\ttest: 0.9410127\tbest: 0.9410997 (165)\ttotal: 17s\tremaining: 42.3s\n",
            "287:\tlearn: 0.9471996\ttest: 0.9410127\tbest: 0.9410997 (165)\ttotal: 17.1s\tremaining: 42.3s\n",
            "288:\tlearn: 0.9471996\ttest: 0.9410127\tbest: 0.9410997 (165)\ttotal: 17.2s\tremaining: 42.2s\n",
            "289:\tlearn: 0.9471996\ttest: 0.9410127\tbest: 0.9410997 (165)\ttotal: 17.2s\tremaining: 42.2s\n",
            "290:\tlearn: 0.9472369\ttest: 0.9410127\tbest: 0.9410997 (165)\ttotal: 17.3s\tremaining: 42.1s\n",
            "291:\tlearn: 0.9471996\ttest: 0.9410127\tbest: 0.9410997 (165)\ttotal: 17.3s\tremaining: 42.1s\n",
            "292:\tlearn: 0.9471996\ttest: 0.9410127\tbest: 0.9410997 (165)\ttotal: 17.4s\tremaining: 42s\n",
            "293:\tlearn: 0.9471996\ttest: 0.9410127\tbest: 0.9410997 (165)\ttotal: 17.4s\tremaining: 41.9s\n",
            "294:\tlearn: 0.9471996\ttest: 0.9409257\tbest: 0.9410997 (165)\ttotal: 17.5s\tremaining: 41.9s\n",
            "295:\tlearn: 0.9472369\ttest: 0.9410127\tbest: 0.9410997 (165)\ttotal: 17.6s\tremaining: 41.8s\n",
            "296:\tlearn: 0.9473115\ttest: 0.9409257\tbest: 0.9410997 (165)\ttotal: 17.6s\tremaining: 41.7s\n",
            "297:\tlearn: 0.9473115\ttest: 0.9409257\tbest: 0.9410997 (165)\ttotal: 17.7s\tremaining: 41.7s\n",
            "298:\tlearn: 0.9473115\ttest: 0.9409257\tbest: 0.9410997 (165)\ttotal: 17.8s\tremaining: 41.6s\n",
            "299:\tlearn: 0.9473115\ttest: 0.9409257\tbest: 0.9410997 (165)\ttotal: 17.8s\tremaining: 41.6s\n",
            "300:\tlearn: 0.9473115\ttest: 0.9410997\tbest: 0.9410997 (165)\ttotal: 17.9s\tremaining: 41.5s\n",
            "301:\tlearn: 0.9473488\ttest: 0.9410997\tbest: 0.9410997 (165)\ttotal: 17.9s\tremaining: 41.5s\n",
            "302:\tlearn: 0.9473488\ttest: 0.9410997\tbest: 0.9410997 (165)\ttotal: 18s\tremaining: 41.4s\n",
            "303:\tlearn: 0.9473488\ttest: 0.9410997\tbest: 0.9410997 (165)\ttotal: 18.1s\tremaining: 41.3s\n",
            "304:\tlearn: 0.9473488\ttest: 0.9410997\tbest: 0.9410997 (165)\ttotal: 18.1s\tremaining: 41.3s\n",
            "305:\tlearn: 0.9473488\ttest: 0.9410997\tbest: 0.9410997 (165)\ttotal: 18.2s\tremaining: 41.2s\n",
            "306:\tlearn: 0.9473115\ttest: 0.9410997\tbest: 0.9410997 (165)\ttotal: 18.2s\tremaining: 41.2s\n",
            "307:\tlearn: 0.9473488\ttest: 0.9410997\tbest: 0.9410997 (165)\ttotal: 18.3s\tremaining: 41.1s\n",
            "308:\tlearn: 0.9473115\ttest: 0.9410997\tbest: 0.9410997 (165)\ttotal: 18.4s\tremaining: 41s\n",
            "309:\tlearn: 0.9473488\ttest: 0.9410997\tbest: 0.9410997 (165)\ttotal: 18.4s\tremaining: 41s\n",
            "310:\tlearn: 0.9473861\ttest: 0.9410997\tbest: 0.9410997 (165)\ttotal: 18.5s\tremaining: 41s\n",
            "311:\tlearn: 0.9473861\ttest: 0.9410997\tbest: 0.9410997 (165)\ttotal: 18.6s\tremaining: 40.9s\n",
            "312:\tlearn: 0.9473861\ttest: 0.9410997\tbest: 0.9410997 (165)\ttotal: 18.6s\tremaining: 40.9s\n",
            "313:\tlearn: 0.9474234\ttest: 0.9410997\tbest: 0.9410997 (165)\ttotal: 18.7s\tremaining: 40.8s\n",
            "314:\tlearn: 0.9474979\ttest: 0.9410997\tbest: 0.9410997 (165)\ttotal: 18.8s\tremaining: 40.8s\n",
            "315:\tlearn: 0.9475352\ttest: 0.9410997\tbest: 0.9410997 (165)\ttotal: 18.8s\tremaining: 40.7s\n",
            "316:\tlearn: 0.9474979\ttest: 0.9410997\tbest: 0.9410997 (165)\ttotal: 18.9s\tremaining: 40.7s\n",
            "317:\tlearn: 0.9475725\ttest: 0.9410127\tbest: 0.9410997 (165)\ttotal: 18.9s\tremaining: 40.6s\n",
            "318:\tlearn: 0.9476098\ttest: 0.9410127\tbest: 0.9410997 (165)\ttotal: 19s\tremaining: 40.5s\n",
            "319:\tlearn: 0.9477217\ttest: 0.9410997\tbest: 0.9410997 (165)\ttotal: 19s\tremaining: 40.5s\n",
            "320:\tlearn: 0.9477590\ttest: 0.9410997\tbest: 0.9410997 (165)\ttotal: 19.1s\tremaining: 40.4s\n",
            "321:\tlearn: 0.9477217\ttest: 0.9410997\tbest: 0.9410997 (165)\ttotal: 19.2s\tremaining: 40.4s\n",
            "322:\tlearn: 0.9477217\ttest: 0.9410997\tbest: 0.9410997 (165)\ttotal: 19.2s\tremaining: 40.3s\n",
            "323:\tlearn: 0.9477217\ttest: 0.9412737\tbest: 0.9412737 (323)\ttotal: 19.3s\tremaining: 40.3s\n",
            "324:\tlearn: 0.9477217\ttest: 0.9412737\tbest: 0.9412737 (323)\ttotal: 19.4s\tremaining: 40.2s\n",
            "325:\tlearn: 0.9477217\ttest: 0.9412737\tbest: 0.9412737 (323)\ttotal: 19.4s\tremaining: 40.2s\n",
            "326:\tlearn: 0.9477590\ttest: 0.9412737\tbest: 0.9412737 (323)\ttotal: 19.5s\tremaining: 40.1s\n",
            "327:\tlearn: 0.9477590\ttest: 0.9412737\tbest: 0.9412737 (323)\ttotal: 19.5s\tremaining: 40.1s\n",
            "328:\tlearn: 0.9477590\ttest: 0.9413607\tbest: 0.9413607 (328)\ttotal: 19.6s\tremaining: 40s\n",
            "329:\tlearn: 0.9477590\ttest: 0.9413607\tbest: 0.9413607 (328)\ttotal: 19.7s\tremaining: 39.9s\n",
            "330:\tlearn: 0.9477963\ttest: 0.9413607\tbest: 0.9413607 (328)\ttotal: 19.7s\tremaining: 39.9s\n",
            "331:\tlearn: 0.9477963\ttest: 0.9414477\tbest: 0.9414477 (331)\ttotal: 19.8s\tremaining: 39.8s\n",
            "332:\tlearn: 0.9477963\ttest: 0.9414477\tbest: 0.9414477 (331)\ttotal: 19.8s\tremaining: 39.7s\n",
            "333:\tlearn: 0.9477963\ttest: 0.9414477\tbest: 0.9414477 (331)\ttotal: 19.9s\tremaining: 39.6s\n",
            "334:\tlearn: 0.9479454\ttest: 0.9412737\tbest: 0.9414477 (331)\ttotal: 19.9s\tremaining: 39.6s\n",
            "335:\tlearn: 0.9479081\ttest: 0.9412737\tbest: 0.9414477 (331)\ttotal: 20s\tremaining: 39.5s\n",
            "336:\tlearn: 0.9479081\ttest: 0.9412737\tbest: 0.9414477 (331)\ttotal: 20.1s\tremaining: 39.5s\n",
            "337:\tlearn: 0.9478335\ttest: 0.9413607\tbest: 0.9414477 (331)\ttotal: 20.1s\tremaining: 39.4s\n",
            "338:\tlearn: 0.9478708\ttest: 0.9413607\tbest: 0.9414477 (331)\ttotal: 20.2s\tremaining: 39.4s\n",
            "339:\tlearn: 0.9478708\ttest: 0.9413607\tbest: 0.9414477 (331)\ttotal: 20.3s\tremaining: 39.3s\n",
            "340:\tlearn: 0.9479454\ttest: 0.9413607\tbest: 0.9414477 (331)\ttotal: 20.3s\tremaining: 39.3s\n",
            "341:\tlearn: 0.9479454\ttest: 0.9413607\tbest: 0.9414477 (331)\ttotal: 20.4s\tremaining: 39.2s\n",
            "342:\tlearn: 0.9479454\ttest: 0.9413607\tbest: 0.9414477 (331)\ttotal: 20.4s\tremaining: 39.2s\n",
            "343:\tlearn: 0.9479827\ttest: 0.9414477\tbest: 0.9414477 (331)\ttotal: 20.5s\tremaining: 39.1s\n",
            "344:\tlearn: 0.9480200\ttest: 0.9413607\tbest: 0.9414477 (331)\ttotal: 20.6s\tremaining: 39.1s\n",
            "345:\tlearn: 0.9480573\ttest: 0.9415347\tbest: 0.9415347 (345)\ttotal: 20.6s\tremaining: 39s\n",
            "346:\tlearn: 0.9480946\ttest: 0.9415347\tbest: 0.9415347 (345)\ttotal: 20.7s\tremaining: 39s\n",
            "347:\tlearn: 0.9480946\ttest: 0.9415347\tbest: 0.9415347 (345)\ttotal: 20.8s\tremaining: 38.9s\n",
            "348:\tlearn: 0.9481691\ttest: 0.9415347\tbest: 0.9415347 (345)\ttotal: 20.8s\tremaining: 38.8s\n",
            "349:\tlearn: 0.9482064\ttest: 0.9414477\tbest: 0.9415347 (345)\ttotal: 20.9s\tremaining: 38.8s\n",
            "350:\tlearn: 0.9482064\ttest: 0.9412737\tbest: 0.9415347 (345)\ttotal: 20.9s\tremaining: 38.7s\n",
            "351:\tlearn: 0.9482064\ttest: 0.9412737\tbest: 0.9415347 (345)\ttotal: 21s\tremaining: 38.7s\n",
            "352:\tlearn: 0.9482064\ttest: 0.9412737\tbest: 0.9415347 (345)\ttotal: 21.1s\tremaining: 38.6s\n",
            "353:\tlearn: 0.9482064\ttest: 0.9414477\tbest: 0.9415347 (345)\ttotal: 21.1s\tremaining: 38.5s\n",
            "354:\tlearn: 0.9481319\ttest: 0.9415347\tbest: 0.9415347 (345)\ttotal: 21.2s\tremaining: 38.5s\n",
            "355:\tlearn: 0.9481691\ttest: 0.9414477\tbest: 0.9415347 (345)\ttotal: 21.3s\tremaining: 38.5s\n",
            "356:\tlearn: 0.9481319\ttest: 0.9414477\tbest: 0.9415347 (345)\ttotal: 21.3s\tremaining: 38.4s\n",
            "357:\tlearn: 0.9481319\ttest: 0.9413607\tbest: 0.9415347 (345)\ttotal: 21.4s\tremaining: 38.3s\n",
            "358:\tlearn: 0.9481319\ttest: 0.9412737\tbest: 0.9415347 (345)\ttotal: 21.4s\tremaining: 38.3s\n",
            "359:\tlearn: 0.9481319\ttest: 0.9413607\tbest: 0.9415347 (345)\ttotal: 21.5s\tremaining: 38.2s\n",
            "360:\tlearn: 0.9481319\ttest: 0.9413607\tbest: 0.9415347 (345)\ttotal: 21.5s\tremaining: 38.1s\n",
            "361:\tlearn: 0.9481319\ttest: 0.9412737\tbest: 0.9415347 (345)\ttotal: 21.6s\tremaining: 38.1s\n",
            "362:\tlearn: 0.9482064\ttest: 0.9412737\tbest: 0.9415347 (345)\ttotal: 21.7s\tremaining: 38s\n",
            "363:\tlearn: 0.9482064\ttest: 0.9412737\tbest: 0.9415347 (345)\ttotal: 21.7s\tremaining: 38s\n",
            "364:\tlearn: 0.9482064\ttest: 0.9412737\tbest: 0.9415347 (345)\ttotal: 21.8s\tremaining: 37.9s\n",
            "365:\tlearn: 0.9483556\ttest: 0.9412737\tbest: 0.9415347 (345)\ttotal: 21.9s\tremaining: 37.9s\n",
            "366:\tlearn: 0.9483556\ttest: 0.9412737\tbest: 0.9415347 (345)\ttotal: 21.9s\tremaining: 37.8s\n",
            "367:\tlearn: 0.9483929\ttest: 0.9412737\tbest: 0.9415347 (345)\ttotal: 22s\tremaining: 37.8s\n",
            "368:\tlearn: 0.9484674\ttest: 0.9411867\tbest: 0.9415347 (345)\ttotal: 22s\tremaining: 37.7s\n",
            "369:\tlearn: 0.9483929\ttest: 0.9411867\tbest: 0.9415347 (345)\ttotal: 22.1s\tremaining: 37.6s\n",
            "370:\tlearn: 0.9484302\ttest: 0.9410997\tbest: 0.9415347 (345)\ttotal: 22.2s\tremaining: 37.6s\n",
            "371:\tlearn: 0.9484302\ttest: 0.9410997\tbest: 0.9415347 (345)\ttotal: 22.2s\tremaining: 37.5s\n",
            "372:\tlearn: 0.9484302\ttest: 0.9410127\tbest: 0.9415347 (345)\ttotal: 22.3s\tremaining: 37.5s\n",
            "373:\tlearn: 0.9484302\ttest: 0.9410127\tbest: 0.9415347 (345)\ttotal: 22.3s\tremaining: 37.4s\n",
            "374:\tlearn: 0.9484302\ttest: 0.9410127\tbest: 0.9415347 (345)\ttotal: 22.4s\tremaining: 37.3s\n",
            "375:\tlearn: 0.9485420\ttest: 0.9410127\tbest: 0.9415347 (345)\ttotal: 22.5s\tremaining: 37.3s\n",
            "376:\tlearn: 0.9485420\ttest: 0.9410127\tbest: 0.9415347 (345)\ttotal: 22.5s\tremaining: 37.2s\n",
            "377:\tlearn: 0.9485420\ttest: 0.9410127\tbest: 0.9415347 (345)\ttotal: 22.6s\tremaining: 37.2s\n",
            "378:\tlearn: 0.9485047\ttest: 0.9410997\tbest: 0.9415347 (345)\ttotal: 22.7s\tremaining: 37.2s\n",
            "379:\tlearn: 0.9484674\ttest: 0.9410997\tbest: 0.9415347 (345)\ttotal: 22.7s\tremaining: 37.1s\n",
            "380:\tlearn: 0.9485420\ttest: 0.9410997\tbest: 0.9415347 (345)\ttotal: 22.8s\tremaining: 37s\n",
            "381:\tlearn: 0.9486912\ttest: 0.9408387\tbest: 0.9415347 (345)\ttotal: 22.9s\tremaining: 37s\n",
            "382:\tlearn: 0.9487285\ttest: 0.9408387\tbest: 0.9415347 (345)\ttotal: 22.9s\tremaining: 36.9s\n",
            "383:\tlearn: 0.9487658\ttest: 0.9409257\tbest: 0.9415347 (345)\ttotal: 23s\tremaining: 36.9s\n",
            "384:\tlearn: 0.9488030\ttest: 0.9407517\tbest: 0.9415347 (345)\ttotal: 23.1s\tremaining: 36.8s\n",
            "385:\tlearn: 0.9488403\ttest: 0.9407517\tbest: 0.9415347 (345)\ttotal: 23.1s\tremaining: 36.8s\n",
            "386:\tlearn: 0.9488776\ttest: 0.9407517\tbest: 0.9415347 (345)\ttotal: 23.2s\tremaining: 36.7s\n",
            "387:\tlearn: 0.9488776\ttest: 0.9407517\tbest: 0.9415347 (345)\ttotal: 23.2s\tremaining: 36.6s\n",
            "388:\tlearn: 0.9488403\ttest: 0.9407517\tbest: 0.9415347 (345)\ttotal: 23.3s\tremaining: 36.6s\n",
            "389:\tlearn: 0.9488403\ttest: 0.9407517\tbest: 0.9415347 (345)\ttotal: 23.4s\tremaining: 36.5s\n",
            "390:\tlearn: 0.9488776\ttest: 0.9408387\tbest: 0.9415347 (345)\ttotal: 23.4s\tremaining: 36.5s\n",
            "391:\tlearn: 0.9488403\ttest: 0.9408387\tbest: 0.9415347 (345)\ttotal: 23.5s\tremaining: 36.4s\n",
            "392:\tlearn: 0.9488403\ttest: 0.9408387\tbest: 0.9415347 (345)\ttotal: 23.5s\tremaining: 36.3s\n",
            "393:\tlearn: 0.9488776\ttest: 0.9408387\tbest: 0.9415347 (345)\ttotal: 23.6s\tremaining: 36.3s\n",
            "394:\tlearn: 0.9488776\ttest: 0.9407517\tbest: 0.9415347 (345)\ttotal: 23.7s\tremaining: 36.2s\n",
            "395:\tlearn: 0.9489895\ttest: 0.9406647\tbest: 0.9415347 (345)\ttotal: 23.7s\tremaining: 36.2s\n",
            "396:\tlearn: 0.9489149\ttest: 0.9408387\tbest: 0.9415347 (345)\ttotal: 23.8s\tremaining: 36.1s\n",
            "397:\tlearn: 0.9490268\ttest: 0.9408387\tbest: 0.9415347 (345)\ttotal: 23.8s\tremaining: 36.1s\n",
            "398:\tlearn: 0.9490268\ttest: 0.9407517\tbest: 0.9415347 (345)\ttotal: 23.9s\tremaining: 36s\n",
            "399:\tlearn: 0.9490641\ttest: 0.9408387\tbest: 0.9415347 (345)\ttotal: 24s\tremaining: 36s\n",
            "400:\tlearn: 0.9490641\ttest: 0.9408387\tbest: 0.9415347 (345)\ttotal: 24s\tremaining: 35.9s\n",
            "401:\tlearn: 0.9491013\ttest: 0.9408387\tbest: 0.9415347 (345)\ttotal: 24.1s\tremaining: 35.8s\n",
            "402:\tlearn: 0.9491386\ttest: 0.9408387\tbest: 0.9415347 (345)\ttotal: 24.2s\tremaining: 35.8s\n",
            "403:\tlearn: 0.9491759\ttest: 0.9408387\tbest: 0.9415347 (345)\ttotal: 24.2s\tremaining: 35.7s\n",
            "404:\tlearn: 0.9491759\ttest: 0.9408387\tbest: 0.9415347 (345)\ttotal: 24.3s\tremaining: 35.7s\n",
            "405:\tlearn: 0.9491759\ttest: 0.9407517\tbest: 0.9415347 (345)\ttotal: 24.3s\tremaining: 35.6s\n",
            "406:\tlearn: 0.9492132\ttest: 0.9407517\tbest: 0.9415347 (345)\ttotal: 24.4s\tremaining: 35.6s\n",
            "407:\tlearn: 0.9492132\ttest: 0.9407517\tbest: 0.9415347 (345)\ttotal: 24.5s\tremaining: 35.5s\n",
            "408:\tlearn: 0.9492505\ttest: 0.9407517\tbest: 0.9415347 (345)\ttotal: 24.5s\tremaining: 35.4s\n",
            "409:\tlearn: 0.9492878\ttest: 0.9407517\tbest: 0.9415347 (345)\ttotal: 24.6s\tremaining: 35.4s\n",
            "410:\tlearn: 0.9492878\ttest: 0.9407517\tbest: 0.9415347 (345)\ttotal: 24.7s\tremaining: 35.3s\n",
            "411:\tlearn: 0.9492505\ttest: 0.9408387\tbest: 0.9415347 (345)\ttotal: 24.7s\tremaining: 35.3s\n",
            "412:\tlearn: 0.9492132\ttest: 0.9408387\tbest: 0.9415347 (345)\ttotal: 24.8s\tremaining: 35.2s\n",
            "413:\tlearn: 0.9492505\ttest: 0.9408387\tbest: 0.9415347 (345)\ttotal: 24.8s\tremaining: 35.1s\n",
            "414:\tlearn: 0.9493624\ttest: 0.9408387\tbest: 0.9415347 (345)\ttotal: 24.9s\tremaining: 35.1s\n",
            "415:\tlearn: 0.9493997\ttest: 0.9408387\tbest: 0.9415347 (345)\ttotal: 25s\tremaining: 35s\n",
            "416:\tlearn: 0.9493997\ttest: 0.9408387\tbest: 0.9415347 (345)\ttotal: 25s\tremaining: 35s\n",
            "417:\tlearn: 0.9493997\ttest: 0.9408387\tbest: 0.9415347 (345)\ttotal: 25.1s\tremaining: 34.9s\n",
            "418:\tlearn: 0.9494742\ttest: 0.9408387\tbest: 0.9415347 (345)\ttotal: 25.1s\tremaining: 34.9s\n",
            "419:\tlearn: 0.9494742\ttest: 0.9408387\tbest: 0.9415347 (345)\ttotal: 25.2s\tremaining: 34.8s\n",
            "420:\tlearn: 0.9496234\ttest: 0.9407517\tbest: 0.9415347 (345)\ttotal: 25.3s\tremaining: 34.7s\n",
            "421:\tlearn: 0.9496980\ttest: 0.9407517\tbest: 0.9415347 (345)\ttotal: 25.3s\tremaining: 34.7s\n",
            "422:\tlearn: 0.9497353\ttest: 0.9407517\tbest: 0.9415347 (345)\ttotal: 25.4s\tremaining: 34.6s\n",
            "423:\tlearn: 0.9497725\ttest: 0.9407517\tbest: 0.9415347 (345)\ttotal: 25.4s\tremaining: 34.6s\n",
            "424:\tlearn: 0.9497725\ttest: 0.9407517\tbest: 0.9415347 (345)\ttotal: 25.5s\tremaining: 34.5s\n",
            "425:\tlearn: 0.9498098\ttest: 0.9407517\tbest: 0.9415347 (345)\ttotal: 25.6s\tremaining: 34.4s\n",
            "426:\tlearn: 0.9498471\ttest: 0.9405777\tbest: 0.9415347 (345)\ttotal: 25.6s\tremaining: 34.4s\n",
            "427:\tlearn: 0.9498471\ttest: 0.9407517\tbest: 0.9415347 (345)\ttotal: 25.7s\tremaining: 34.3s\n",
            "428:\tlearn: 0.9498098\ttest: 0.9406647\tbest: 0.9415347 (345)\ttotal: 25.7s\tremaining: 34.3s\n",
            "429:\tlearn: 0.9497725\ttest: 0.9407517\tbest: 0.9415347 (345)\ttotal: 25.8s\tremaining: 34.2s\n",
            "430:\tlearn: 0.9497725\ttest: 0.9407517\tbest: 0.9415347 (345)\ttotal: 25.9s\tremaining: 34.1s\n",
            "431:\tlearn: 0.9498098\ttest: 0.9407517\tbest: 0.9415347 (345)\ttotal: 25.9s\tremaining: 34.1s\n",
            "432:\tlearn: 0.9498471\ttest: 0.9407517\tbest: 0.9415347 (345)\ttotal: 26s\tremaining: 34s\n",
            "433:\tlearn: 0.9498844\ttest: 0.9407517\tbest: 0.9415347 (345)\ttotal: 26s\tremaining: 34s\n",
            "434:\tlearn: 0.9498844\ttest: 0.9407517\tbest: 0.9415347 (345)\ttotal: 26.1s\tremaining: 33.9s\n",
            "435:\tlearn: 0.9499217\ttest: 0.9407517\tbest: 0.9415347 (345)\ttotal: 26.2s\tremaining: 33.9s\n",
            "436:\tlearn: 0.9499963\ttest: 0.9407517\tbest: 0.9415347 (345)\ttotal: 26.2s\tremaining: 33.8s\n",
            "437:\tlearn: 0.9500336\ttest: 0.9407517\tbest: 0.9415347 (345)\ttotal: 26.3s\tremaining: 33.8s\n",
            "438:\tlearn: 0.9499590\ttest: 0.9407517\tbest: 0.9415347 (345)\ttotal: 26.4s\tremaining: 33.7s\n",
            "439:\tlearn: 0.9500336\ttest: 0.9407517\tbest: 0.9415347 (345)\ttotal: 26.4s\tremaining: 33.7s\n",
            "440:\tlearn: 0.9500336\ttest: 0.9407517\tbest: 0.9415347 (345)\ttotal: 26.5s\tremaining: 33.6s\n",
            "441:\tlearn: 0.9500708\ttest: 0.9408387\tbest: 0.9415347 (345)\ttotal: 26.6s\tremaining: 33.5s\n",
            "442:\tlearn: 0.9500708\ttest: 0.9408387\tbest: 0.9415347 (345)\ttotal: 26.6s\tremaining: 33.5s\n",
            "443:\tlearn: 0.9500708\ttest: 0.9408387\tbest: 0.9415347 (345)\ttotal: 26.7s\tremaining: 33.4s\n",
            "444:\tlearn: 0.9501454\ttest: 0.9408387\tbest: 0.9415347 (345)\ttotal: 26.7s\tremaining: 33.3s\n",
            "445:\tlearn: 0.9501081\ttest: 0.9408387\tbest: 0.9415347 (345)\ttotal: 26.8s\tremaining: 33.3s\n",
            "446:\tlearn: 0.9501081\ttest: 0.9409257\tbest: 0.9415347 (345)\ttotal: 26.8s\tremaining: 33.2s\n",
            "447:\tlearn: 0.9501454\ttest: 0.9409257\tbest: 0.9415347 (345)\ttotal: 26.9s\tremaining: 33.1s\n",
            "448:\tlearn: 0.9502200\ttest: 0.9406647\tbest: 0.9415347 (345)\ttotal: 27s\tremaining: 33.1s\n",
            "449:\tlearn: 0.9502946\ttest: 0.9408387\tbest: 0.9415347 (345)\ttotal: 27s\tremaining: 33s\n",
            "450:\tlearn: 0.9502946\ttest: 0.9408387\tbest: 0.9415347 (345)\ttotal: 27.1s\tremaining: 33s\n",
            "451:\tlearn: 0.9503319\ttest: 0.9408387\tbest: 0.9415347 (345)\ttotal: 27.1s\tremaining: 32.9s\n",
            "452:\tlearn: 0.9502946\ttest: 0.9407517\tbest: 0.9415347 (345)\ttotal: 27.2s\tremaining: 32.8s\n",
            "453:\tlearn: 0.9503319\ttest: 0.9407517\tbest: 0.9415347 (345)\ttotal: 27.3s\tremaining: 32.8s\n",
            "454:\tlearn: 0.9503319\ttest: 0.9407517\tbest: 0.9415347 (345)\ttotal: 27.3s\tremaining: 32.7s\n",
            "455:\tlearn: 0.9503319\ttest: 0.9407517\tbest: 0.9415347 (345)\ttotal: 27.4s\tremaining: 32.7s\n",
            "456:\tlearn: 0.9503319\ttest: 0.9407517\tbest: 0.9415347 (345)\ttotal: 27.4s\tremaining: 32.6s\n",
            "457:\tlearn: 0.9504064\ttest: 0.9407517\tbest: 0.9415347 (345)\ttotal: 27.5s\tremaining: 32.6s\n",
            "458:\tlearn: 0.9503692\ttest: 0.9407517\tbest: 0.9415347 (345)\ttotal: 27.6s\tremaining: 32.5s\n",
            "459:\tlearn: 0.9504064\ttest: 0.9407517\tbest: 0.9415347 (345)\ttotal: 27.6s\tremaining: 32.4s\n",
            "460:\tlearn: 0.9504064\ttest: 0.9407517\tbest: 0.9415347 (345)\ttotal: 27.7s\tremaining: 32.4s\n",
            "461:\tlearn: 0.9504810\ttest: 0.9407517\tbest: 0.9415347 (345)\ttotal: 27.8s\tremaining: 32.3s\n",
            "462:\tlearn: 0.9505929\ttest: 0.9408387\tbest: 0.9415347 (345)\ttotal: 27.8s\tremaining: 32.3s\n",
            "463:\tlearn: 0.9505929\ttest: 0.9408387\tbest: 0.9415347 (345)\ttotal: 27.9s\tremaining: 32.2s\n",
            "464:\tlearn: 0.9505556\ttest: 0.9408387\tbest: 0.9415347 (345)\ttotal: 27.9s\tremaining: 32.1s\n",
            "465:\tlearn: 0.9505556\ttest: 0.9408387\tbest: 0.9415347 (345)\ttotal: 28s\tremaining: 32.1s\n",
            "466:\tlearn: 0.9505929\ttest: 0.9408387\tbest: 0.9415347 (345)\ttotal: 28.1s\tremaining: 32s\n",
            "467:\tlearn: 0.9505556\ttest: 0.9408387\tbest: 0.9415347 (345)\ttotal: 28.1s\tremaining: 32s\n",
            "468:\tlearn: 0.9507420\ttest: 0.9408387\tbest: 0.9415347 (345)\ttotal: 28.2s\tremaining: 31.9s\n",
            "469:\tlearn: 0.9507420\ttest: 0.9408387\tbest: 0.9415347 (345)\ttotal: 28.3s\tremaining: 31.9s\n",
            "470:\tlearn: 0.9507420\ttest: 0.9408387\tbest: 0.9415347 (345)\ttotal: 28.3s\tremaining: 31.8s\n",
            "471:\tlearn: 0.9507048\ttest: 0.9407517\tbest: 0.9415347 (345)\ttotal: 28.4s\tremaining: 31.7s\n",
            "472:\tlearn: 0.9507048\ttest: 0.9407517\tbest: 0.9415347 (345)\ttotal: 28.4s\tremaining: 31.7s\n",
            "473:\tlearn: 0.9507793\ttest: 0.9407517\tbest: 0.9415347 (345)\ttotal: 28.5s\tremaining: 31.6s\n",
            "474:\tlearn: 0.9508539\ttest: 0.9407517\tbest: 0.9415347 (345)\ttotal: 28.6s\tremaining: 31.6s\n",
            "475:\tlearn: 0.9508166\ttest: 0.9407517\tbest: 0.9415347 (345)\ttotal: 28.6s\tremaining: 31.5s\n",
            "476:\tlearn: 0.9508166\ttest: 0.9407517\tbest: 0.9415347 (345)\ttotal: 28.7s\tremaining: 31.5s\n",
            "477:\tlearn: 0.9509658\ttest: 0.9407517\tbest: 0.9415347 (345)\ttotal: 28.8s\tremaining: 31.4s\n",
            "478:\tlearn: 0.9508912\ttest: 0.9408387\tbest: 0.9415347 (345)\ttotal: 28.8s\tremaining: 31.4s\n",
            "479:\tlearn: 0.9509658\ttest: 0.9408387\tbest: 0.9415347 (345)\ttotal: 28.9s\tremaining: 31.3s\n",
            "480:\tlearn: 0.9509658\ttest: 0.9408387\tbest: 0.9415347 (345)\ttotal: 28.9s\tremaining: 31.2s\n",
            "481:\tlearn: 0.9510403\ttest: 0.9406647\tbest: 0.9415347 (345)\ttotal: 29s\tremaining: 31.2s\n",
            "482:\tlearn: 0.9511522\ttest: 0.9406647\tbest: 0.9415347 (345)\ttotal: 29.1s\tremaining: 31.1s\n",
            "483:\tlearn: 0.9510776\ttest: 0.9406647\tbest: 0.9415347 (345)\ttotal: 29.1s\tremaining: 31.1s\n",
            "484:\tlearn: 0.9510776\ttest: 0.9406647\tbest: 0.9415347 (345)\ttotal: 29.2s\tremaining: 31s\n",
            "485:\tlearn: 0.9511149\ttest: 0.9407517\tbest: 0.9415347 (345)\ttotal: 29.3s\tremaining: 30.9s\n",
            "486:\tlearn: 0.9511522\ttest: 0.9407517\tbest: 0.9415347 (345)\ttotal: 29.3s\tremaining: 30.9s\n",
            "487:\tlearn: 0.9511149\ttest: 0.9407517\tbest: 0.9415347 (345)\ttotal: 29.4s\tremaining: 30.8s\n",
            "488:\tlearn: 0.9511149\ttest: 0.9408387\tbest: 0.9415347 (345)\ttotal: 29.4s\tremaining: 30.8s\n",
            "489:\tlearn: 0.9510776\ttest: 0.9407517\tbest: 0.9415347 (345)\ttotal: 29.5s\tremaining: 30.7s\n",
            "490:\tlearn: 0.9511149\ttest: 0.9407517\tbest: 0.9415347 (345)\ttotal: 29.6s\tremaining: 30.6s\n",
            "491:\tlearn: 0.9511522\ttest: 0.9407517\tbest: 0.9415347 (345)\ttotal: 29.6s\tremaining: 30.6s\n",
            "492:\tlearn: 0.9511149\ttest: 0.9407517\tbest: 0.9415347 (345)\ttotal: 29.7s\tremaining: 30.5s\n",
            "493:\tlearn: 0.9511522\ttest: 0.9407517\tbest: 0.9415347 (345)\ttotal: 29.8s\tremaining: 30.5s\n",
            "494:\tlearn: 0.9511149\ttest: 0.9407517\tbest: 0.9415347 (345)\ttotal: 29.8s\tremaining: 30.4s\n",
            "495:\tlearn: 0.9511522\ttest: 0.9407517\tbest: 0.9415347 (345)\ttotal: 29.9s\tremaining: 30.3s\n",
            "496:\tlearn: 0.9511149\ttest: 0.9409257\tbest: 0.9415347 (345)\ttotal: 29.9s\tremaining: 30.3s\n",
            "497:\tlearn: 0.9511149\ttest: 0.9410127\tbest: 0.9415347 (345)\ttotal: 30s\tremaining: 30.2s\n",
            "498:\tlearn: 0.9510776\ttest: 0.9410127\tbest: 0.9415347 (345)\ttotal: 30.1s\tremaining: 30.2s\n",
            "499:\tlearn: 0.9511895\ttest: 0.9410127\tbest: 0.9415347 (345)\ttotal: 30.1s\tremaining: 30.1s\n",
            "500:\tlearn: 0.9511522\ttest: 0.9410127\tbest: 0.9415347 (345)\ttotal: 30.2s\tremaining: 30.1s\n",
            "501:\tlearn: 0.9511522\ttest: 0.9409257\tbest: 0.9415347 (345)\ttotal: 30.2s\tremaining: 30s\n",
            "502:\tlearn: 0.9511895\ttest: 0.9409257\tbest: 0.9415347 (345)\ttotal: 30.3s\tremaining: 30s\n",
            "503:\tlearn: 0.9512268\ttest: 0.9410127\tbest: 0.9415347 (345)\ttotal: 30.4s\tremaining: 29.9s\n",
            "504:\tlearn: 0.9513387\ttest: 0.9410127\tbest: 0.9415347 (345)\ttotal: 30.4s\tremaining: 29.8s\n",
            "505:\tlearn: 0.9513387\ttest: 0.9410127\tbest: 0.9415347 (345)\ttotal: 30.5s\tremaining: 29.8s\n",
            "506:\tlearn: 0.9514132\ttest: 0.9410127\tbest: 0.9415347 (345)\ttotal: 30.6s\tremaining: 29.7s\n",
            "507:\tlearn: 0.9514132\ttest: 0.9410127\tbest: 0.9415347 (345)\ttotal: 30.6s\tremaining: 29.7s\n",
            "508:\tlearn: 0.9514878\ttest: 0.9409257\tbest: 0.9415347 (345)\ttotal: 30.7s\tremaining: 29.6s\n",
            "509:\tlearn: 0.9514878\ttest: 0.9409257\tbest: 0.9415347 (345)\ttotal: 30.8s\tremaining: 29.5s\n",
            "510:\tlearn: 0.9514878\ttest: 0.9407517\tbest: 0.9415347 (345)\ttotal: 30.8s\tremaining: 29.5s\n",
            "511:\tlearn: 0.9515251\ttest: 0.9407517\tbest: 0.9415347 (345)\ttotal: 30.9s\tremaining: 29.4s\n",
            "512:\tlearn: 0.9516370\ttest: 0.9407517\tbest: 0.9415347 (345)\ttotal: 31s\tremaining: 29.4s\n",
            "513:\tlearn: 0.9516370\ttest: 0.9407517\tbest: 0.9415347 (345)\ttotal: 31s\tremaining: 29.3s\n",
            "514:\tlearn: 0.9515624\ttest: 0.9407517\tbest: 0.9415347 (345)\ttotal: 31.1s\tremaining: 29.3s\n",
            "515:\tlearn: 0.9515624\ttest: 0.9408387\tbest: 0.9415347 (345)\ttotal: 31.2s\tremaining: 29.2s\n",
            "516:\tlearn: 0.9515624\ttest: 0.9408387\tbest: 0.9415347 (345)\ttotal: 31.2s\tremaining: 29.2s\n",
            "517:\tlearn: 0.9514878\ttest: 0.9407517\tbest: 0.9415347 (345)\ttotal: 31.3s\tremaining: 29.1s\n",
            "518:\tlearn: 0.9516370\ttest: 0.9408387\tbest: 0.9415347 (345)\ttotal: 31.4s\tremaining: 29.1s\n",
            "519:\tlearn: 0.9515624\ttest: 0.9408387\tbest: 0.9415347 (345)\ttotal: 31.4s\tremaining: 29s\n",
            "520:\tlearn: 0.9516370\ttest: 0.9407517\tbest: 0.9415347 (345)\ttotal: 31.5s\tremaining: 28.9s\n",
            "521:\tlearn: 0.9516742\ttest: 0.9407517\tbest: 0.9415347 (345)\ttotal: 31.5s\tremaining: 28.9s\n",
            "522:\tlearn: 0.9517488\ttest: 0.9407517\tbest: 0.9415347 (345)\ttotal: 31.6s\tremaining: 28.8s\n",
            "523:\tlearn: 0.9517861\ttest: 0.9407517\tbest: 0.9415347 (345)\ttotal: 31.7s\tremaining: 28.8s\n",
            "524:\tlearn: 0.9517115\ttest: 0.9408387\tbest: 0.9415347 (345)\ttotal: 31.7s\tremaining: 28.7s\n",
            "525:\tlearn: 0.9517488\ttest: 0.9408387\tbest: 0.9415347 (345)\ttotal: 31.8s\tremaining: 28.6s\n",
            "526:\tlearn: 0.9517488\ttest: 0.9408387\tbest: 0.9415347 (345)\ttotal: 31.8s\tremaining: 28.6s\n",
            "527:\tlearn: 0.9518607\ttest: 0.9407517\tbest: 0.9415347 (345)\ttotal: 31.9s\tremaining: 28.5s\n",
            "528:\tlearn: 0.9518980\ttest: 0.9407517\tbest: 0.9415347 (345)\ttotal: 32s\tremaining: 28.5s\n",
            "529:\tlearn: 0.9519353\ttest: 0.9407517\tbest: 0.9415347 (345)\ttotal: 32s\tremaining: 28.4s\n",
            "530:\tlearn: 0.9519726\ttest: 0.9407517\tbest: 0.9415347 (345)\ttotal: 32.1s\tremaining: 28.4s\n",
            "531:\tlearn: 0.9519726\ttest: 0.9407517\tbest: 0.9415347 (345)\ttotal: 32.2s\tremaining: 28.3s\n",
            "532:\tlearn: 0.9519353\ttest: 0.9406647\tbest: 0.9415347 (345)\ttotal: 32.2s\tremaining: 28.2s\n",
            "533:\tlearn: 0.9520098\ttest: 0.9406647\tbest: 0.9415347 (345)\ttotal: 32.3s\tremaining: 28.2s\n",
            "534:\tlearn: 0.9519726\ttest: 0.9406647\tbest: 0.9415347 (345)\ttotal: 32.4s\tremaining: 28.1s\n",
            "535:\tlearn: 0.9520098\ttest: 0.9406647\tbest: 0.9415347 (345)\ttotal: 32.4s\tremaining: 28.1s\n",
            "536:\tlearn: 0.9520098\ttest: 0.9406647\tbest: 0.9415347 (345)\ttotal: 32.5s\tremaining: 28s\n",
            "537:\tlearn: 0.9519726\ttest: 0.9406647\tbest: 0.9415347 (345)\ttotal: 32.5s\tremaining: 27.9s\n",
            "538:\tlearn: 0.9520098\ttest: 0.9406647\tbest: 0.9415347 (345)\ttotal: 32.6s\tremaining: 27.9s\n",
            "539:\tlearn: 0.9520098\ttest: 0.9406647\tbest: 0.9415347 (345)\ttotal: 32.7s\tremaining: 27.8s\n",
            "540:\tlearn: 0.9520098\ttest: 0.9406647\tbest: 0.9415347 (345)\ttotal: 32.7s\tremaining: 27.8s\n",
            "541:\tlearn: 0.9520098\ttest: 0.9406647\tbest: 0.9415347 (345)\ttotal: 32.8s\tremaining: 27.7s\n",
            "542:\tlearn: 0.9520098\ttest: 0.9405777\tbest: 0.9415347 (345)\ttotal: 32.9s\tremaining: 27.6s\n",
            "543:\tlearn: 0.9520098\ttest: 0.9405777\tbest: 0.9415347 (345)\ttotal: 32.9s\tremaining: 27.6s\n",
            "544:\tlearn: 0.9521217\ttest: 0.9405777\tbest: 0.9415347 (345)\ttotal: 33s\tremaining: 27.5s\n",
            "545:\tlearn: 0.9520844\ttest: 0.9405777\tbest: 0.9415347 (345)\ttotal: 33s\tremaining: 27.5s\n",
            "546:\tlearn: 0.9521963\ttest: 0.9405777\tbest: 0.9415347 (345)\ttotal: 33.1s\tremaining: 27.4s\n",
            "547:\tlearn: 0.9522336\ttest: 0.9405777\tbest: 0.9415347 (345)\ttotal: 33.1s\tremaining: 27.3s\n",
            "548:\tlearn: 0.9522336\ttest: 0.9405777\tbest: 0.9415347 (345)\ttotal: 33.2s\tremaining: 27.3s\n",
            "549:\tlearn: 0.9522709\ttest: 0.9405777\tbest: 0.9415347 (345)\ttotal: 33.3s\tremaining: 27.2s\n",
            "550:\tlearn: 0.9523454\ttest: 0.9406647\tbest: 0.9415347 (345)\ttotal: 33.3s\tremaining: 27.2s\n",
            "551:\tlearn: 0.9522336\ttest: 0.9406647\tbest: 0.9415347 (345)\ttotal: 33.4s\tremaining: 27.1s\n",
            "552:\tlearn: 0.9523082\ttest: 0.9405777\tbest: 0.9415347 (345)\ttotal: 33.5s\tremaining: 27s\n",
            "553:\tlearn: 0.9522336\ttest: 0.9406647\tbest: 0.9415347 (345)\ttotal: 33.5s\tremaining: 27s\n",
            "554:\tlearn: 0.9522709\ttest: 0.9405777\tbest: 0.9415347 (345)\ttotal: 33.6s\tremaining: 26.9s\n",
            "555:\tlearn: 0.9523082\ttest: 0.9405777\tbest: 0.9415347 (345)\ttotal: 33.6s\tremaining: 26.9s\n",
            "556:\tlearn: 0.9522709\ttest: 0.9405777\tbest: 0.9415347 (345)\ttotal: 33.7s\tremaining: 26.8s\n",
            "557:\tlearn: 0.9523082\ttest: 0.9405777\tbest: 0.9415347 (345)\ttotal: 33.8s\tremaining: 26.8s\n",
            "558:\tlearn: 0.9523082\ttest: 0.9405777\tbest: 0.9415347 (345)\ttotal: 33.8s\tremaining: 26.7s\n",
            "559:\tlearn: 0.9523827\ttest: 0.9405777\tbest: 0.9415347 (345)\ttotal: 33.9s\tremaining: 26.6s\n",
            "560:\tlearn: 0.9524200\ttest: 0.9405777\tbest: 0.9415347 (345)\ttotal: 34s\tremaining: 26.6s\n",
            "561:\tlearn: 0.9523827\ttest: 0.9405777\tbest: 0.9415347 (345)\ttotal: 34s\tremaining: 26.5s\n",
            "562:\tlearn: 0.9523454\ttest: 0.9404907\tbest: 0.9415347 (345)\ttotal: 34.1s\tremaining: 26.5s\n",
            "563:\tlearn: 0.9523454\ttest: 0.9404907\tbest: 0.9415347 (345)\ttotal: 34.2s\tremaining: 26.4s\n",
            "564:\tlearn: 0.9523827\ttest: 0.9404907\tbest: 0.9415347 (345)\ttotal: 34.2s\tremaining: 26.4s\n",
            "565:\tlearn: 0.9524200\ttest: 0.9404907\tbest: 0.9415347 (345)\ttotal: 34.3s\tremaining: 26.3s\n",
            "566:\tlearn: 0.9524200\ttest: 0.9404907\tbest: 0.9415347 (345)\ttotal: 34.4s\tremaining: 26.2s\n",
            "567:\tlearn: 0.9524200\ttest: 0.9404907\tbest: 0.9415347 (345)\ttotal: 34.4s\tremaining: 26.2s\n",
            "568:\tlearn: 0.9524200\ttest: 0.9404037\tbest: 0.9415347 (345)\ttotal: 34.5s\tremaining: 26.1s\n",
            "569:\tlearn: 0.9524200\ttest: 0.9404907\tbest: 0.9415347 (345)\ttotal: 34.6s\tremaining: 26.1s\n",
            "570:\tlearn: 0.9524200\ttest: 0.9404907\tbest: 0.9415347 (345)\ttotal: 34.6s\tremaining: 26s\n",
            "571:\tlearn: 0.9524573\ttest: 0.9404037\tbest: 0.9415347 (345)\ttotal: 34.7s\tremaining: 26s\n",
            "572:\tlearn: 0.9524573\ttest: 0.9404907\tbest: 0.9415347 (345)\ttotal: 34.8s\tremaining: 25.9s\n",
            "573:\tlearn: 0.9524573\ttest: 0.9404037\tbest: 0.9415347 (345)\ttotal: 34.8s\tremaining: 25.8s\n",
            "574:\tlearn: 0.9524946\ttest: 0.9404037\tbest: 0.9415347 (345)\ttotal: 34.9s\tremaining: 25.8s\n",
            "575:\tlearn: 0.9524573\ttest: 0.9404037\tbest: 0.9415347 (345)\ttotal: 34.9s\tremaining: 25.7s\n",
            "576:\tlearn: 0.9524946\ttest: 0.9404037\tbest: 0.9415347 (345)\ttotal: 35s\tremaining: 25.7s\n",
            "577:\tlearn: 0.9524946\ttest: 0.9404037\tbest: 0.9415347 (345)\ttotal: 35.1s\tremaining: 25.6s\n",
            "578:\tlearn: 0.9524946\ttest: 0.9404037\tbest: 0.9415347 (345)\ttotal: 35.1s\tremaining: 25.5s\n",
            "579:\tlearn: 0.9524573\ttest: 0.9403167\tbest: 0.9415347 (345)\ttotal: 35.2s\tremaining: 25.5s\n",
            "580:\tlearn: 0.9524573\ttest: 0.9403167\tbest: 0.9415347 (345)\ttotal: 35.3s\tremaining: 25.4s\n",
            "581:\tlearn: 0.9524573\ttest: 0.9403167\tbest: 0.9415347 (345)\ttotal: 35.3s\tremaining: 25.4s\n",
            "582:\tlearn: 0.9524573\ttest: 0.9403167\tbest: 0.9415347 (345)\ttotal: 35.4s\tremaining: 25.3s\n",
            "583:\tlearn: 0.9524946\ttest: 0.9403167\tbest: 0.9415347 (345)\ttotal: 35.5s\tremaining: 25.3s\n",
            "584:\tlearn: 0.9526065\ttest: 0.9403167\tbest: 0.9415347 (345)\ttotal: 35.5s\tremaining: 25.2s\n",
            "585:\tlearn: 0.9526437\ttest: 0.9403167\tbest: 0.9415347 (345)\ttotal: 35.6s\tremaining: 25.1s\n",
            "586:\tlearn: 0.9526065\ttest: 0.9404037\tbest: 0.9415347 (345)\ttotal: 35.6s\tremaining: 25.1s\n",
            "587:\tlearn: 0.9526065\ttest: 0.9404907\tbest: 0.9415347 (345)\ttotal: 35.7s\tremaining: 25s\n",
            "588:\tlearn: 0.9526437\ttest: 0.9404907\tbest: 0.9415347 (345)\ttotal: 35.8s\tremaining: 25s\n",
            "589:\tlearn: 0.9527556\ttest: 0.9405777\tbest: 0.9415347 (345)\ttotal: 35.8s\tremaining: 24.9s\n",
            "590:\tlearn: 0.9527929\ttest: 0.9405777\tbest: 0.9415347 (345)\ttotal: 35.9s\tremaining: 24.8s\n",
            "591:\tlearn: 0.9527929\ttest: 0.9405777\tbest: 0.9415347 (345)\ttotal: 35.9s\tremaining: 24.8s\n",
            "592:\tlearn: 0.9528675\ttest: 0.9405777\tbest: 0.9415347 (345)\ttotal: 36s\tremaining: 24.7s\n",
            "593:\tlearn: 0.9528302\ttest: 0.9405777\tbest: 0.9415347 (345)\ttotal: 36.1s\tremaining: 24.6s\n",
            "594:\tlearn: 0.9528302\ttest: 0.9405777\tbest: 0.9415347 (345)\ttotal: 36.1s\tremaining: 24.6s\n",
            "595:\tlearn: 0.9528302\ttest: 0.9405777\tbest: 0.9415347 (345)\ttotal: 36.2s\tremaining: 24.5s\n",
            "596:\tlearn: 0.9528302\ttest: 0.9405777\tbest: 0.9415347 (345)\ttotal: 36.3s\tremaining: 24.5s\n",
            "597:\tlearn: 0.9528302\ttest: 0.9405777\tbest: 0.9415347 (345)\ttotal: 36.3s\tremaining: 24.4s\n",
            "598:\tlearn: 0.9528675\ttest: 0.9405777\tbest: 0.9415347 (345)\ttotal: 36.4s\tremaining: 24.4s\n",
            "599:\tlearn: 0.9529048\ttest: 0.9405777\tbest: 0.9415347 (345)\ttotal: 36.4s\tremaining: 24.3s\n",
            "600:\tlearn: 0.9529793\ttest: 0.9405777\tbest: 0.9415347 (345)\ttotal: 36.5s\tremaining: 24.2s\n",
            "601:\tlearn: 0.9529421\ttest: 0.9406647\tbest: 0.9415347 (345)\ttotal: 36.6s\tremaining: 24.2s\n",
            "602:\tlearn: 0.9529048\ttest: 0.9406647\tbest: 0.9415347 (345)\ttotal: 36.6s\tremaining: 24.1s\n",
            "603:\tlearn: 0.9529421\ttest: 0.9405777\tbest: 0.9415347 (345)\ttotal: 36.7s\tremaining: 24.1s\n",
            "604:\tlearn: 0.9528675\ttest: 0.9405777\tbest: 0.9415347 (345)\ttotal: 36.8s\tremaining: 24s\n",
            "605:\tlearn: 0.9528675\ttest: 0.9404907\tbest: 0.9415347 (345)\ttotal: 36.8s\tremaining: 23.9s\n",
            "606:\tlearn: 0.9529048\ttest: 0.9404907\tbest: 0.9415347 (345)\ttotal: 36.9s\tremaining: 23.9s\n",
            "607:\tlearn: 0.9529048\ttest: 0.9404907\tbest: 0.9415347 (345)\ttotal: 36.9s\tremaining: 23.8s\n",
            "608:\tlearn: 0.9529421\ttest: 0.9404037\tbest: 0.9415347 (345)\ttotal: 37s\tremaining: 23.8s\n",
            "609:\tlearn: 0.9529421\ttest: 0.9404037\tbest: 0.9415347 (345)\ttotal: 37.1s\tremaining: 23.7s\n",
            "610:\tlearn: 0.9529793\ttest: 0.9404037\tbest: 0.9415347 (345)\ttotal: 37.1s\tremaining: 23.6s\n",
            "611:\tlearn: 0.9529793\ttest: 0.9404907\tbest: 0.9415347 (345)\ttotal: 37.2s\tremaining: 23.6s\n",
            "612:\tlearn: 0.9530166\ttest: 0.9405777\tbest: 0.9415347 (345)\ttotal: 37.2s\tremaining: 23.5s\n",
            "613:\tlearn: 0.9530912\ttest: 0.9405777\tbest: 0.9415347 (345)\ttotal: 37.3s\tremaining: 23.5s\n",
            "614:\tlearn: 0.9530539\ttest: 0.9405777\tbest: 0.9415347 (345)\ttotal: 37.4s\tremaining: 23.4s\n",
            "615:\tlearn: 0.9531658\ttest: 0.9407517\tbest: 0.9415347 (345)\ttotal: 37.4s\tremaining: 23.3s\n",
            "616:\tlearn: 0.9530912\ttest: 0.9407517\tbest: 0.9415347 (345)\ttotal: 37.5s\tremaining: 23.3s\n",
            "617:\tlearn: 0.9531285\ttest: 0.9407517\tbest: 0.9415347 (345)\ttotal: 37.6s\tremaining: 23.2s\n",
            "618:\tlearn: 0.9531285\ttest: 0.9407517\tbest: 0.9415347 (345)\ttotal: 37.6s\tremaining: 23.2s\n",
            "619:\tlearn: 0.9531285\ttest: 0.9407517\tbest: 0.9415347 (345)\ttotal: 37.7s\tremaining: 23.1s\n",
            "620:\tlearn: 0.9530912\ttest: 0.9405777\tbest: 0.9415347 (345)\ttotal: 37.8s\tremaining: 23s\n",
            "621:\tlearn: 0.9531285\ttest: 0.9407517\tbest: 0.9415347 (345)\ttotal: 37.8s\tremaining: 23s\n",
            "622:\tlearn: 0.9532031\ttest: 0.9406647\tbest: 0.9415347 (345)\ttotal: 37.9s\tremaining: 22.9s\n",
            "623:\tlearn: 0.9532404\ttest: 0.9408387\tbest: 0.9415347 (345)\ttotal: 37.9s\tremaining: 22.9s\n",
            "624:\tlearn: 0.9532404\ttest: 0.9408387\tbest: 0.9415347 (345)\ttotal: 38s\tremaining: 22.8s\n",
            "625:\tlearn: 0.9532776\ttest: 0.9408387\tbest: 0.9415347 (345)\ttotal: 38.1s\tremaining: 22.7s\n",
            "626:\tlearn: 0.9532404\ttest: 0.9408387\tbest: 0.9415347 (345)\ttotal: 38.1s\tremaining: 22.7s\n",
            "627:\tlearn: 0.9533149\ttest: 0.9408387\tbest: 0.9415347 (345)\ttotal: 38.2s\tremaining: 22.6s\n",
            "628:\tlearn: 0.9533522\ttest: 0.9409257\tbest: 0.9415347 (345)\ttotal: 38.3s\tremaining: 22.6s\n",
            "629:\tlearn: 0.9533149\ttest: 0.9408387\tbest: 0.9415347 (345)\ttotal: 38.3s\tremaining: 22.5s\n",
            "630:\tlearn: 0.9535014\ttest: 0.9407517\tbest: 0.9415347 (345)\ttotal: 38.4s\tremaining: 22.4s\n",
            "631:\tlearn: 0.9535014\ttest: 0.9407517\tbest: 0.9415347 (345)\ttotal: 38.4s\tremaining: 22.4s\n",
            "632:\tlearn: 0.9534268\ttest: 0.9406647\tbest: 0.9415347 (345)\ttotal: 38.5s\tremaining: 22.3s\n",
            "633:\tlearn: 0.9534268\ttest: 0.9407517\tbest: 0.9415347 (345)\ttotal: 38.6s\tremaining: 22.3s\n",
            "634:\tlearn: 0.9535014\ttest: 0.9407517\tbest: 0.9415347 (345)\ttotal: 38.6s\tremaining: 22.2s\n",
            "635:\tlearn: 0.9535014\ttest: 0.9408387\tbest: 0.9415347 (345)\ttotal: 38.7s\tremaining: 22.1s\n",
            "636:\tlearn: 0.9535760\ttest: 0.9407517\tbest: 0.9415347 (345)\ttotal: 38.8s\tremaining: 22.1s\n",
            "637:\tlearn: 0.9535760\ttest: 0.9407517\tbest: 0.9415347 (345)\ttotal: 38.8s\tremaining: 22s\n",
            "638:\tlearn: 0.9535387\ttest: 0.9406647\tbest: 0.9415347 (345)\ttotal: 38.9s\tremaining: 22s\n",
            "639:\tlearn: 0.9535387\ttest: 0.9406647\tbest: 0.9415347 (345)\ttotal: 38.9s\tremaining: 21.9s\n",
            "640:\tlearn: 0.9535760\ttest: 0.9407517\tbest: 0.9415347 (345)\ttotal: 39s\tremaining: 21.8s\n",
            "641:\tlearn: 0.9536132\ttest: 0.9407517\tbest: 0.9415347 (345)\ttotal: 39.1s\tremaining: 21.8s\n",
            "642:\tlearn: 0.9535760\ttest: 0.9406647\tbest: 0.9415347 (345)\ttotal: 39.1s\tremaining: 21.7s\n",
            "643:\tlearn: 0.9535760\ttest: 0.9406647\tbest: 0.9415347 (345)\ttotal: 39.2s\tremaining: 21.7s\n",
            "644:\tlearn: 0.9536132\ttest: 0.9404907\tbest: 0.9415347 (345)\ttotal: 39.2s\tremaining: 21.6s\n",
            "645:\tlearn: 0.9536132\ttest: 0.9404907\tbest: 0.9415347 (345)\ttotal: 39.3s\tremaining: 21.5s\n",
            "646:\tlearn: 0.9536505\ttest: 0.9407517\tbest: 0.9415347 (345)\ttotal: 39.4s\tremaining: 21.5s\n",
            "647:\tlearn: 0.9537251\ttest: 0.9407517\tbest: 0.9415347 (345)\ttotal: 39.4s\tremaining: 21.4s\n",
            "648:\tlearn: 0.9538370\ttest: 0.9407517\tbest: 0.9415347 (345)\ttotal: 39.5s\tremaining: 21.4s\n",
            "649:\tlearn: 0.9537251\ttest: 0.9407517\tbest: 0.9415347 (345)\ttotal: 39.6s\tremaining: 21.3s\n",
            "650:\tlearn: 0.9537251\ttest: 0.9407517\tbest: 0.9415347 (345)\ttotal: 39.6s\tremaining: 21.2s\n",
            "651:\tlearn: 0.9537997\ttest: 0.9407517\tbest: 0.9415347 (345)\ttotal: 39.7s\tremaining: 21.2s\n",
            "652:\tlearn: 0.9538370\ttest: 0.9408387\tbest: 0.9415347 (345)\ttotal: 39.8s\tremaining: 21.1s\n",
            "653:\tlearn: 0.9537997\ttest: 0.9407517\tbest: 0.9415347 (345)\ttotal: 39.8s\tremaining: 21.1s\n",
            "654:\tlearn: 0.9537997\ttest: 0.9407517\tbest: 0.9415347 (345)\ttotal: 39.9s\tremaining: 21s\n",
            "655:\tlearn: 0.9538743\ttest: 0.9407517\tbest: 0.9415347 (345)\ttotal: 40s\tremaining: 20.9s\n",
            "656:\tlearn: 0.9539116\ttest: 0.9407517\tbest: 0.9415347 (345)\ttotal: 40s\tremaining: 20.9s\n",
            "657:\tlearn: 0.9539488\ttest: 0.9407517\tbest: 0.9415347 (345)\ttotal: 40.1s\tremaining: 20.8s\n",
            "658:\tlearn: 0.9539488\ttest: 0.9407517\tbest: 0.9415347 (345)\ttotal: 40.1s\tremaining: 20.8s\n",
            "659:\tlearn: 0.9540234\ttest: 0.9407517\tbest: 0.9415347 (345)\ttotal: 40.2s\tremaining: 20.7s\n",
            "660:\tlearn: 0.9540234\ttest: 0.9407517\tbest: 0.9415347 (345)\ttotal: 40.3s\tremaining: 20.6s\n",
            "661:\tlearn: 0.9540980\ttest: 0.9406647\tbest: 0.9415347 (345)\ttotal: 40.3s\tremaining: 20.6s\n",
            "662:\tlearn: 0.9540607\ttest: 0.9406647\tbest: 0.9415347 (345)\ttotal: 40.4s\tremaining: 20.5s\n",
            "663:\tlearn: 0.9540607\ttest: 0.9406647\tbest: 0.9415347 (345)\ttotal: 40.4s\tremaining: 20.5s\n",
            "664:\tlearn: 0.9540234\ttest: 0.9406647\tbest: 0.9415347 (345)\ttotal: 40.5s\tremaining: 20.4s\n",
            "665:\tlearn: 0.9539488\ttest: 0.9406647\tbest: 0.9415347 (345)\ttotal: 40.6s\tremaining: 20.3s\n",
            "666:\tlearn: 0.9540234\ttest: 0.9406647\tbest: 0.9415347 (345)\ttotal: 40.6s\tremaining: 20.3s\n",
            "667:\tlearn: 0.9540607\ttest: 0.9406647\tbest: 0.9415347 (345)\ttotal: 40.7s\tremaining: 20.2s\n",
            "668:\tlearn: 0.9540607\ttest: 0.9406647\tbest: 0.9415347 (345)\ttotal: 40.7s\tremaining: 20.2s\n",
            "669:\tlearn: 0.9540607\ttest: 0.9406647\tbest: 0.9415347 (345)\ttotal: 40.8s\tremaining: 20.1s\n",
            "670:\tlearn: 0.9540980\ttest: 0.9407517\tbest: 0.9415347 (345)\ttotal: 40.9s\tremaining: 20s\n",
            "671:\tlearn: 0.9540980\ttest: 0.9407517\tbest: 0.9415347 (345)\ttotal: 40.9s\tremaining: 20s\n",
            "672:\tlearn: 0.9540980\ttest: 0.9407517\tbest: 0.9415347 (345)\ttotal: 41s\tremaining: 19.9s\n",
            "673:\tlearn: 0.9541353\ttest: 0.9407517\tbest: 0.9415347 (345)\ttotal: 41s\tremaining: 19.8s\n",
            "674:\tlearn: 0.9541726\ttest: 0.9408387\tbest: 0.9415347 (345)\ttotal: 41.1s\tremaining: 19.8s\n",
            "675:\tlearn: 0.9542099\ttest: 0.9408387\tbest: 0.9415347 (345)\ttotal: 41.1s\tremaining: 19.7s\n",
            "676:\tlearn: 0.9542099\ttest: 0.9408387\tbest: 0.9415347 (345)\ttotal: 41.2s\tremaining: 19.7s\n",
            "677:\tlearn: 0.9542471\ttest: 0.9408387\tbest: 0.9415347 (345)\ttotal: 41.3s\tremaining: 19.6s\n",
            "678:\tlearn: 0.9542844\ttest: 0.9408387\tbest: 0.9415347 (345)\ttotal: 41.3s\tremaining: 19.5s\n",
            "679:\tlearn: 0.9542844\ttest: 0.9408387\tbest: 0.9415347 (345)\ttotal: 41.4s\tremaining: 19.5s\n",
            "680:\tlearn: 0.9543217\ttest: 0.9408387\tbest: 0.9415347 (345)\ttotal: 41.5s\tremaining: 19.4s\n",
            "681:\tlearn: 0.9543590\ttest: 0.9408387\tbest: 0.9415347 (345)\ttotal: 41.5s\tremaining: 19.4s\n",
            "682:\tlearn: 0.9543590\ttest: 0.9408387\tbest: 0.9415347 (345)\ttotal: 41.6s\tremaining: 19.3s\n",
            "683:\tlearn: 0.9543963\ttest: 0.9408387\tbest: 0.9415347 (345)\ttotal: 41.6s\tremaining: 19.2s\n",
            "684:\tlearn: 0.9544709\ttest: 0.9408387\tbest: 0.9415347 (345)\ttotal: 41.7s\tremaining: 19.2s\n",
            "685:\tlearn: 0.9544709\ttest: 0.9408387\tbest: 0.9415347 (345)\ttotal: 41.8s\tremaining: 19.1s\n",
            "686:\tlearn: 0.9545082\ttest: 0.9409257\tbest: 0.9415347 (345)\ttotal: 41.8s\tremaining: 19.1s\n",
            "687:\tlearn: 0.9545827\ttest: 0.9409257\tbest: 0.9415347 (345)\ttotal: 41.9s\tremaining: 19s\n",
            "688:\tlearn: 0.9545827\ttest: 0.9409257\tbest: 0.9415347 (345)\ttotal: 42s\tremaining: 18.9s\n",
            "689:\tlearn: 0.9545455\ttest: 0.9409257\tbest: 0.9415347 (345)\ttotal: 42s\tremaining: 18.9s\n",
            "690:\tlearn: 0.9545827\ttest: 0.9409257\tbest: 0.9415347 (345)\ttotal: 42.1s\tremaining: 18.8s\n",
            "691:\tlearn: 0.9545827\ttest: 0.9409257\tbest: 0.9415347 (345)\ttotal: 42.1s\tremaining: 18.8s\n",
            "692:\tlearn: 0.9545827\ttest: 0.9409257\tbest: 0.9415347 (345)\ttotal: 42.2s\tremaining: 18.7s\n",
            "693:\tlearn: 0.9546946\ttest: 0.9408387\tbest: 0.9415347 (345)\ttotal: 42.3s\tremaining: 18.6s\n",
            "694:\tlearn: 0.9546946\ttest: 0.9408387\tbest: 0.9415347 (345)\ttotal: 42.3s\tremaining: 18.6s\n",
            "695:\tlearn: 0.9546200\ttest: 0.9408387\tbest: 0.9415347 (345)\ttotal: 42.4s\tremaining: 18.5s\n",
            "696:\tlearn: 0.9546200\ttest: 0.9408387\tbest: 0.9415347 (345)\ttotal: 42.4s\tremaining: 18.4s\n",
            "697:\tlearn: 0.9546573\ttest: 0.9407517\tbest: 0.9415347 (345)\ttotal: 42.5s\tremaining: 18.4s\n",
            "698:\tlearn: 0.9546573\ttest: 0.9407517\tbest: 0.9415347 (345)\ttotal: 42.6s\tremaining: 18.3s\n",
            "699:\tlearn: 0.9546573\ttest: 0.9407517\tbest: 0.9415347 (345)\ttotal: 42.6s\tremaining: 18.3s\n",
            "700:\tlearn: 0.9546573\ttest: 0.9407517\tbest: 0.9415347 (345)\ttotal: 42.7s\tremaining: 18.2s\n",
            "701:\tlearn: 0.9546946\ttest: 0.9408387\tbest: 0.9415347 (345)\ttotal: 42.7s\tremaining: 18.1s\n",
            "702:\tlearn: 0.9545827\ttest: 0.9408387\tbest: 0.9415347 (345)\ttotal: 42.8s\tremaining: 18.1s\n",
            "703:\tlearn: 0.9547692\ttest: 0.9408387\tbest: 0.9415347 (345)\ttotal: 42.9s\tremaining: 18s\n",
            "704:\tlearn: 0.9547692\ttest: 0.9407517\tbest: 0.9415347 (345)\ttotal: 42.9s\tremaining: 18s\n",
            "705:\tlearn: 0.9548438\ttest: 0.9407517\tbest: 0.9415347 (345)\ttotal: 43s\tremaining: 17.9s\n",
            "706:\tlearn: 0.9549929\ttest: 0.9408387\tbest: 0.9415347 (345)\ttotal: 43s\tremaining: 17.8s\n",
            "707:\tlearn: 0.9550302\ttest: 0.9407517\tbest: 0.9415347 (345)\ttotal: 43.1s\tremaining: 17.8s\n",
            "708:\tlearn: 0.9550675\ttest: 0.9407517\tbest: 0.9415347 (345)\ttotal: 43.2s\tremaining: 17.7s\n",
            "709:\tlearn: 0.9551048\ttest: 0.9407517\tbest: 0.9415347 (345)\ttotal: 43.2s\tremaining: 17.7s\n",
            "710:\tlearn: 0.9551794\ttest: 0.9407517\tbest: 0.9415347 (345)\ttotal: 43.3s\tremaining: 17.6s\n",
            "711:\tlearn: 0.9551794\ttest: 0.9406647\tbest: 0.9415347 (345)\ttotal: 43.4s\tremaining: 17.5s\n",
            "712:\tlearn: 0.9551794\ttest: 0.9406647\tbest: 0.9415347 (345)\ttotal: 43.4s\tremaining: 17.5s\n",
            "713:\tlearn: 0.9552539\ttest: 0.9404907\tbest: 0.9415347 (345)\ttotal: 43.5s\tremaining: 17.4s\n",
            "714:\tlearn: 0.9552539\ttest: 0.9404907\tbest: 0.9415347 (345)\ttotal: 43.5s\tremaining: 17.4s\n",
            "715:\tlearn: 0.9552912\ttest: 0.9405777\tbest: 0.9415347 (345)\ttotal: 43.6s\tremaining: 17.3s\n",
            "716:\tlearn: 0.9552539\ttest: 0.9405777\tbest: 0.9415347 (345)\ttotal: 43.7s\tremaining: 17.2s\n",
            "717:\tlearn: 0.9552539\ttest: 0.9405777\tbest: 0.9415347 (345)\ttotal: 43.7s\tremaining: 17.2s\n",
            "718:\tlearn: 0.9553285\ttest: 0.9404907\tbest: 0.9415347 (345)\ttotal: 43.8s\tremaining: 17.1s\n",
            "719:\tlearn: 0.9553285\ttest: 0.9404907\tbest: 0.9415347 (345)\ttotal: 43.9s\tremaining: 17.1s\n",
            "720:\tlearn: 0.9553285\ttest: 0.9404907\tbest: 0.9415347 (345)\ttotal: 43.9s\tremaining: 17s\n",
            "721:\tlearn: 0.9553285\ttest: 0.9404907\tbest: 0.9415347 (345)\ttotal: 44s\tremaining: 16.9s\n",
            "722:\tlearn: 0.9552912\ttest: 0.9406647\tbest: 0.9415347 (345)\ttotal: 44s\tremaining: 16.9s\n",
            "723:\tlearn: 0.9552912\ttest: 0.9406647\tbest: 0.9415347 (345)\ttotal: 44.1s\tremaining: 16.8s\n",
            "724:\tlearn: 0.9553285\ttest: 0.9407517\tbest: 0.9415347 (345)\ttotal: 44.2s\tremaining: 16.8s\n",
            "725:\tlearn: 0.9553285\ttest: 0.9407517\tbest: 0.9415347 (345)\ttotal: 44.2s\tremaining: 16.7s\n",
            "726:\tlearn: 0.9552912\ttest: 0.9407517\tbest: 0.9415347 (345)\ttotal: 44.3s\tremaining: 16.6s\n",
            "727:\tlearn: 0.9551794\ttest: 0.9404907\tbest: 0.9415347 (345)\ttotal: 44.4s\tremaining: 16.6s\n",
            "728:\tlearn: 0.9552539\ttest: 0.9404037\tbest: 0.9415347 (345)\ttotal: 44.4s\tremaining: 16.5s\n",
            "729:\tlearn: 0.9552912\ttest: 0.9404037\tbest: 0.9415347 (345)\ttotal: 44.5s\tremaining: 16.5s\n",
            "730:\tlearn: 0.9553285\ttest: 0.9404037\tbest: 0.9415347 (345)\ttotal: 44.5s\tremaining: 16.4s\n",
            "731:\tlearn: 0.9554031\ttest: 0.9405777\tbest: 0.9415347 (345)\ttotal: 44.6s\tremaining: 16.3s\n",
            "732:\tlearn: 0.9554777\ttest: 0.9405777\tbest: 0.9415347 (345)\ttotal: 44.7s\tremaining: 16.3s\n",
            "733:\tlearn: 0.9554404\ttest: 0.9405777\tbest: 0.9415347 (345)\ttotal: 44.7s\tremaining: 16.2s\n",
            "734:\tlearn: 0.9554777\ttest: 0.9405777\tbest: 0.9415347 (345)\ttotal: 44.8s\tremaining: 16.1s\n",
            "735:\tlearn: 0.9554777\ttest: 0.9405777\tbest: 0.9415347 (345)\ttotal: 44.9s\tremaining: 16.1s\n",
            "736:\tlearn: 0.9554404\ttest: 0.9406647\tbest: 0.9415347 (345)\ttotal: 44.9s\tremaining: 16s\n",
            "737:\tlearn: 0.9554777\ttest: 0.9405777\tbest: 0.9415347 (345)\ttotal: 45s\tremaining: 16s\n",
            "738:\tlearn: 0.9554777\ttest: 0.9406647\tbest: 0.9415347 (345)\ttotal: 45s\tremaining: 15.9s\n",
            "739:\tlearn: 0.9554031\ttest: 0.9405777\tbest: 0.9415347 (345)\ttotal: 45.1s\tremaining: 15.8s\n",
            "740:\tlearn: 0.9554031\ttest: 0.9405777\tbest: 0.9415347 (345)\ttotal: 45.1s\tremaining: 15.8s\n",
            "741:\tlearn: 0.9554404\ttest: 0.9406647\tbest: 0.9415347 (345)\ttotal: 45.2s\tremaining: 15.7s\n",
            "742:\tlearn: 0.9555150\ttest: 0.9405777\tbest: 0.9415347 (345)\ttotal: 45.3s\tremaining: 15.7s\n",
            "743:\tlearn: 0.9555895\ttest: 0.9406647\tbest: 0.9415347 (345)\ttotal: 45.3s\tremaining: 15.6s\n",
            "744:\tlearn: 0.9555895\ttest: 0.9406647\tbest: 0.9415347 (345)\ttotal: 45.4s\tremaining: 15.5s\n",
            "745:\tlearn: 0.9555895\ttest: 0.9404907\tbest: 0.9415347 (345)\ttotal: 45.4s\tremaining: 15.5s\n",
            "746:\tlearn: 0.9556268\ttest: 0.9404907\tbest: 0.9415347 (345)\ttotal: 45.5s\tremaining: 15.4s\n",
            "747:\tlearn: 0.9556641\ttest: 0.9405777\tbest: 0.9415347 (345)\ttotal: 45.6s\tremaining: 15.3s\n",
            "748:\tlearn: 0.9555895\ttest: 0.9405777\tbest: 0.9415347 (345)\ttotal: 45.6s\tremaining: 15.3s\n",
            "749:\tlearn: 0.9555895\ttest: 0.9405777\tbest: 0.9415347 (345)\ttotal: 45.7s\tremaining: 15.2s\n",
            "750:\tlearn: 0.9557760\ttest: 0.9405777\tbest: 0.9415347 (345)\ttotal: 45.7s\tremaining: 15.2s\n",
            "751:\tlearn: 0.9558505\ttest: 0.9405777\tbest: 0.9415347 (345)\ttotal: 45.8s\tremaining: 15.1s\n",
            "752:\tlearn: 0.9558878\ttest: 0.9406647\tbest: 0.9415347 (345)\ttotal: 45.9s\tremaining: 15s\n",
            "753:\tlearn: 0.9559251\ttest: 0.9406647\tbest: 0.9415347 (345)\ttotal: 45.9s\tremaining: 15s\n",
            "754:\tlearn: 0.9558505\ttest: 0.9406647\tbest: 0.9415347 (345)\ttotal: 46s\tremaining: 14.9s\n",
            "755:\tlearn: 0.9558505\ttest: 0.9406647\tbest: 0.9415347 (345)\ttotal: 46s\tremaining: 14.9s\n",
            "756:\tlearn: 0.9558878\ttest: 0.9406647\tbest: 0.9415347 (345)\ttotal: 46.1s\tremaining: 14.8s\n",
            "757:\tlearn: 0.9558505\ttest: 0.9406647\tbest: 0.9415347 (345)\ttotal: 46.2s\tremaining: 14.7s\n",
            "758:\tlearn: 0.9558878\ttest: 0.9405777\tbest: 0.9415347 (345)\ttotal: 46.2s\tremaining: 14.7s\n",
            "759:\tlearn: 0.9559251\ttest: 0.9406647\tbest: 0.9415347 (345)\ttotal: 46.3s\tremaining: 14.6s\n",
            "760:\tlearn: 0.9559624\ttest: 0.9405777\tbest: 0.9415347 (345)\ttotal: 46.3s\tremaining: 14.6s\n",
            "761:\tlearn: 0.9560370\ttest: 0.9405777\tbest: 0.9415347 (345)\ttotal: 46.4s\tremaining: 14.5s\n",
            "762:\tlearn: 0.9560743\ttest: 0.9405777\tbest: 0.9415347 (345)\ttotal: 46.5s\tremaining: 14.4s\n",
            "763:\tlearn: 0.9560743\ttest: 0.9405777\tbest: 0.9415347 (345)\ttotal: 46.5s\tremaining: 14.4s\n",
            "764:\tlearn: 0.9560743\ttest: 0.9405777\tbest: 0.9415347 (345)\ttotal: 46.6s\tremaining: 14.3s\n",
            "765:\tlearn: 0.9561116\ttest: 0.9405777\tbest: 0.9415347 (345)\ttotal: 46.7s\tremaining: 14.3s\n",
            "766:\tlearn: 0.9561861\ttest: 0.9405777\tbest: 0.9415347 (345)\ttotal: 46.7s\tremaining: 14.2s\n",
            "767:\tlearn: 0.9561861\ttest: 0.9405777\tbest: 0.9415347 (345)\ttotal: 46.8s\tremaining: 14.1s\n",
            "768:\tlearn: 0.9562234\ttest: 0.9404907\tbest: 0.9415347 (345)\ttotal: 46.8s\tremaining: 14.1s\n",
            "769:\tlearn: 0.9562234\ttest: 0.9404907\tbest: 0.9415347 (345)\ttotal: 46.9s\tremaining: 14s\n",
            "770:\tlearn: 0.9562980\ttest: 0.9404907\tbest: 0.9415347 (345)\ttotal: 47s\tremaining: 13.9s\n",
            "771:\tlearn: 0.9563353\ttest: 0.9404907\tbest: 0.9415347 (345)\ttotal: 47s\tremaining: 13.9s\n",
            "772:\tlearn: 0.9563726\ttest: 0.9404907\tbest: 0.9415347 (345)\ttotal: 47.1s\tremaining: 13.8s\n",
            "773:\tlearn: 0.9563726\ttest: 0.9404907\tbest: 0.9415347 (345)\ttotal: 47.2s\tremaining: 13.8s\n",
            "774:\tlearn: 0.9563726\ttest: 0.9404907\tbest: 0.9415347 (345)\ttotal: 47.2s\tremaining: 13.7s\n",
            "775:\tlearn: 0.9564099\ttest: 0.9405777\tbest: 0.9415347 (345)\ttotal: 47.3s\tremaining: 13.6s\n",
            "776:\tlearn: 0.9562607\ttest: 0.9406647\tbest: 0.9415347 (345)\ttotal: 47.4s\tremaining: 13.6s\n",
            "777:\tlearn: 0.9562980\ttest: 0.9407517\tbest: 0.9415347 (345)\ttotal: 47.4s\tremaining: 13.5s\n",
            "778:\tlearn: 0.9562980\ttest: 0.9407517\tbest: 0.9415347 (345)\ttotal: 47.5s\tremaining: 13.5s\n",
            "779:\tlearn: 0.9562980\ttest: 0.9407517\tbest: 0.9415347 (345)\ttotal: 47.6s\tremaining: 13.4s\n",
            "780:\tlearn: 0.9563353\ttest: 0.9407517\tbest: 0.9415347 (345)\ttotal: 47.6s\tremaining: 13.4s\n",
            "781:\tlearn: 0.9563353\ttest: 0.9407517\tbest: 0.9415347 (345)\ttotal: 47.7s\tremaining: 13.3s\n",
            "782:\tlearn: 0.9562607\ttest: 0.9407517\tbest: 0.9415347 (345)\ttotal: 47.7s\tremaining: 13.2s\n",
            "783:\tlearn: 0.9562607\ttest: 0.9407517\tbest: 0.9415347 (345)\ttotal: 47.8s\tremaining: 13.2s\n",
            "784:\tlearn: 0.9562980\ttest: 0.9407517\tbest: 0.9415347 (345)\ttotal: 47.9s\tremaining: 13.1s\n",
            "785:\tlearn: 0.9562980\ttest: 0.9408387\tbest: 0.9415347 (345)\ttotal: 47.9s\tremaining: 13s\n",
            "786:\tlearn: 0.9564472\ttest: 0.9407517\tbest: 0.9415347 (345)\ttotal: 48s\tremaining: 13s\n",
            "787:\tlearn: 0.9564845\ttest: 0.9407517\tbest: 0.9415347 (345)\ttotal: 48.1s\tremaining: 12.9s\n",
            "788:\tlearn: 0.9565590\ttest: 0.9407517\tbest: 0.9415347 (345)\ttotal: 48.1s\tremaining: 12.9s\n",
            "789:\tlearn: 0.9565590\ttest: 0.9406647\tbest: 0.9415347 (345)\ttotal: 48.2s\tremaining: 12.8s\n",
            "790:\tlearn: 0.9565217\ttest: 0.9406647\tbest: 0.9415347 (345)\ttotal: 48.2s\tremaining: 12.7s\n",
            "791:\tlearn: 0.9564845\ttest: 0.9407517\tbest: 0.9415347 (345)\ttotal: 48.3s\tremaining: 12.7s\n",
            "792:\tlearn: 0.9564845\ttest: 0.9406647\tbest: 0.9415347 (345)\ttotal: 48.4s\tremaining: 12.6s\n",
            "793:\tlearn: 0.9564845\ttest: 0.9407517\tbest: 0.9415347 (345)\ttotal: 48.4s\tremaining: 12.6s\n",
            "794:\tlearn: 0.9565217\ttest: 0.9406647\tbest: 0.9415347 (345)\ttotal: 48.5s\tremaining: 12.5s\n",
            "795:\tlearn: 0.9565217\ttest: 0.9406647\tbest: 0.9415347 (345)\ttotal: 48.6s\tremaining: 12.4s\n",
            "796:\tlearn: 0.9565590\ttest: 0.9406647\tbest: 0.9415347 (345)\ttotal: 48.6s\tremaining: 12.4s\n",
            "797:\tlearn: 0.9565590\ttest: 0.9406647\tbest: 0.9415347 (345)\ttotal: 48.7s\tremaining: 12.3s\n",
            "798:\tlearn: 0.9565590\ttest: 0.9406647\tbest: 0.9415347 (345)\ttotal: 48.8s\tremaining: 12.3s\n",
            "799:\tlearn: 0.9565590\ttest: 0.9406647\tbest: 0.9415347 (345)\ttotal: 48.8s\tremaining: 12.2s\n",
            "800:\tlearn: 0.9565590\ttest: 0.9406647\tbest: 0.9415347 (345)\ttotal: 48.9s\tremaining: 12.1s\n",
            "801:\tlearn: 0.9565590\ttest: 0.9406647\tbest: 0.9415347 (345)\ttotal: 48.9s\tremaining: 12.1s\n",
            "802:\tlearn: 0.9565963\ttest: 0.9406647\tbest: 0.9415347 (345)\ttotal: 49s\tremaining: 12s\n",
            "803:\tlearn: 0.9565963\ttest: 0.9406647\tbest: 0.9415347 (345)\ttotal: 49.1s\tremaining: 12s\n",
            "804:\tlearn: 0.9565963\ttest: 0.9407517\tbest: 0.9415347 (345)\ttotal: 49.1s\tremaining: 11.9s\n",
            "805:\tlearn: 0.9565963\ttest: 0.9407517\tbest: 0.9415347 (345)\ttotal: 49.2s\tremaining: 11.8s\n",
            "806:\tlearn: 0.9565963\ttest: 0.9407517\tbest: 0.9415347 (345)\ttotal: 49.3s\tremaining: 11.8s\n",
            "807:\tlearn: 0.9565963\ttest: 0.9407517\tbest: 0.9415347 (345)\ttotal: 49.3s\tremaining: 11.7s\n",
            "808:\tlearn: 0.9565963\ttest: 0.9409257\tbest: 0.9415347 (345)\ttotal: 49.4s\tremaining: 11.7s\n",
            "809:\tlearn: 0.9566709\ttest: 0.9409257\tbest: 0.9415347 (345)\ttotal: 49.4s\tremaining: 11.6s\n",
            "810:\tlearn: 0.9566709\ttest: 0.9408387\tbest: 0.9415347 (345)\ttotal: 49.5s\tremaining: 11.5s\n",
            "811:\tlearn: 0.9566336\ttest: 0.9408387\tbest: 0.9415347 (345)\ttotal: 49.6s\tremaining: 11.5s\n",
            "812:\tlearn: 0.9566336\ttest: 0.9408387\tbest: 0.9415347 (345)\ttotal: 49.6s\tremaining: 11.4s\n",
            "813:\tlearn: 0.9567082\ttest: 0.9408387\tbest: 0.9415347 (345)\ttotal: 49.7s\tremaining: 11.4s\n",
            "814:\tlearn: 0.9567082\ttest: 0.9408387\tbest: 0.9415347 (345)\ttotal: 49.7s\tremaining: 11.3s\n",
            "815:\tlearn: 0.9567082\ttest: 0.9408387\tbest: 0.9415347 (345)\ttotal: 49.8s\tremaining: 11.2s\n",
            "816:\tlearn: 0.9566709\ttest: 0.9409257\tbest: 0.9415347 (345)\ttotal: 49.9s\tremaining: 11.2s\n",
            "817:\tlearn: 0.9567828\ttest: 0.9408387\tbest: 0.9415347 (345)\ttotal: 49.9s\tremaining: 11.1s\n",
            "818:\tlearn: 0.9567455\ttest: 0.9408387\tbest: 0.9415347 (345)\ttotal: 50s\tremaining: 11.1s\n",
            "819:\tlearn: 0.9567455\ttest: 0.9408387\tbest: 0.9415347 (345)\ttotal: 50.1s\tremaining: 11s\n",
            "820:\tlearn: 0.9568200\ttest: 0.9408387\tbest: 0.9415347 (345)\ttotal: 50.1s\tremaining: 10.9s\n",
            "821:\tlearn: 0.9568573\ttest: 0.9408387\tbest: 0.9415347 (345)\ttotal: 50.2s\tremaining: 10.9s\n",
            "822:\tlearn: 0.9568946\ttest: 0.9409257\tbest: 0.9415347 (345)\ttotal: 50.3s\tremaining: 10.8s\n",
            "823:\tlearn: 0.9568946\ttest: 0.9409257\tbest: 0.9415347 (345)\ttotal: 50.3s\tremaining: 10.7s\n",
            "824:\tlearn: 0.9568946\ttest: 0.9409257\tbest: 0.9415347 (345)\ttotal: 50.4s\tremaining: 10.7s\n",
            "825:\tlearn: 0.9568200\ttest: 0.9409257\tbest: 0.9415347 (345)\ttotal: 50.4s\tremaining: 10.6s\n",
            "826:\tlearn: 0.9568200\ttest: 0.9409257\tbest: 0.9415347 (345)\ttotal: 50.5s\tremaining: 10.6s\n",
            "827:\tlearn: 0.9568200\ttest: 0.9409257\tbest: 0.9415347 (345)\ttotal: 50.6s\tremaining: 10.5s\n",
            "828:\tlearn: 0.9568200\ttest: 0.9409257\tbest: 0.9415347 (345)\ttotal: 50.6s\tremaining: 10.4s\n",
            "829:\tlearn: 0.9567828\ttest: 0.9408387\tbest: 0.9415347 (345)\ttotal: 50.7s\tremaining: 10.4s\n",
            "830:\tlearn: 0.9568200\ttest: 0.9408387\tbest: 0.9415347 (345)\ttotal: 50.8s\tremaining: 10.3s\n",
            "831:\tlearn: 0.9568573\ttest: 0.9408387\tbest: 0.9415347 (345)\ttotal: 50.8s\tremaining: 10.3s\n",
            "832:\tlearn: 0.9567828\ttest: 0.9406647\tbest: 0.9415347 (345)\ttotal: 50.9s\tremaining: 10.2s\n",
            "833:\tlearn: 0.9567828\ttest: 0.9407517\tbest: 0.9415347 (345)\ttotal: 50.9s\tremaining: 10.1s\n",
            "834:\tlearn: 0.9568200\ttest: 0.9407517\tbest: 0.9415347 (345)\ttotal: 51s\tremaining: 10.1s\n",
            "835:\tlearn: 0.9568573\ttest: 0.9407517\tbest: 0.9415347 (345)\ttotal: 51.1s\tremaining: 10s\n",
            "836:\tlearn: 0.9568573\ttest: 0.9408387\tbest: 0.9415347 (345)\ttotal: 51.1s\tremaining: 9.96s\n",
            "837:\tlearn: 0.9568200\ttest: 0.9409257\tbest: 0.9415347 (345)\ttotal: 51.2s\tremaining: 9.9s\n",
            "838:\tlearn: 0.9568946\ttest: 0.9409257\tbest: 0.9415347 (345)\ttotal: 51.3s\tremaining: 9.84s\n",
            "839:\tlearn: 0.9568200\ttest: 0.9409257\tbest: 0.9415347 (345)\ttotal: 51.3s\tremaining: 9.78s\n",
            "840:\tlearn: 0.9568573\ttest: 0.9409257\tbest: 0.9415347 (345)\ttotal: 51.4s\tremaining: 9.72s\n",
            "841:\tlearn: 0.9568573\ttest: 0.9409257\tbest: 0.9415347 (345)\ttotal: 51.5s\tremaining: 9.66s\n",
            "842:\tlearn: 0.9568946\ttest: 0.9409257\tbest: 0.9415347 (345)\ttotal: 51.5s\tremaining: 9.6s\n",
            "843:\tlearn: 0.9569692\ttest: 0.9409257\tbest: 0.9415347 (345)\ttotal: 51.6s\tremaining: 9.54s\n",
            "844:\tlearn: 0.9569692\ttest: 0.9409257\tbest: 0.9415347 (345)\ttotal: 51.7s\tremaining: 9.47s\n",
            "845:\tlearn: 0.9570438\ttest: 0.9409257\tbest: 0.9415347 (345)\ttotal: 51.7s\tremaining: 9.41s\n",
            "846:\tlearn: 0.9570438\ttest: 0.9409257\tbest: 0.9415347 (345)\ttotal: 51.8s\tremaining: 9.35s\n",
            "847:\tlearn: 0.9570438\ttest: 0.9409257\tbest: 0.9415347 (345)\ttotal: 51.8s\tremaining: 9.29s\n",
            "848:\tlearn: 0.9570811\ttest: 0.9408387\tbest: 0.9415347 (345)\ttotal: 51.9s\tremaining: 9.23s\n",
            "849:\tlearn: 0.9571184\ttest: 0.9408387\tbest: 0.9415347 (345)\ttotal: 52s\tremaining: 9.17s\n",
            "850:\tlearn: 0.9571184\ttest: 0.9409257\tbest: 0.9415347 (345)\ttotal: 52s\tremaining: 9.11s\n",
            "851:\tlearn: 0.9571556\ttest: 0.9409257\tbest: 0.9415347 (345)\ttotal: 52.1s\tremaining: 9.05s\n",
            "852:\tlearn: 0.9570811\ttest: 0.9409257\tbest: 0.9415347 (345)\ttotal: 52.2s\tremaining: 8.99s\n",
            "853:\tlearn: 0.9570811\ttest: 0.9409257\tbest: 0.9415347 (345)\ttotal: 52.2s\tremaining: 8.93s\n",
            "854:\tlearn: 0.9570811\ttest: 0.9409257\tbest: 0.9415347 (345)\ttotal: 52.3s\tremaining: 8.87s\n",
            "855:\tlearn: 0.9570811\ttest: 0.9410127\tbest: 0.9415347 (345)\ttotal: 52.3s\tremaining: 8.8s\n",
            "856:\tlearn: 0.9571556\ttest: 0.9410127\tbest: 0.9415347 (345)\ttotal: 52.4s\tremaining: 8.74s\n",
            "857:\tlearn: 0.9570811\ttest: 0.9409257\tbest: 0.9415347 (345)\ttotal: 52.5s\tremaining: 8.68s\n",
            "858:\tlearn: 0.9570438\ttest: 0.9408387\tbest: 0.9415347 (345)\ttotal: 52.5s\tremaining: 8.62s\n",
            "859:\tlearn: 0.9570811\ttest: 0.9408387\tbest: 0.9415347 (345)\ttotal: 52.6s\tremaining: 8.56s\n",
            "860:\tlearn: 0.9571184\ttest: 0.9407517\tbest: 0.9415347 (345)\ttotal: 52.7s\tremaining: 8.5s\n",
            "861:\tlearn: 0.9570811\ttest: 0.9407517\tbest: 0.9415347 (345)\ttotal: 52.7s\tremaining: 8.44s\n",
            "862:\tlearn: 0.9570811\ttest: 0.9407517\tbest: 0.9415347 (345)\ttotal: 52.8s\tremaining: 8.38s\n",
            "863:\tlearn: 0.9570811\ttest: 0.9406647\tbest: 0.9415347 (345)\ttotal: 52.8s\tremaining: 8.32s\n",
            "864:\tlearn: 0.9571184\ttest: 0.9405777\tbest: 0.9415347 (345)\ttotal: 52.9s\tremaining: 8.25s\n",
            "865:\tlearn: 0.9570811\ttest: 0.9405777\tbest: 0.9415347 (345)\ttotal: 53s\tremaining: 8.19s\n",
            "866:\tlearn: 0.9570811\ttest: 0.9406647\tbest: 0.9415347 (345)\ttotal: 53s\tremaining: 8.13s\n",
            "867:\tlearn: 0.9570811\ttest: 0.9406647\tbest: 0.9415347 (345)\ttotal: 53.1s\tremaining: 8.07s\n",
            "868:\tlearn: 0.9571929\ttest: 0.9406647\tbest: 0.9415347 (345)\ttotal: 53.1s\tremaining: 8.01s\n",
            "869:\tlearn: 0.9571929\ttest: 0.9406647\tbest: 0.9415347 (345)\ttotal: 53.2s\tremaining: 7.95s\n",
            "870:\tlearn: 0.9572302\ttest: 0.9405777\tbest: 0.9415347 (345)\ttotal: 53.3s\tremaining: 7.89s\n",
            "871:\tlearn: 0.9571929\ttest: 0.9405777\tbest: 0.9415347 (345)\ttotal: 53.3s\tremaining: 7.83s\n",
            "872:\tlearn: 0.9572302\ttest: 0.9406647\tbest: 0.9415347 (345)\ttotal: 53.4s\tremaining: 7.76s\n",
            "873:\tlearn: 0.9572302\ttest: 0.9406647\tbest: 0.9415347 (345)\ttotal: 53.4s\tremaining: 7.7s\n",
            "874:\tlearn: 0.9571929\ttest: 0.9405777\tbest: 0.9415347 (345)\ttotal: 53.5s\tremaining: 7.64s\n",
            "875:\tlearn: 0.9572675\ttest: 0.9405777\tbest: 0.9415347 (345)\ttotal: 53.6s\tremaining: 7.58s\n",
            "876:\tlearn: 0.9572302\ttest: 0.9405777\tbest: 0.9415347 (345)\ttotal: 53.6s\tremaining: 7.52s\n",
            "877:\tlearn: 0.9572302\ttest: 0.9405777\tbest: 0.9415347 (345)\ttotal: 53.7s\tremaining: 7.46s\n",
            "878:\tlearn: 0.9573048\ttest: 0.9406647\tbest: 0.9415347 (345)\ttotal: 53.8s\tremaining: 7.4s\n",
            "879:\tlearn: 0.9573421\ttest: 0.9406647\tbest: 0.9415347 (345)\ttotal: 53.8s\tremaining: 7.34s\n",
            "880:\tlearn: 0.9573794\ttest: 0.9406647\tbest: 0.9415347 (345)\ttotal: 53.9s\tremaining: 7.28s\n",
            "881:\tlearn: 0.9573794\ttest: 0.9406647\tbest: 0.9415347 (345)\ttotal: 53.9s\tremaining: 7.21s\n",
            "882:\tlearn: 0.9574167\ttest: 0.9406647\tbest: 0.9415347 (345)\ttotal: 54s\tremaining: 7.15s\n",
            "883:\tlearn: 0.9573794\ttest: 0.9406647\tbest: 0.9415347 (345)\ttotal: 54s\tremaining: 7.09s\n",
            "884:\tlearn: 0.9574167\ttest: 0.9406647\tbest: 0.9415347 (345)\ttotal: 54.1s\tremaining: 7.03s\n",
            "885:\tlearn: 0.9574912\ttest: 0.9406647\tbest: 0.9415347 (345)\ttotal: 54.2s\tremaining: 6.97s\n",
            "886:\tlearn: 0.9574912\ttest: 0.9406647\tbest: 0.9415347 (345)\ttotal: 54.2s\tremaining: 6.91s\n",
            "887:\tlearn: 0.9575658\ttest: 0.9406647\tbest: 0.9415347 (345)\ttotal: 54.3s\tremaining: 6.85s\n",
            "888:\tlearn: 0.9575658\ttest: 0.9406647\tbest: 0.9415347 (345)\ttotal: 54.3s\tremaining: 6.79s\n",
            "889:\tlearn: 0.9576404\ttest: 0.9406647\tbest: 0.9415347 (345)\ttotal: 54.4s\tremaining: 6.72s\n",
            "890:\tlearn: 0.9577150\ttest: 0.9406647\tbest: 0.9415347 (345)\ttotal: 54.5s\tremaining: 6.66s\n",
            "891:\tlearn: 0.9576777\ttest: 0.9406647\tbest: 0.9415347 (345)\ttotal: 54.5s\tremaining: 6.6s\n",
            "892:\tlearn: 0.9576777\ttest: 0.9406647\tbest: 0.9415347 (345)\ttotal: 54.6s\tremaining: 6.54s\n",
            "893:\tlearn: 0.9577150\ttest: 0.9406647\tbest: 0.9415347 (345)\ttotal: 54.7s\tremaining: 6.48s\n",
            "894:\tlearn: 0.9577895\ttest: 0.9406647\tbest: 0.9415347 (345)\ttotal: 54.7s\tremaining: 6.42s\n",
            "895:\tlearn: 0.9576777\ttest: 0.9405777\tbest: 0.9415347 (345)\ttotal: 54.8s\tremaining: 6.36s\n",
            "896:\tlearn: 0.9576777\ttest: 0.9405777\tbest: 0.9415347 (345)\ttotal: 54.9s\tremaining: 6.3s\n",
            "897:\tlearn: 0.9577523\ttest: 0.9405777\tbest: 0.9415347 (345)\ttotal: 54.9s\tremaining: 6.24s\n",
            "898:\tlearn: 0.9577895\ttest: 0.9405777\tbest: 0.9415347 (345)\ttotal: 55s\tremaining: 6.18s\n",
            "899:\tlearn: 0.9577895\ttest: 0.9406647\tbest: 0.9415347 (345)\ttotal: 55s\tremaining: 6.11s\n",
            "900:\tlearn: 0.9577895\ttest: 0.9407517\tbest: 0.9415347 (345)\ttotal: 55.1s\tremaining: 6.05s\n",
            "901:\tlearn: 0.9579014\ttest: 0.9406647\tbest: 0.9415347 (345)\ttotal: 55.1s\tremaining: 5.99s\n",
            "902:\tlearn: 0.9579387\ttest: 0.9405777\tbest: 0.9415347 (345)\ttotal: 55.2s\tremaining: 5.93s\n",
            "903:\tlearn: 0.9579387\ttest: 0.9405777\tbest: 0.9415347 (345)\ttotal: 55.3s\tremaining: 5.87s\n",
            "904:\tlearn: 0.9579387\ttest: 0.9405777\tbest: 0.9415347 (345)\ttotal: 55.3s\tremaining: 5.81s\n",
            "905:\tlearn: 0.9580506\ttest: 0.9406647\tbest: 0.9415347 (345)\ttotal: 55.4s\tremaining: 5.75s\n",
            "906:\tlearn: 0.9580879\ttest: 0.9405777\tbest: 0.9415347 (345)\ttotal: 55.4s\tremaining: 5.68s\n",
            "907:\tlearn: 0.9581251\ttest: 0.9406647\tbest: 0.9415347 (345)\ttotal: 55.5s\tremaining: 5.62s\n",
            "908:\tlearn: 0.9581624\ttest: 0.9408387\tbest: 0.9415347 (345)\ttotal: 55.6s\tremaining: 5.56s\n",
            "909:\tlearn: 0.9581624\ttest: 0.9408387\tbest: 0.9415347 (345)\ttotal: 55.6s\tremaining: 5.5s\n",
            "910:\tlearn: 0.9581997\ttest: 0.9408387\tbest: 0.9415347 (345)\ttotal: 55.7s\tremaining: 5.44s\n",
            "911:\tlearn: 0.9581624\ttest: 0.9408387\tbest: 0.9415347 (345)\ttotal: 55.8s\tremaining: 5.38s\n",
            "912:\tlearn: 0.9581624\ttest: 0.9408387\tbest: 0.9415347 (345)\ttotal: 55.8s\tremaining: 5.32s\n",
            "913:\tlearn: 0.9581624\ttest: 0.9408387\tbest: 0.9415347 (345)\ttotal: 55.9s\tremaining: 5.26s\n",
            "914:\tlearn: 0.9582370\ttest: 0.9408387\tbest: 0.9415347 (345)\ttotal: 55.9s\tremaining: 5.2s\n",
            "915:\tlearn: 0.9582370\ttest: 0.9408387\tbest: 0.9415347 (345)\ttotal: 56s\tremaining: 5.13s\n",
            "916:\tlearn: 0.9582743\ttest: 0.9408387\tbest: 0.9415347 (345)\ttotal: 56.1s\tremaining: 5.07s\n",
            "917:\tlearn: 0.9582743\ttest: 0.9408387\tbest: 0.9415347 (345)\ttotal: 56.1s\tremaining: 5.01s\n",
            "918:\tlearn: 0.9582370\ttest: 0.9408387\tbest: 0.9415347 (345)\ttotal: 56.2s\tremaining: 4.95s\n",
            "919:\tlearn: 0.9582743\ttest: 0.9408387\tbest: 0.9415347 (345)\ttotal: 56.3s\tremaining: 4.89s\n",
            "920:\tlearn: 0.9584607\ttest: 0.9407517\tbest: 0.9415347 (345)\ttotal: 56.3s\tremaining: 4.83s\n",
            "921:\tlearn: 0.9584234\ttest: 0.9407517\tbest: 0.9415347 (345)\ttotal: 56.4s\tremaining: 4.77s\n",
            "922:\tlearn: 0.9584234\ttest: 0.9407517\tbest: 0.9415347 (345)\ttotal: 56.5s\tremaining: 4.71s\n",
            "923:\tlearn: 0.9584234\ttest: 0.9407517\tbest: 0.9415347 (345)\ttotal: 56.5s\tremaining: 4.65s\n",
            "924:\tlearn: 0.9583862\ttest: 0.9407517\tbest: 0.9415347 (345)\ttotal: 56.6s\tremaining: 4.59s\n",
            "925:\tlearn: 0.9583489\ttest: 0.9407517\tbest: 0.9415347 (345)\ttotal: 56.7s\tremaining: 4.53s\n",
            "926:\tlearn: 0.9584234\ttest: 0.9407517\tbest: 0.9415347 (345)\ttotal: 56.7s\tremaining: 4.47s\n",
            "927:\tlearn: 0.9584607\ttest: 0.9407517\tbest: 0.9415347 (345)\ttotal: 56.8s\tremaining: 4.41s\n",
            "928:\tlearn: 0.9584980\ttest: 0.9408387\tbest: 0.9415347 (345)\ttotal: 56.9s\tremaining: 4.34s\n",
            "929:\tlearn: 0.9584980\ttest: 0.9408387\tbest: 0.9415347 (345)\ttotal: 56.9s\tremaining: 4.28s\n",
            "930:\tlearn: 0.9585353\ttest: 0.9407517\tbest: 0.9415347 (345)\ttotal: 57s\tremaining: 4.22s\n",
            "931:\tlearn: 0.9585353\ttest: 0.9407517\tbest: 0.9415347 (345)\ttotal: 57s\tremaining: 4.16s\n",
            "932:\tlearn: 0.9585353\ttest: 0.9406647\tbest: 0.9415347 (345)\ttotal: 57.1s\tremaining: 4.1s\n",
            "933:\tlearn: 0.9585726\ttest: 0.9406647\tbest: 0.9415347 (345)\ttotal: 57.2s\tremaining: 4.04s\n",
            "934:\tlearn: 0.9585353\ttest: 0.9407517\tbest: 0.9415347 (345)\ttotal: 57.2s\tremaining: 3.98s\n",
            "935:\tlearn: 0.9585726\ttest: 0.9405777\tbest: 0.9415347 (345)\ttotal: 57.3s\tremaining: 3.92s\n",
            "936:\tlearn: 0.9584980\ttest: 0.9404907\tbest: 0.9415347 (345)\ttotal: 57.3s\tremaining: 3.85s\n",
            "937:\tlearn: 0.9584980\ttest: 0.9404907\tbest: 0.9415347 (345)\ttotal: 57.4s\tremaining: 3.79s\n",
            "938:\tlearn: 0.9585353\ttest: 0.9406647\tbest: 0.9415347 (345)\ttotal: 57.5s\tremaining: 3.73s\n",
            "939:\tlearn: 0.9586472\ttest: 0.9406647\tbest: 0.9415347 (345)\ttotal: 57.5s\tremaining: 3.67s\n",
            "940:\tlearn: 0.9586099\ttest: 0.9406647\tbest: 0.9415347 (345)\ttotal: 57.6s\tremaining: 3.61s\n",
            "941:\tlearn: 0.9586472\ttest: 0.9407517\tbest: 0.9415347 (345)\ttotal: 57.7s\tremaining: 3.55s\n",
            "942:\tlearn: 0.9586845\ttest: 0.9407517\tbest: 0.9415347 (345)\ttotal: 57.8s\tremaining: 3.49s\n",
            "943:\tlearn: 0.9587963\ttest: 0.9408387\tbest: 0.9415347 (345)\ttotal: 57.8s\tremaining: 3.43s\n",
            "944:\tlearn: 0.9588336\ttest: 0.9408387\tbest: 0.9415347 (345)\ttotal: 57.9s\tremaining: 3.37s\n",
            "945:\tlearn: 0.9588709\ttest: 0.9407517\tbest: 0.9415347 (345)\ttotal: 58s\tremaining: 3.31s\n",
            "946:\tlearn: 0.9589082\ttest: 0.9407517\tbest: 0.9415347 (345)\ttotal: 58s\tremaining: 3.25s\n",
            "947:\tlearn: 0.9589082\ttest: 0.9407517\tbest: 0.9415347 (345)\ttotal: 58.1s\tremaining: 3.19s\n",
            "948:\tlearn: 0.9589828\ttest: 0.9407517\tbest: 0.9415347 (345)\ttotal: 58.1s\tremaining: 3.12s\n",
            "949:\tlearn: 0.9589828\ttest: 0.9407517\tbest: 0.9415347 (345)\ttotal: 58.2s\tremaining: 3.06s\n",
            "950:\tlearn: 0.9591319\ttest: 0.9407517\tbest: 0.9415347 (345)\ttotal: 58.3s\tremaining: 3s\n",
            "951:\tlearn: 0.9591319\ttest: 0.9407517\tbest: 0.9415347 (345)\ttotal: 58.3s\tremaining: 2.94s\n",
            "952:\tlearn: 0.9590946\ttest: 0.9407517\tbest: 0.9415347 (345)\ttotal: 58.4s\tremaining: 2.88s\n",
            "953:\tlearn: 0.9592065\ttest: 0.9407517\tbest: 0.9415347 (345)\ttotal: 58.4s\tremaining: 2.82s\n",
            "954:\tlearn: 0.9592811\ttest: 0.9407517\tbest: 0.9415347 (345)\ttotal: 58.5s\tremaining: 2.75s\n",
            "955:\tlearn: 0.9593184\ttest: 0.9405777\tbest: 0.9415347 (345)\ttotal: 58.5s\tremaining: 2.69s\n",
            "956:\tlearn: 0.9593929\ttest: 0.9404037\tbest: 0.9415347 (345)\ttotal: 58.6s\tremaining: 2.63s\n",
            "957:\tlearn: 0.9594302\ttest: 0.9403167\tbest: 0.9415347 (345)\ttotal: 58.7s\tremaining: 2.57s\n",
            "958:\tlearn: 0.9595048\ttest: 0.9403167\tbest: 0.9415347 (345)\ttotal: 58.7s\tremaining: 2.51s\n",
            "959:\tlearn: 0.9595794\ttest: 0.9403167\tbest: 0.9415347 (345)\ttotal: 58.8s\tremaining: 2.45s\n",
            "960:\tlearn: 0.9596540\ttest: 0.9403167\tbest: 0.9415347 (345)\ttotal: 58.8s\tremaining: 2.39s\n",
            "961:\tlearn: 0.9595048\ttest: 0.9403167\tbest: 0.9415347 (345)\ttotal: 58.9s\tremaining: 2.33s\n",
            "962:\tlearn: 0.9594302\ttest: 0.9404037\tbest: 0.9415347 (345)\ttotal: 58.9s\tremaining: 2.26s\n",
            "963:\tlearn: 0.9594302\ttest: 0.9404037\tbest: 0.9415347 (345)\ttotal: 59s\tremaining: 2.2s\n",
            "964:\tlearn: 0.9594675\ttest: 0.9403167\tbest: 0.9415347 (345)\ttotal: 59.1s\tremaining: 2.14s\n",
            "965:\tlearn: 0.9595421\ttest: 0.9402297\tbest: 0.9415347 (345)\ttotal: 59.1s\tremaining: 2.08s\n",
            "966:\tlearn: 0.9595794\ttest: 0.9402297\tbest: 0.9415347 (345)\ttotal: 59.2s\tremaining: 2.02s\n",
            "967:\tlearn: 0.9595421\ttest: 0.9402297\tbest: 0.9415347 (345)\ttotal: 59.3s\tremaining: 1.96s\n",
            "968:\tlearn: 0.9596167\ttest: 0.9402297\tbest: 0.9415347 (345)\ttotal: 59.3s\tremaining: 1.9s\n",
            "969:\tlearn: 0.9596167\ttest: 0.9401427\tbest: 0.9415347 (345)\ttotal: 59.4s\tremaining: 1.84s\n",
            "970:\tlearn: 0.9595794\ttest: 0.9401427\tbest: 0.9415347 (345)\ttotal: 59.4s\tremaining: 1.77s\n",
            "971:\tlearn: 0.9596913\ttest: 0.9402297\tbest: 0.9415347 (345)\ttotal: 59.5s\tremaining: 1.71s\n",
            "972:\tlearn: 0.9596913\ttest: 0.9402297\tbest: 0.9415347 (345)\ttotal: 59.6s\tremaining: 1.65s\n",
            "973:\tlearn: 0.9598031\ttest: 0.9403167\tbest: 0.9415347 (345)\ttotal: 59.6s\tremaining: 1.59s\n",
            "974:\tlearn: 0.9598404\ttest: 0.9402297\tbest: 0.9415347 (345)\ttotal: 59.7s\tremaining: 1.53s\n",
            "975:\tlearn: 0.9598777\ttest: 0.9402297\tbest: 0.9415347 (345)\ttotal: 59.8s\tremaining: 1.47s\n",
            "976:\tlearn: 0.9599523\ttest: 0.9402297\tbest: 0.9415347 (345)\ttotal: 59.8s\tremaining: 1.41s\n",
            "977:\tlearn: 0.9600268\ttest: 0.9402297\tbest: 0.9415347 (345)\ttotal: 59.9s\tremaining: 1.35s\n",
            "978:\tlearn: 0.9599896\ttest: 0.9402297\tbest: 0.9415347 (345)\ttotal: 59.9s\tremaining: 1.28s\n",
            "979:\tlearn: 0.9598777\ttest: 0.9403167\tbest: 0.9415347 (345)\ttotal: 60s\tremaining: 1.22s\n",
            "980:\tlearn: 0.9599523\ttest: 0.9403167\tbest: 0.9415347 (345)\ttotal: 1m\tremaining: 1.16s\n",
            "981:\tlearn: 0.9599523\ttest: 0.9403167\tbest: 0.9415347 (345)\ttotal: 1m\tremaining: 1.1s\n",
            "982:\tlearn: 0.9599896\ttest: 0.9403167\tbest: 0.9415347 (345)\ttotal: 1m\tremaining: 1.04s\n",
            "983:\tlearn: 0.9600268\ttest: 0.9402297\tbest: 0.9415347 (345)\ttotal: 1m\tremaining: 980ms\n",
            "984:\tlearn: 0.9600268\ttest: 0.9402297\tbest: 0.9415347 (345)\ttotal: 1m\tremaining: 918ms\n",
            "985:\tlearn: 0.9601014\ttest: 0.9402297\tbest: 0.9415347 (345)\ttotal: 1m\tremaining: 857ms\n",
            "986:\tlearn: 0.9601387\ttest: 0.9402297\tbest: 0.9415347 (345)\ttotal: 1m\tremaining: 796ms\n",
            "987:\tlearn: 0.9601014\ttest: 0.9401427\tbest: 0.9415347 (345)\ttotal: 1m\tremaining: 735ms\n",
            "988:\tlearn: 0.9601014\ttest: 0.9401427\tbest: 0.9415347 (345)\ttotal: 1m\tremaining: 673ms\n",
            "989:\tlearn: 0.9602133\ttest: 0.9400557\tbest: 0.9415347 (345)\ttotal: 1m\tremaining: 612ms\n",
            "990:\tlearn: 0.9602879\ttest: 0.9401427\tbest: 0.9415347 (345)\ttotal: 1m\tremaining: 551ms\n",
            "991:\tlearn: 0.9603624\ttest: 0.9401427\tbest: 0.9415347 (345)\ttotal: 1m\tremaining: 490ms\n",
            "992:\tlearn: 0.9603624\ttest: 0.9401427\tbest: 0.9415347 (345)\ttotal: 1m\tremaining: 428ms\n",
            "993:\tlearn: 0.9603997\ttest: 0.9401427\tbest: 0.9415347 (345)\ttotal: 1m\tremaining: 367ms\n",
            "994:\tlearn: 0.9604743\ttest: 0.9401427\tbest: 0.9415347 (345)\ttotal: 1m\tremaining: 306ms\n",
            "995:\tlearn: 0.9605116\ttest: 0.9401427\tbest: 0.9415347 (345)\ttotal: 1m\tremaining: 245ms\n",
            "996:\tlearn: 0.9605116\ttest: 0.9401427\tbest: 0.9415347 (345)\ttotal: 1m 1s\tremaining: 184ms\n",
            "997:\tlearn: 0.9604743\ttest: 0.9401427\tbest: 0.9415347 (345)\ttotal: 1m 1s\tremaining: 122ms\n",
            "998:\tlearn: 0.9605489\ttest: 0.9401427\tbest: 0.9415347 (345)\ttotal: 1m 1s\tremaining: 61.2ms\n",
            "999:\tlearn: 0.9605489\ttest: 0.9401427\tbest: 0.9415347 (345)\ttotal: 1m 1s\tremaining: 0us\n",
            "\n",
            "bestTest = 0.9415347138\n",
            "bestIteration = 345\n",
            "\n",
            "Shrink model to first 346 iterations.\n"
          ],
          "name": "stdout"
        },
        {
          "output_type": "execute_result",
          "data": {
            "text/plain": [
              "<catboost.core.CatBoostClassifier at 0x7f0c2a7f1e10>"
            ]
          },
          "metadata": {
            "tags": []
          },
          "execution_count": 68
        }
      ]
    },
    {
      "cell_type": "code",
      "metadata": {
        "colab_type": "code",
        "id": "L6szzGvZO_n_",
        "outputId": "8a2deffc-11d0-4057-b435-59f529b9465e",
        "colab": {
          "base_uri": "https://localhost:8080/",
          "height": 34
        }
      },
      "source": [
        "print('the test accuracy is :{:.6f}'.format(accuracy_score(y_test,clf8.predict(X_test))))"
      ],
      "execution_count": 0,
      "outputs": [
        {
          "output_type": "stream",
          "text": [
            "the test accuracy is :0.941535\n"
          ],
          "name": "stdout"
        }
      ]
    },
    {
      "cell_type": "markdown",
      "metadata": {
        "colab_type": "text",
        "id": "Wp4fw8ZQYuQ8"
      },
      "source": [
        "## Test"
      ]
    },
    {
      "cell_type": "code",
      "metadata": {
        "colab_type": "code",
        "id": "OIZjAqAXqiaW",
        "colab": {}
      },
      "source": [
        "y_pred = clf8.predict(X_test)"
      ],
      "execution_count": 0,
      "outputs": []
    },
    {
      "cell_type": "code",
      "metadata": {
        "colab_type": "code",
        "id": "PZJxAWga8wrf",
        "outputId": "98b8e426-a9ee-4e9a-968f-c81992e67776",
        "colab": {
          "base_uri": "https://localhost:8080/",
          "height": 238
        }
      },
      "source": [
        "# Run classification metrics\n",
        "print('accuracy')\n",
        "print(accuracy_score(y_test, y_pred))\n",
        "print('f1 score')\n",
        "print(f1_score(y_test, y_pred, average='weighted'))\n",
        "print(classification_report(y_test, y_pred))"
      ],
      "execution_count": 0,
      "outputs": [
        {
          "output_type": "stream",
          "text": [
            "accuracy\n",
            "0.9415347137637028\n",
            "f1 score\n",
            "0.9282063324329021\n",
            "              precision    recall  f1-score   support\n",
            "\n",
            "           0       0.94      1.00      0.97     10509\n",
            "           1       0.96      0.33      0.49       985\n",
            "\n",
            "    accuracy                           0.94     11494\n",
            "   macro avg       0.95      0.67      0.73     11494\n",
            "weighted avg       0.94      0.94      0.93     11494\n",
            "\n"
          ],
          "name": "stdout"
        }
      ]
    },
    {
      "cell_type": "code",
      "metadata": {
        "colab_type": "code",
        "id": "PXYBXBG8rnL7",
        "outputId": "67a8a9bb-ee19-488c-a665-c75fd83e9a08",
        "colab": {
          "base_uri": "https://localhost:8080/",
          "height": 111
        }
      },
      "source": [
        "pd.DataFrame(confusion_matrix(y_test, y_pred))"
      ],
      "execution_count": 0,
      "outputs": [
        {
          "output_type": "execute_result",
          "data": {
            "text/html": [
              "<div>\n",
              "<style scoped>\n",
              "    .dataframe tbody tr th:only-of-type {\n",
              "        vertical-align: middle;\n",
              "    }\n",
              "\n",
              "    .dataframe tbody tr th {\n",
              "        vertical-align: top;\n",
              "    }\n",
              "\n",
              "    .dataframe thead th {\n",
              "        text-align: right;\n",
              "    }\n",
              "</style>\n",
              "<table border=\"1\" class=\"dataframe\">\n",
              "  <thead>\n",
              "    <tr style=\"text-align: right;\">\n",
              "      <th></th>\n",
              "      <th>0</th>\n",
              "      <th>1</th>\n",
              "    </tr>\n",
              "  </thead>\n",
              "  <tbody>\n",
              "    <tr>\n",
              "      <th>0</th>\n",
              "      <td>10495</td>\n",
              "      <td>14</td>\n",
              "    </tr>\n",
              "    <tr>\n",
              "      <th>1</th>\n",
              "      <td>658</td>\n",
              "      <td>327</td>\n",
              "    </tr>\n",
              "  </tbody>\n",
              "</table>\n",
              "</div>"
            ],
            "text/plain": [
              "       0    1\n",
              "0  10495   14\n",
              "1    658  327"
            ]
          },
          "metadata": {
            "tags": []
          },
          "execution_count": 72
        }
      ]
    },
    {
      "cell_type": "markdown",
      "metadata": {
        "colab_type": "text",
        "id": "M1QttnOc3wYE"
      },
      "source": [
        "## Make Predictions"
      ]
    },
    {
      "cell_type": "code",
      "metadata": {
        "colab_type": "code",
        "id": "uTLvHE5A4D0E",
        "outputId": "9d6f70ef-2f48-4ef0-b96c-2dc80cc6a70f",
        "colab": {
          "base_uri": "https://localhost:8080/",
          "height": 34
        }
      },
      "source": [
        "sub_test = test[columns]\n",
        "\n",
        "# Print shapes\n",
        "print(sub_test.shape)"
      ],
      "execution_count": 0,
      "outputs": [
        {
          "output_type": "stream",
          "text": [
            "(16496, 17)\n"
          ],
          "name": "stdout"
        }
      ]
    },
    {
      "cell_type": "code",
      "metadata": {
        "colab_type": "code",
        "id": "an_3TBg2TM3y",
        "outputId": "8670b479-335d-4794-a42a-a094e47bd445",
        "colab": {
          "base_uri": "https://localhost:8080/",
          "height": 34
        }
      },
      "source": [
        "sub_pred = clf8.predict(sub_test)\n",
        "sub_pred"
      ],
      "execution_count": 0,
      "outputs": [
        {
          "output_type": "execute_result",
          "data": {
            "text/plain": [
              "array([0., 0., 0., ..., 0., 0., 0.])"
            ]
          },
          "metadata": {
            "tags": []
          },
          "execution_count": 74
        }
      ]
    },
    {
      "cell_type": "code",
      "metadata": {
        "colab_type": "code",
        "id": "0AJ7vp7VrxFn",
        "colab": {}
      },
      "source": [
        "test[\"Promoted_or_Not\"] = sub_pred\n",
        "test[\"Promoted_or_Not\"] = test[\"Promoted_or_Not\"].astype('int64')"
      ],
      "execution_count": 0,
      "outputs": []
    },
    {
      "cell_type": "code",
      "metadata": {
        "colab_type": "code",
        "id": "yx1HL1FS5gVw",
        "outputId": "382e09a7-d58f-4276-e8a2-f2517267510d",
        "colab": {
          "base_uri": "https://localhost:8080/",
          "height": 68
        }
      },
      "source": [
        "test.Promoted_or_Not.value_counts()"
      ],
      "execution_count": 0,
      "outputs": [
        {
          "output_type": "execute_result",
          "data": {
            "text/plain": [
              "0    15987\n",
              "1      509\n",
              "Name: Promoted_or_Not, dtype: int64"
            ]
          },
          "metadata": {
            "tags": []
          },
          "execution_count": 76
        }
      ]
    },
    {
      "cell_type": "code",
      "metadata": {
        "colab_type": "code",
        "id": "ts0YIrXrsAd1",
        "outputId": "79bd0069-b3fa-49da-878d-42eb3e275b4c",
        "colab": {
          "base_uri": "https://localhost:8080/",
          "height": 204
        }
      },
      "source": [
        "submission = test[[\"EmployeeNo\", \"Promoted_or_Not\"]]\n",
        "submission.tail()"
      ],
      "execution_count": 0,
      "outputs": [
        {
          "output_type": "execute_result",
          "data": {
            "text/html": [
              "<div>\n",
              "<style scoped>\n",
              "    .dataframe tbody tr th:only-of-type {\n",
              "        vertical-align: middle;\n",
              "    }\n",
              "\n",
              "    .dataframe tbody tr th {\n",
              "        vertical-align: top;\n",
              "    }\n",
              "\n",
              "    .dataframe thead th {\n",
              "        text-align: right;\n",
              "    }\n",
              "</style>\n",
              "<table border=\"1\" class=\"dataframe\">\n",
              "  <thead>\n",
              "    <tr style=\"text-align: right;\">\n",
              "      <th></th>\n",
              "      <th>EmployeeNo</th>\n",
              "      <th>Promoted_or_Not</th>\n",
              "    </tr>\n",
              "  </thead>\n",
              "  <tbody>\n",
              "    <tr>\n",
              "      <th>16491</th>\n",
              "      <td>YAK/S/54797</td>\n",
              "      <td>1</td>\n",
              "    </tr>\n",
              "    <tr>\n",
              "      <th>16492</th>\n",
              "      <td>YAK/S/54798</td>\n",
              "      <td>0</td>\n",
              "    </tr>\n",
              "    <tr>\n",
              "      <th>16493</th>\n",
              "      <td>YAK/S/54800</td>\n",
              "      <td>0</td>\n",
              "    </tr>\n",
              "    <tr>\n",
              "      <th>16494</th>\n",
              "      <td>YAK/S/54803</td>\n",
              "      <td>0</td>\n",
              "    </tr>\n",
              "    <tr>\n",
              "      <th>16495</th>\n",
              "      <td>YAK/S/54804</td>\n",
              "      <td>0</td>\n",
              "    </tr>\n",
              "  </tbody>\n",
              "</table>\n",
              "</div>"
            ],
            "text/plain": [
              "        EmployeeNo  Promoted_or_Not\n",
              "16491  YAK/S/54797                1\n",
              "16492  YAK/S/54798                0\n",
              "16493  YAK/S/54800                0\n",
              "16494  YAK/S/54803                0\n",
              "16495  YAK/S/54804                0"
            ]
          },
          "metadata": {
            "tags": []
          },
          "execution_count": 77
        }
      ]
    },
    {
      "cell_type": "code",
      "metadata": {
        "colab_type": "code",
        "id": "7dCNphPUUYu-",
        "colab": {}
      },
      "source": [
        "submission.to_csv('submissionyb.csv',index=False)"
      ],
      "execution_count": 0,
      "outputs": []
    },
    {
      "cell_type": "code",
      "metadata": {
        "colab_type": "code",
        "id": "eBeJeRr7_MnH",
        "colab": {}
      },
      "source": [
        ""
      ],
      "execution_count": 0,
      "outputs": []
    }
  ]
}